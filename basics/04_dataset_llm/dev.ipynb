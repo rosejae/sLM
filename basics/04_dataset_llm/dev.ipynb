{
 "cells": [
  {
   "cell_type": "code",
   "execution_count": 8,
   "id": "1e5804b2",
   "metadata": {},
   "outputs": [],
   "source": [
    "from openai import AzureOpenAI\n",
    "from openai._exceptions import RateLimitError, APITimeoutError, OpenAIError\n",
    "\n",
    "import os\n",
    "import yaml\n",
    "\n",
    "def get_auth():\n",
    "    # curr_dir = os.getcwd()\n",
    "    auth_path = r'.\\auth.yml'\n",
    "    auth = yaml.safe_load(open(auth_path, encoding='utf-8'))\n",
    "    return auth"
   ]
  },
  {
   "cell_type": "code",
   "execution_count": 12,
   "id": "10b1e985",
   "metadata": {},
   "outputs": [
    {
     "name": "stdout",
     "output_type": "stream",
     "text": [
      "안녕하세요! 저는 정보를 제공해주는 AI 어시스턴트입니다. 이름은 따로 없지만 여러분이 사용하실 때 도움이 되도록 최선을 다하겠습니다. 궁금한 것이 있으시면 언제든지 물어보세요!\n"
     ]
    }
   ],
   "source": [
    "def get_auth():\n",
    "    curr_dir = os.getcwd()\n",
    "    auth_path = os.path.join(curr_dir, 'auth.yml')\n",
    "    auth = yaml.safe_load(open(auth_path, encoding='utf-8'))\n",
    "    return auth\n",
    "\n",
    "auth = get_auth()\n",
    "endpoint = f\"https://{auth['Azure_OpenAI']['name']}.cognitiveservices.azure.com/\"\n",
    "model_name = \"gpt-35-turbo\"\n",
    "deployment = \"gpt-35-turbo\"\n",
    "\n",
    "subscription_key = auth['Azure_OpenAI']['key']\n",
    "api_version = \"2024-12-01-preview\"\n",
    "\n",
    "client = AzureOpenAI(\n",
    "    api_version=api_version,\n",
    "    azure_endpoint=endpoint,\n",
    "    api_key=subscription_key,\n",
    ")\n",
    "\n",
    "system_message = \"You are an AI assistant that helps people find information.\"\n",
    "query = \"안녕 넌 이름이 뭐야\"\n",
    "\n",
    "messages = [{\"role\":\"system\", \"content\":f\"{system_message}\"}]\n",
    "messages.append({\"role\":\"user\", \"content\":f\"{query}\"})\n",
    "\n",
    "try:\n",
    "    response = client.chat.completions.create(\n",
    "        model=deployment,\n",
    "        messages=messages,\n",
    "        temperature=0.7,\n",
    "    ).choices[0].message.content\n",
    "except RateLimitError:\n",
    "    print(\"OpenAI API RateLimitError occurred!\")\n",
    "except APITimeoutError:\n",
    "    print(\"OpenAI API Timeout occurred!\")\n",
    "except OpenAIError as e:\n",
    "    print(f\"기타 OpenAI API 오류: {e}\")\n",
    "\n",
    "print(response)"
   ]
  },
  {
   "cell_type": "code",
   "execution_count": null,
   "id": "25b911d9",
   "metadata": {},
   "outputs": [],
   "source": []
  },
  {
   "cell_type": "code",
   "execution_count": null,
   "id": "d79db9e9",
   "metadata": {},
   "outputs": [],
   "source": []
  }
 ],
 "metadata": {
  "kernelspec": {
   "display_name": "torch",
   "language": "python",
   "name": "python3"
  },
  "language_info": {
   "codemirror_mode": {
    "name": "ipython",
    "version": 3
   },
   "file_extension": ".py",
   "mimetype": "text/x-python",
   "name": "python",
   "nbconvert_exporter": "python",
   "pygments_lexer": "ipython3",
   "version": "3.11.8"
  }
 },
 "nbformat": 4,
 "nbformat_minor": 5
}
