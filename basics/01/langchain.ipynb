{
 "cells": [
  {
   "cell_type": "code",
   "execution_count": 1,
   "id": "5c1e620d",
   "metadata": {},
   "outputs": [],
   "source": [
    "import os\n",
    "\n",
    "from langchain_openai import ChatOpenAI\n",
    "from dotenv import load_dotenv\n",
    "\n",
    "load_dotenv()\n",
    "model = ChatOpenAI(model=\"gpt-4o\")"
   ]
  },
  {
   "cell_type": "code",
   "execution_count": 2,
   "id": "d4d12cab",
   "metadata": {},
   "outputs": [
    {
     "data": {
      "text/plain": [
       "AIMessage(content='Ciao!', additional_kwargs={'refusal': None}, response_metadata={'token_usage': {'completion_tokens': 3, 'prompt_tokens': 20, 'total_tokens': 23, 'completion_tokens_details': {'accepted_prediction_tokens': 0, 'audio_tokens': 0, 'reasoning_tokens': 0, 'rejected_prediction_tokens': 0}, 'prompt_tokens_details': {'audio_tokens': 0, 'cached_tokens': 0}}, 'model_name': 'gpt-4o-2024-08-06', 'system_fingerprint': None, 'id': 'chatcmpl-Bt1fuWkz5RKZvrBD3Gxm3AeUlM3jc', 'service_tier': 'default', 'finish_reason': 'stop', 'logprobs': None}, id='run--2e57f2fa-1b89-4ef1-adeb-ed416d13ec43-0', usage_metadata={'input_tokens': 20, 'output_tokens': 3, 'total_tokens': 23, 'input_token_details': {'audio': 0, 'cache_read': 0}, 'output_token_details': {'audio': 0, 'reasoning': 0}})"
      ]
     },
     "execution_count": 2,
     "metadata": {},
     "output_type": "execute_result"
    }
   ],
   "source": [
    "from langchain_core.messages import HumanMessage, SystemMessage\n",
    "\n",
    "messages = [\n",
    "    SystemMessage(content=\"Translate the following from English into Italian\"),\n",
    "    HumanMessage(content=\"hi!\"),\n",
    "]\n",
    "\n",
    "model.invoke(messages)"
   ]
  },
  {
   "cell_type": "markdown",
   "id": "55ec7b7a",
   "metadata": {},
   "source": [
    "## <font color=yellow>1. OutputParsers </font>\n",
    "- 위 model.invoke에서는 ai가 내뱉는 용어들이 많이 포함되어 있음\n",
    "- 사람에게 필요한 단어만 적절히 추출"
   ]
  },
  {
   "cell_type": "code",
   "execution_count": 3,
   "id": "e80e8cd9",
   "metadata": {},
   "outputs": [
    {
     "data": {
      "text/plain": [
       "'Ciao!'"
      ]
     },
     "execution_count": 3,
     "metadata": {},
     "output_type": "execute_result"
    }
   ],
   "source": [
    "from langchain_core.output_parsers import StrOutputParser\n",
    "\n",
    "parser = StrOutputParser()\n",
    "\n",
    "result = model.invoke(messages)\n",
    "parser.invoke(result)"
   ]
  },
  {
   "cell_type": "markdown",
   "id": "f3cec8cd",
   "metadata": {},
   "source": [
    "## <font color=yellow>2. Prompt Templates </font>"
   ]
  },
  {
   "cell_type": "code",
   "execution_count": null,
   "id": "99d57c96",
   "metadata": {},
   "outputs": [
    {
     "data": {
      "text/plain": [
       "ChatPromptValue(messages=[SystemMessage(content='Translate the following into italian:', additional_kwargs={}, response_metadata={}), HumanMessage(content='hi', additional_kwargs={}, response_metadata={})])"
      ]
     },
     "execution_count": 4,
     "metadata": {},
     "output_type": "execute_result"
    }
   ],
   "source": [
    "from langchain_core.prompts import ChatPromptTemplate\n",
    "\n",
    "system_template = \"Translate the following into {language}:\"\n",
    "prompt_template = ChatPromptTemplate.from_messages(\n",
    "    [(\"system\", system_template), \n",
    "     (\"user\", \"{text}\"),\n",
    "     ])\n",
    "\n",
    "result = prompt_template.invoke({\"language\": \"italian\", \"text\": \"hi\"})\n",
    "\n",
    "result"
   ]
  },
  {
   "cell_type": "code",
   "execution_count": 5,
   "id": "bb1dd47f",
   "metadata": {},
   "outputs": [
    {
     "data": {
      "text/plain": [
       "[SystemMessage(content='Translate the following into italian:', additional_kwargs={}, response_metadata={}),\n",
       " HumanMessage(content='hi', additional_kwargs={}, response_metadata={})]"
      ]
     },
     "execution_count": 5,
     "metadata": {},
     "output_type": "execute_result"
    }
   ],
   "source": [
    "result.to_messages()"
   ]
  },
  {
   "cell_type": "markdown",
   "id": "75f85712",
   "metadata": {},
   "source": [
    "## <font color=yellow>3. Vector stores and Retrievers </font>\n",
    "- vector stores"
   ]
  },
  {
   "cell_type": "code",
   "execution_count": 6,
   "id": "e18b2db5",
   "metadata": {},
   "outputs": [],
   "source": [
    "from langchain_core.documents import Document\n",
    "\n",
    "documents = [\n",
    "    Document(\n",
    "        page_content=\"Dogs are great companions, known for their loyalty and friendliness.\",\n",
    "        metadata={\"source\": \"mammal-pets-doc\"},\n",
    "    ),\n",
    "    Document(\n",
    "        page_content=\"Cats are independent pets that often enjoy their own space.\",\n",
    "        metadata={\"source\": \"mammal-pets-doc\"},\n",
    "    ),\n",
    "    Document(\n",
    "        page_content=\"Goldfish are popular pets for beginners, requiring relatively simple care.\",\n",
    "        metadata={\"source\": \"fish-pets-doc\"},\n",
    "    ),\n",
    "    Document(\n",
    "        page_content=\"Parrots are intelligent birds capable of mimicking human speech.\",\n",
    "        metadata={\"source\": \"bird-pets-doc\"},\n",
    "    ),\n",
    "    Document(\n",
    "        page_content=\"Rabbits are social animals that need plenty of space to hop around.\",\n",
    "        metadata={\"source\": \"mammal-pets-doc\"},\n",
    "    ),\n",
    "]"
   ]
  },
  {
   "cell_type": "code",
   "execution_count": 7,
   "id": "527bd1c3",
   "metadata": {},
   "outputs": [],
   "source": [
    "from langchain_chroma import Chroma\n",
    "from langchain_openai import OpenAIEmbeddings\n",
    "\n",
    "vectorstore = Chroma.from_documents(\n",
    "    documents,\n",
    "    embedding=OpenAIEmbeddings(),\n",
    ")"
   ]
  },
  {
   "cell_type": "code",
   "execution_count": 8,
   "id": "84bf65f2",
   "metadata": {},
   "outputs": [
    {
     "data": {
      "text/plain": [
       "[Document(id='de53f605-8091-46f7-aa25-5da51622ef8d', metadata={'source': 'mammal-pets-doc'}, page_content='Cats are independent pets that often enjoy their own space.'),\n",
       " Document(id='f60a0089-b9d2-42c4-a929-86325237a9f4', metadata={'source': 'mammal-pets-doc'}, page_content='Dogs are great companions, known for their loyalty and friendliness.'),\n",
       " Document(id='c4d0666c-d348-4915-97c5-ef5abde69a64', metadata={'source': 'mammal-pets-doc'}, page_content='Rabbits are social animals that need plenty of space to hop around.'),\n",
       " Document(id='269edc07-cc48-45f1-accd-929c7594e51e', metadata={'source': 'bird-pets-doc'}, page_content='Parrots are intelligent birds capable of mimicking human speech.')]"
      ]
     },
     "execution_count": 8,
     "metadata": {},
     "output_type": "execute_result"
    }
   ],
   "source": [
    "vectorstore.similarity_search(\"cat\")"
   ]
  },
  {
   "cell_type": "code",
   "execution_count": 9,
   "id": "a9dca0f5",
   "metadata": {},
   "outputs": [
    {
     "data": {
      "text/plain": [
       "[Document(id='de53f605-8091-46f7-aa25-5da51622ef8d', metadata={'source': 'mammal-pets-doc'}, page_content='Cats are independent pets that often enjoy their own space.'),\n",
       " Document(id='f60a0089-b9d2-42c4-a929-86325237a9f4', metadata={'source': 'mammal-pets-doc'}, page_content='Dogs are great companions, known for their loyalty and friendliness.'),\n",
       " Document(id='c4d0666c-d348-4915-97c5-ef5abde69a64', metadata={'source': 'mammal-pets-doc'}, page_content='Rabbits are social animals that need plenty of space to hop around.'),\n",
       " Document(id='269edc07-cc48-45f1-accd-929c7594e51e', metadata={'source': 'bird-pets-doc'}, page_content='Parrots are intelligent birds capable of mimicking human speech.')]"
      ]
     },
     "execution_count": 9,
     "metadata": {},
     "output_type": "execute_result"
    }
   ],
   "source": [
    "# Async query:\n",
    "await vectorstore.asimilarity_search(\"cat\")"
   ]
  },
  {
   "cell_type": "code",
   "execution_count": 10,
   "id": "06664f73",
   "metadata": {},
   "outputs": [
    {
     "data": {
      "text/plain": [
       "[(Document(id='de53f605-8091-46f7-aa25-5da51622ef8d', metadata={'source': 'mammal-pets-doc'}, page_content='Cats are independent pets that often enjoy their own space.'),\n",
       "  0.37521928548812866),\n",
       " (Document(id='f60a0089-b9d2-42c4-a929-86325237a9f4', metadata={'source': 'mammal-pets-doc'}, page_content='Dogs are great companions, known for their loyalty and friendliness.'),\n",
       "  0.4827139973640442),\n",
       " (Document(id='c4d0666c-d348-4915-97c5-ef5abde69a64', metadata={'source': 'mammal-pets-doc'}, page_content='Rabbits are social animals that need plenty of space to hop around.'),\n",
       "  0.495724618434906),\n",
       " (Document(id='269edc07-cc48-45f1-accd-929c7594e51e', metadata={'source': 'bird-pets-doc'}, page_content='Parrots are intelligent birds capable of mimicking human speech.'),\n",
       "  0.49739086627960205)]"
      ]
     },
     "execution_count": 10,
     "metadata": {},
     "output_type": "execute_result"
    }
   ],
   "source": [
    "# Note that providers implement different scores; Chroma here\n",
    "# returns a distance metric that should vary inversely with\n",
    "# similarity.\n",
    "\n",
    "vectorstore.similarity_search_with_score(\"cat\")"
   ]
  },
  {
   "cell_type": "code",
   "execution_count": 11,
   "id": "171ca67d",
   "metadata": {},
   "outputs": [
    {
     "data": {
      "text/plain": [
       "[Document(id='de53f605-8091-46f7-aa25-5da51622ef8d', metadata={'source': 'mammal-pets-doc'}, page_content='Cats are independent pets that often enjoy their own space.'),\n",
       " Document(id='f60a0089-b9d2-42c4-a929-86325237a9f4', metadata={'source': 'mammal-pets-doc'}, page_content='Dogs are great companions, known for their loyalty and friendliness.'),\n",
       " Document(id='c4d0666c-d348-4915-97c5-ef5abde69a64', metadata={'source': 'mammal-pets-doc'}, page_content='Rabbits are social animals that need plenty of space to hop around.'),\n",
       " Document(id='269edc07-cc48-45f1-accd-929c7594e51e', metadata={'source': 'bird-pets-doc'}, page_content='Parrots are intelligent birds capable of mimicking human speech.')]"
      ]
     },
     "execution_count": 11,
     "metadata": {},
     "output_type": "execute_result"
    }
   ],
   "source": [
    "# Return documents based on similarity to a embedded query:\n",
    "embedding = OpenAIEmbeddings().embed_query(\"cat\")\n",
    "\n",
    "vectorstore.similarity_search_by_vector(embedding)"
   ]
  },
  {
   "cell_type": "markdown",
   "id": "04749559",
   "metadata": {},
   "source": [
    "- retriever"
   ]
  },
  {
   "cell_type": "code",
   "execution_count": 12,
   "id": "470db4c6",
   "metadata": {},
   "outputs": [
    {
     "data": {
      "text/plain": [
       "[[Document(id='de53f605-8091-46f7-aa25-5da51622ef8d', metadata={'source': 'mammal-pets-doc'}, page_content='Cats are independent pets that often enjoy their own space.')],\n",
       " [Document(id='cb61d13c-d5da-4f6d-95c0-ad1b267a1dd4', metadata={'source': 'fish-pets-doc'}, page_content='Goldfish are popular pets for beginners, requiring relatively simple care.')]]"
      ]
     },
     "execution_count": 12,
     "metadata": {},
     "output_type": "execute_result"
    }
   ],
   "source": [
    "from typing import List\n",
    "\n",
    "from langchain_core.documents import Document\n",
    "from langchain_core.runnables import RunnableLambda\n",
    "\n",
    "retriever = RunnableLambda(vectorstore.similarity_search).bind(k=1)  # select top result\n",
    "\n",
    "retriever.batch([\"cat\", \"shark\"])"
   ]
  },
  {
   "cell_type": "markdown",
   "id": "71e774c2",
   "metadata": {},
   "source": [
    "- retriever.batch: 키워드가 여러개 들어갔을 때 한번에 가져올 수 있는 방법\n",
    "- runnables: vectorstore.similarity_search를 이용해서 찾을 것임\n",
    "- bind(k=1): 가장 상위에 있는 첫번째만 가져와라"
   ]
  },
  {
   "cell_type": "code",
   "execution_count": 13,
   "id": "baeb2a69",
   "metadata": {},
   "outputs": [
    {
     "data": {
      "text/plain": [
       "[[Document(id='de53f605-8091-46f7-aa25-5da51622ef8d', metadata={'source': 'mammal-pets-doc'}, page_content='Cats are independent pets that often enjoy their own space.')],\n",
       " [Document(id='cb61d13c-d5da-4f6d-95c0-ad1b267a1dd4', metadata={'source': 'fish-pets-doc'}, page_content='Goldfish are popular pets for beginners, requiring relatively simple care.')]]"
      ]
     },
     "execution_count": 13,
     "metadata": {},
     "output_type": "execute_result"
    }
   ],
   "source": [
    "retriever = vectorstore.as_retriever(\n",
    "    search_type=\"similarity\",\n",
    "    search_kwargs={\"k\": 1},\n",
    ")\n",
    "\n",
    "retriever.batch([\"cat\", \"shark\"])"
   ]
  },
  {
   "cell_type": "markdown",
   "id": "e6908e2f",
   "metadata": {},
   "source": [
    "위와 동일한 방식임"
   ]
  },
  {
   "cell_type": "code",
   "execution_count": 14,
   "id": "88abb143",
   "metadata": {},
   "outputs": [],
   "source": [
    "# 사람이 인지하기 좋은 단어들로 변경해주는 기능을 수행할 수 있는 예제\n",
    "from langchain_core.prompts import ChatPromptTemplate\n",
    "from langchain_core.runnables import RunnablePassthrough\n",
    "\n",
    "llm = ChatOpenAI(model=\"gpt-4o\")\n",
    "\n",
    "message = \"\"\"\n",
    "Answer this question using the provided context only.\n",
    "\n",
    "{question}\n",
    "\n",
    "Context:\n",
    "{context}\n",
    "\"\"\"\n",
    "\n",
    "prompt = ChatPromptTemplate.from_messages([(\"human\", message)])\n",
    "# message를 템플릿 형태로 만들어주면, 사용자가 주는 단어가 적절하게 들어감\n",
    "# from_messages로 사람 메세지를 주면, 지금처럼 chain이 만들어지고, 이 chain을 통해서 GPT에서 프롬프트를 넘겨주면, GPT가 사람이 인지할 수 있는 장문의 문장으로 만들어줌\n",
    "\n",
    "# message 문자열을 langchain의 템플릿 객체로 바꿔줌\n",
    "\n",
    "rag_chain = {\"context\": retriever, \"question\": RunnablePassthrough()} | prompt | llm"
   ]
  },
  {
   "attachments": {
    "image.png": {
     "image/png": "[encoded data removed]"
    }
   },
   "cell_type": "markdown",
   "id": "e1fa4163",
   "metadata": {},
   "source": [
    "![image.png](attachment:image.png)"
   ]
  },
  {
   "cell_type": "markdown",
   "id": "abf0e41f",
   "metadata": {},
   "source": [
    "- StrOutputParser: 모델의 출력(보통 문자열)을 파싱해서 문자열로 반환\n",
    "    - 주로 사용되는 경우: LLM의 응답이 문자열 형태일 때, 그대로 문자열로 반환받고 싶을 때\n",
    "- RunnablePassthrough: 입력 받은 값을 아무 변경 없이 그대로 전달\n",
    "    - 주로 사용되는 경우: 체인의 중간 단계에서 값을 그대로 넘기고 싶을 때, 디버깅하거나 변환이 필요 없을 때\n",
    "\n",
    "- 필요에 따라 두 객체는 체인의 다른 위치에 들어가며, 실제 작업에서는 StrOutputParser는 결과물 파싱용, RunnablePassthrough는 무처리용 흐름 유지에 사용"
   ]
  },
  {
   "cell_type": "code",
   "execution_count": 15,
   "id": "03deab32",
   "metadata": {},
   "outputs": [
    {
     "data": {
      "text/plain": [
       "'Cats are independent pets that often enjoy their own space.'"
      ]
     },
     "execution_count": 15,
     "metadata": {},
     "output_type": "execute_result"
    }
   ],
   "source": [
    "response = rag_chain.invoke(\"tell me about cats\")\n",
    "\n",
    "response.content"
   ]
  },
  {
   "cell_type": "markdown",
   "id": "bdea8f93",
   "metadata": {},
   "source": [
    "## <font color=yellow>4. Agent </font>\n",
    "- 질문을 받고 답변을 하는 것을 상호보완적으로 계속 진행하게 만들어주는 그런 기술\n",
    "- 어떤 action을 실행하고, 그 결과가 지금 완료해도 될지, 아니면 또 다른 action을 해도 될지 이런 것을 판단해서 LLM에게 feedback을 자동적으로 해주는 기능"
   ]
  },
  {
   "cell_type": "code",
   "execution_count": 16,
   "id": "0bf22cf8",
   "metadata": {},
   "outputs": [
    {
     "name": "stderr",
     "output_type": "stream",
     "text": [
      "C:\\Users\\jjsd4\\AppData\\Local\\Temp\\ipykernel_17948\\2572116755.py:5: LangChainDeprecationWarning: The class `TavilySearchResults` was deprecated in LangChain 0.3.25 and will be removed in 1.0. An updated version of the class exists in the :class:`~langchain-tavily package and should be used instead. To use it run `pip install -U :class:`~langchain-tavily` and import as `from :class:`~langchain_tavily import TavilySearch``.\n",
      "  search = TavilySearchResults(max_results=2)\n"
     ]
    },
    {
     "name": "stdout",
     "output_type": "stream",
     "text": [
      "[{'title': 'San Francisco weather in July 2025 | Weather25.com', 'url': 'https://www.weather25.com/north-america/usa/california/san-francisco?page=month&month=July', 'content': 'weather25.com\\nSearch\\nweather in United States\\nRemove from your favorite locations\\nAdd to my locations\\nShare\\nweather in United States\\n\\n# San Francisco weather in July 2025\\n\\nThe temperatures in San Francisco in July are comfortable with low of 14°C and and high up to 25°C.\\n\\nThere is little to no rain in San Francisco during July, so it’s a lot easier to explore the city. Just remember to dress in warm layers, as it can still get pretty chilly. [...] Our weather forecast can give you a great sense of what weather to expect in San Francisco in July 2025.\\n\\nIf you’re planning to visit San Francisco in the near future, we highly recommend that you review the 14 day weather forecast for San Francisco before you arrive.\\n\\nTemperatures\\nRainy Days\\nSnowy Days\\nDry Days\\nRainfall\\n11.9 [...] | 13 Partly cloudy 20° /13° | 14 Partly cloudy 21° /13° | 15 Partly cloudy 21° /13° | 16 Sunny 21° /13° | 17 Partly cloudy 21° /12° | 18 Partly cloudy 21° /13° | 19 Partly cloudy 20° /13° |\\n| 20 Partly cloudy 20° /13° | 21 Partly cloudy 20° /12° | 22 Sunny 22° /13° | 23 Sunny 21° /14° | 24 Sunny 22° /14° | 25 Partly cloudy 21° /13° | 26 Sunny 20° /13° |\\n| 27 Sunny 22° /14° | 28 Sunny 21° /15° | 29 Partly cloudy 20° /13° | 30 Partly cloudy 21° /14° | 31 Partly cloudy 21° /14° |  |  |', 'score': 0.921929}, {'title': 'Weather San Francisco in July 2025: Temperature & Climate', 'url': 'https://en.climate-data.org/north-america/united-states-of-america/california/san-francisco-385/t/july-7/', 'content': \"| 14. July | 17 °C | 62 °F | 22 °C | 72 °F | 13 °C | 55 °F | 13 °C | 56 °F | 0.0 mm | 0.0 inch. |\\n| 15. July | 16 °C | 62 °F | 22 °C | 72 °F | 13 °C | 55 °F | 13 °C | 56 °F | 0.0 mm | 0.0 inch. |\\n| 16. July | 17 °C | 62 °F | 22 °C | 72 °F | 13 °C | 55 °F | 13 °C | 56 °F | 0.1 mm | 0.0 inch. |\\n| 17. July | 16 °C | 62 °F | 22 °C | 71 °F | 13 °C | 55 °F | 13 °C | 56 °F | 0.0 mm | 0.0 inch. |\\n| 18. July | 16 °C | 62 °F | 22 °C | 71 °F | 13 °C | 55 °F | 13 °C | 56 °F | 0.1 mm | 0.0 inch. | [...] | Max. Temperature °C (°F) | 14 °C  (57.3) °F | 14.9 °C  (58.7) °F | 16.2 °C  (61.2) °F | 17.4 °C  (63.3) °F | 19.2 °C  (66.5) °F | 21.5 °C  (70.8) °F | 21.8 °C  (71.2) °F | 22.2 °C  (71.9) °F | 23.1 °C  (73.6) °F | 21.3 °C  (70.3) °F | 17.1 °C  (62.8) °F | 13.9 °C  (57.1) °F |\\n| Precipitation / Rainfall mm (in) | 113  (4) | 118  (4) | 83  (3) | 40  (1) | 21  (0) | 6  (0) | 2  (0) | 2  (0) | 3  (0) | 25  (0) | 57  (2) | 111  (4) | [...] San Francisco experiences mild temperatures in July, reflecting its unique climate influenced by the Pacific Ocean. The average temperature during this month is around 61.3°F (16.3°C). Daytime highs can reach up to approximately 71.2°F (21.8°C), providing a comfortable warmth perfect for exploring the city's outdoor attractions and vibrant neighborhoods. Nighttime lows, on the other hand, typically drop to about 54.9°F (12.7°C), which might require a light jacket if you're out after sunset.\", 'score': 0.90869105}]\n"
     ]
    }
   ],
   "source": [
    "from langchain_community.tools.tavily_search import TavilySearchResults\n",
    "\n",
    "load_dotenv()\n",
    "\n",
    "search = TavilySearchResults(max_results=2)\n",
    "search_results = search.invoke(\"what is the weather in SF\")\n",
    "print(search_results)\n",
    "# If we want, we can create other tools.\n",
    "# Once we have all the tools we want, we can put them in a list that we will reference later.\n",
    "tools = [search]"
   ]
  },
  {
   "cell_type": "markdown",
   "id": "7b7ed28a",
   "metadata": {},
   "source": [
    "tavily는 실시간으로 llm이 가지지 못하는 데이터를 구하기 위해서 외부에 있는 사이트들을 연결해줌 \n",
    "- agent역할을 중간에서 해줌\n",
    "- llm에서 부족할 수 있는 답변을 보완책으로 쓸 수 있는 기능을 제공함\n",
    "\n",
    "샌프란시스코 날씨가 어때?, 이러면, gpt는 실시간으로 날씨를 가져오지 못함\n",
    "- 사이트를 가서 필요한 내용을 가져오고 답변을 줌"
   ]
  },
  {
   "cell_type": "code",
   "execution_count": 17,
   "id": "00d24260",
   "metadata": {},
   "outputs": [
    {
     "data": {
      "text/plain": [
       "'Hello! How can I assist you today?'"
      ]
     },
     "execution_count": 17,
     "metadata": {},
     "output_type": "execute_result"
    }
   ],
   "source": [
    "from langchain_core.messages import HumanMessage\n",
    "\n",
    "model = ChatOpenAI(model=\"gpt-4o\")\n",
    "response = model.invoke([HumanMessage(content=\"hi!\")])\n",
    "response.content"
   ]
  },
  {
   "cell_type": "code",
   "execution_count": 18,
   "id": "3d95bd33",
   "metadata": {},
   "outputs": [
    {
     "name": "stdout",
     "output_type": "stream",
     "text": [
      "ContentString: Hello! How can I assist you today?\n",
      "ToolCalls: []\n"
     ]
    }
   ],
   "source": [
    "model_with_tools = model.bind_tools(tools)\n",
    "response = model_with_tools.invoke([HumanMessage(content=\"Hi!\")])\n",
    "\n",
    "print(f\"ContentString: {response.content}\")\n",
    "print(f\"ToolCalls: {response.tool_calls}\")"
   ]
  },
  {
   "cell_type": "markdown",
   "id": "f6463872",
   "metadata": {},
   "source": [
    "openai가 할 수 있는 답변은 하고, 그렇지 않은 경우 tavily가 외부에 있는 사이트를 연결해서, 필요한 답들을 끌어와서 답변을 함"
   ]
  },
  {
   "cell_type": "code",
   "execution_count": 19,
   "id": "b6296589",
   "metadata": {},
   "outputs": [
    {
     "name": "stdout",
     "output_type": "stream",
     "text": [
      "ContentString: \n",
      "ToolCalls: [{'name': 'tavily_search_results_json', 'args': {'query': 'current weather in San Francisco'}, 'id': 'call_syud37fe5nSy6oXtWxPkffGg', 'type': 'tool_call'}]\n"
     ]
    }
   ],
   "source": [
    "response = model_with_tools.invoke([HumanMessage(content=\"What's the weather in SF?\")])\n",
    "\n",
    "print(f\"ContentString: {response.content}\")\n",
    "print(f\"ToolCalls: {response.tool_calls}\")"
   ]
  },
  {
   "cell_type": "markdown",
   "id": "d6d978f4",
   "metadata": {},
   "source": [
    "- create the agent"
   ]
  },
  {
   "cell_type": "code",
   "execution_count": 20,
   "id": "7172b208",
   "metadata": {},
   "outputs": [
    {
     "data": {
      "text/plain": [
       "[HumanMessage(content='hi!', additional_kwargs={}, response_metadata={}, id='832b328d-b8a3-4851-90a4-1b212cd2b02f'),\n",
       " AIMessage(content='Hello! How can I assist you today?', additional_kwargs={'refusal': None}, response_metadata={'token_usage': {'completion_tokens': 10, 'prompt_tokens': 81, 'total_tokens': 91, 'completion_tokens_details': {'accepted_prediction_tokens': 0, 'audio_tokens': 0, 'reasoning_tokens': 0, 'rejected_prediction_tokens': 0}, 'prompt_tokens_details': {'audio_tokens': 0, 'cached_tokens': 0}}, 'model_name': 'gpt-4o-2024-08-06', 'system_fingerprint': None, 'id': 'chatcmpl-Bt2UoDeiaoyHm6DnpVrrML3SGs8Hf', 'service_tier': 'default', 'finish_reason': 'stop', 'logprobs': None}, id='run--3a2e2114-39a7-4d7f-b448-b462b995301e-0', usage_metadata={'input_tokens': 81, 'output_tokens': 10, 'total_tokens': 91, 'input_token_details': {'audio': 0, 'cache_read': 0}, 'output_token_details': {'audio': 0, 'reasoning': 0}})]"
      ]
     },
     "execution_count": 20,
     "metadata": {},
     "output_type": "execute_result"
    }
   ],
   "source": [
    "from langgraph.prebuilt import create_react_agent\n",
    "\n",
    "agent_executor = create_react_agent(model, tools)\n",
    "response = agent_executor.invoke({\"messages\": [HumanMessage(content=\"hi!\")]})\n",
    "\n",
    "response[\"messages\"]"
   ]
  },
  {
   "cell_type": "code",
   "execution_count": 21,
   "id": "75c28e87",
   "metadata": {},
   "outputs": [
    {
     "data": {
      "text/plain": [
       "[HumanMessage(content='whats the weather in sf?', additional_kwargs={}, response_metadata={}, id='5fdb9d1b-f6e8-46dc-a6a2-5912839e2103'),\n",
       " AIMessage(content='', additional_kwargs={'tool_calls': [{'id': 'call_rDqXITKdmiQVvpKpzywhaslz', 'function': {'arguments': '{\"query\":\"current weather in San Francisco\"}', 'name': 'tavily_search_results_json'}, 'type': 'function'}], 'refusal': None}, response_metadata={'token_usage': {'completion_tokens': 22, 'prompt_tokens': 86, 'total_tokens': 108, 'completion_tokens_details': {'accepted_prediction_tokens': 0, 'audio_tokens': 0, 'reasoning_tokens': 0, 'rejected_prediction_tokens': 0}, 'prompt_tokens_details': {'audio_tokens': 0, 'cached_tokens': 0}}, 'model_name': 'gpt-4o-2024-08-06', 'system_fingerprint': None, 'id': 'chatcmpl-Bt2UwCrcTQwqYAZAXwGOEJlEZdLQy', 'service_tier': 'default', 'finish_reason': 'tool_calls', 'logprobs': None}, id='run--6b54a61d-aba0-49eb-a075-99758b29f9fe-0', tool_calls=[{'name': 'tavily_search_results_json', 'args': {'query': 'current weather in San Francisco'}, 'id': 'call_rDqXITKdmiQVvpKpzywhaslz', 'type': 'tool_call'}], usage_metadata={'input_tokens': 86, 'output_tokens': 22, 'total_tokens': 108, 'input_token_details': {'audio': 0, 'cache_read': 0}, 'output_token_details': {'audio': 0, 'reasoning': 0}}),\n",
       " ToolMessage(content='[{\"title\": \"San Francisco weather in July 2025 | Weather25.com\", \"url\": \"https://www.weather25.com/north-america/usa/california/san-francisco?page=month&month=July\", \"content\": \"weather25.com\\\\nSearch\\\\nweather in United States\\\\nRemove from your favorite locations\\\\nAdd to my locations\\\\nShare\\\\nweather in United States\\\\n\\\\n# San Francisco weather in July 2025\\\\n\\\\nMist\\\\nMist\\\\nOvercast\\\\nOvercast\\\\nPartly cloudy\\\\nSunny\\\\nSunny\\\\nPatchy rain possible\\\\nPartly cloudy\\\\nPartly cloudy\\\\nSunny\\\\nOvercast\\\\nPartly cloudy\\\\nPartly cloudy\\\\n\\\\n## The average weather in San Francisco in July\\\\n\\\\nThe temperatures in San Francisco in July are comfortable with low of 14°C and and high up to 25°C. [...] | 13 Mist 15° /13° | 14 Mist 14° /12° | 15 Overcast 14° /12° | 16 Overcast 17° /12° | 17 Partly cloudy 18° /13° | 18 Sunny 17° /13° | 19 Sunny 19° /13° |\\\\n| 20 Patchy rain possible 18° /13° | 21 Partly cloudy 17° /13° | 22 Partly cloudy 17° /13° | 23 Sunny 18° /13° | 24 Overcast 17° /13° | 25 Partly cloudy 17° /13° | 26 Partly cloudy 17° /13° |\\\\n| 27 Sunny 22° /14° | 28 Sunny 21° /15° | 29 Partly cloudy 20° /13° | 30 Partly cloudy 21° /14° | 31 Partly cloudy 21° /14° |  |  | [...] | Sun | Mon | Tue | Wed | Thu | Fri | Sat |\\\\n| --- | --- | --- | --- | --- | --- | --- |\\\\n|  |  | 1 Cloudy 20° /12° | 2 Partly cloudy 20° /12° | 3 Sunny 20° /12° | 4 Sunny 20° /12° | 5 Sunny 20° /13° |\\\\n| 6 Sunny 19° /13° | 7 Mist 19° /12° | 8 Sunny 20° /12° | 9 Partly cloudy 20° /13° | 10 Partly cloudy 21° /13° | 11 Sunny 22° /13° | 12 Sunny 20° /13° |\", \"score\": 0.83710164}, {\"title\": \"San Francisco, CA Monthly Weather - AccuWeather\", \"url\": \"https://www.accuweather.com/en/us/san-francisco/94103/july-weather/347629\", \"content\": \"Get the monthly weather forecast for San Francisco, CA, including daily high/low, historical averages, to help you plan ahead.\", \"score\": 0.15957099}]', name='tavily_search_results_json', id='a394ee09-017e-48a2-9441-98047afae10c', tool_call_id='call_rDqXITKdmiQVvpKpzywhaslz', artifact={'query': 'current weather in San Francisco', 'follow_up_questions': None, 'answer': None, 'images': [], 'results': [{'url': 'https://www.weather25.com/north-america/usa/california/san-francisco?page=month&month=July', 'title': 'San Francisco weather in July 2025 | Weather25.com', 'content': 'weather25.com\\nSearch\\nweather in United States\\nRemove from your favorite locations\\nAdd to my locations\\nShare\\nweather in United States\\n\\n# San Francisco weather in July 2025\\n\\nMist\\nMist\\nOvercast\\nOvercast\\nPartly cloudy\\nSunny\\nSunny\\nPatchy rain possible\\nPartly cloudy\\nPartly cloudy\\nSunny\\nOvercast\\nPartly cloudy\\nPartly cloudy\\n\\n## The average weather in San Francisco in July\\n\\nThe temperatures in San Francisco in July are comfortable with low of 14°C and and high up to 25°C. [...] | 13 Mist 15° /13° | 14 Mist 14° /12° | 15 Overcast 14° /12° | 16 Overcast 17° /12° | 17 Partly cloudy 18° /13° | 18 Sunny 17° /13° | 19 Sunny 19° /13° |\\n| 20 Patchy rain possible 18° /13° | 21 Partly cloudy 17° /13° | 22 Partly cloudy 17° /13° | 23 Sunny 18° /13° | 24 Overcast 17° /13° | 25 Partly cloudy 17° /13° | 26 Partly cloudy 17° /13° |\\n| 27 Sunny 22° /14° | 28 Sunny 21° /15° | 29 Partly cloudy 20° /13° | 30 Partly cloudy 21° /14° | 31 Partly cloudy 21° /14° |  |  | [...] | Sun | Mon | Tue | Wed | Thu | Fri | Sat |\\n| --- | --- | --- | --- | --- | --- | --- |\\n|  |  | 1 Cloudy 20° /12° | 2 Partly cloudy 20° /12° | 3 Sunny 20° /12° | 4 Sunny 20° /12° | 5 Sunny 20° /13° |\\n| 6 Sunny 19° /13° | 7 Mist 19° /12° | 8 Sunny 20° /12° | 9 Partly cloudy 20° /13° | 10 Partly cloudy 21° /13° | 11 Sunny 22° /13° | 12 Sunny 20° /13° |', 'score': 0.83710164, 'raw_content': None}, {'url': 'https://www.accuweather.com/en/us/san-francisco/94103/july-weather/347629', 'title': 'San Francisco, CA Monthly Weather - AccuWeather', 'content': 'Get the monthly weather forecast for San Francisco, CA, including daily high/low, historical averages, to help you plan ahead.', 'score': 0.15957099, 'raw_content': None}], 'response_time': 5.2}),\n",
       " AIMessage(content=\"I wasn't able to retrieve the current weather in San Francisco. You might want to check a reliable weather website or app for the most accurate and up-to-date information.\", additional_kwargs={'refusal': None}, response_metadata={'token_usage': {'completion_tokens': 34, 'prompt_tokens': 777, 'total_tokens': 811, 'completion_tokens_details': {'accepted_prediction_tokens': 0, 'audio_tokens': 0, 'reasoning_tokens': 0, 'rejected_prediction_tokens': 0}, 'prompt_tokens_details': {'audio_tokens': 0, 'cached_tokens': 0}}, 'model_name': 'gpt-4o-2024-08-06', 'system_fingerprint': None, 'id': 'chatcmpl-Bt2V3bmZ1TfvjEdCLRJfNZTVfUwUP', 'service_tier': 'default', 'finish_reason': 'stop', 'logprobs': None}, id='run--c5a111ed-349d-45d8-bd73-f860c2f600c1-0', usage_metadata={'input_tokens': 777, 'output_tokens': 34, 'total_tokens': 811, 'input_token_details': {'audio': 0, 'cache_read': 0}, 'output_token_details': {'audio': 0, 'reasoning': 0}})]"
      ]
     },
     "execution_count": 21,
     "metadata": {},
     "output_type": "execute_result"
    }
   ],
   "source": [
    "response = agent_executor.invoke(\n",
    "    {\"messages\": [HumanMessage(content=\"whats the weather in sf?\")]}\n",
    ")\n",
    "response[\"messages\"]"
   ]
  },
  {
   "cell_type": "markdown",
   "id": "41b9b985",
   "metadata": {},
   "source": [
    "## <font color=yellow>5. Streaming </font>"
   ]
  },
  {
   "cell_type": "code",
   "execution_count": 22,
   "id": "c9ecb6c1",
   "metadata": {},
   "outputs": [
    {
     "name": "stdout",
     "output_type": "stream",
     "text": [
      "{'agent': {'messages': [AIMessage(content='', additional_kwargs={'tool_calls': [{'id': 'call_4ZYBISkXAYFNYxrddYh9TLLI', 'function': {'arguments': '{\"query\":\"San Francisco weather today\"}', 'name': 'tavily_search_results_json'}, 'type': 'function'}], 'refusal': None}, response_metadata={'token_usage': {'completion_tokens': 21, 'prompt_tokens': 86, 'total_tokens': 107, 'completion_tokens_details': {'accepted_prediction_tokens': 0, 'audio_tokens': 0, 'reasoning_tokens': 0, 'rejected_prediction_tokens': 0}, 'prompt_tokens_details': {'audio_tokens': 0, 'cached_tokens': 0}}, 'model_name': 'gpt-4o-2024-08-06', 'system_fingerprint': None, 'id': 'chatcmpl-Bt2WwlueDyj9zyZKXKvVHdwyCKLaC', 'service_tier': 'default', 'finish_reason': 'tool_calls', 'logprobs': None}, id='run--b0348462-746f-419b-977d-cb3597e862ed-0', tool_calls=[{'name': 'tavily_search_results_json', 'args': {'query': 'San Francisco weather today'}, 'id': 'call_4ZYBISkXAYFNYxrddYh9TLLI', 'type': 'tool_call'}], usage_metadata={'input_tokens': 86, 'output_tokens': 21, 'total_tokens': 107, 'input_token_details': {'audio': 0, 'cache_read': 0}, 'output_token_details': {'audio': 0, 'reasoning': 0}})]}}\n",
      "----\n",
      "{'tools': {'messages': [ToolMessage(content='[{\"title\": \"San Francisco weather in July 2025 | Weather25.com\", \"url\": \"https://www.weather25.com/north-america/usa/california/san-francisco?page=month&month=July\", \"content\": \"| Sun | Mon | Tue | Wed | Thu | Fri | Sat |\\\\n| --- | --- | --- | --- | --- | --- | --- |\\\\n|  |  | 1 Cloudy 20° /12° | 2 Partly cloudy 20° /12° | 3 Sunny 20° /12° | 4 Sunny 20° /12° | 5 Sunny 20° /13° |\\\\n| 6 Sunny 19° /13° | 7 Mist 19° /12° | 8 Sunny 20° /12° | 9 Partly cloudy 20° /13° | 10 Partly cloudy 21° /13° | 11 Sunny 22° /13° | 12 Sunny 20° /13° | [...] | 13 Mist 15° /13° | 14 Mist 14° /12° | 15 Overcast 14° /12° | 16 Overcast 17° /12° | 17 Partly cloudy 18° /13° | 18 Sunny 17° /13° | 19 Sunny 19° /13° |\\\\n| 20 Patchy rain possible 18° /13° | 21 Partly cloudy 17° /13° | 22 Partly cloudy 17° /13° | 23 Sunny 18° /13° | 24 Overcast 17° /13° | 25 Partly cloudy 17° /13° | 26 Partly cloudy 17° /13° |\\\\n| 27 Sunny 22° /14° | 28 Sunny 21° /15° | 29 Partly cloudy 20° /13° | 30 Partly cloudy 21° /14° | 31 Partly cloudy 21° /14° |  |  | [...] weather25.com\\\\nSearch\\\\nweather in United States\\\\nRemove from your favorite locations\\\\nAdd to my locations\\\\nShare\\\\nweather in United States\\\\n\\\\n# San Francisco weather in July 2025\\\\n\\\\nMist\\\\nMist\\\\nOvercast\\\\nOvercast\\\\nPartly cloudy\\\\nSunny\\\\nSunny\\\\nPatchy rain possible\\\\nPartly cloudy\\\\nPartly cloudy\\\\nSunny\\\\nOvercast\\\\nPartly cloudy\\\\nPartly cloudy\\\\n\\\\n## The average weather in San Francisco in July\\\\n\\\\nThe temperatures in San Francisco in July are comfortable with low of 14°C and and high up to 25°C.\", \"score\": 0.87166095}, {\"title\": \"San Francisco, CA Monthly Weather - AccuWeather\", \"url\": \"https://www.accuweather.com/en/us/san-francisco/94103/july-weather/347629\", \"content\": \"Get the monthly weather forecast for San Francisco, CA, including daily high/low, historical averages, to help you plan ahead.\", \"score\": 0.20453286}]', name='tavily_search_results_json', id='640a6e70-1c2a-4f05-b637-f5d6200ab148', tool_call_id='call_4ZYBISkXAYFNYxrddYh9TLLI', artifact={'query': 'San Francisco weather today', 'follow_up_questions': None, 'answer': None, 'images': [], 'results': [{'url': 'https://www.weather25.com/north-america/usa/california/san-francisco?page=month&month=July', 'title': 'San Francisco weather in July 2025 | Weather25.com', 'content': '| Sun | Mon | Tue | Wed | Thu | Fri | Sat |\\n| --- | --- | --- | --- | --- | --- | --- |\\n|  |  | 1 Cloudy 20° /12° | 2 Partly cloudy 20° /12° | 3 Sunny 20° /12° | 4 Sunny 20° /12° | 5 Sunny 20° /13° |\\n| 6 Sunny 19° /13° | 7 Mist 19° /12° | 8 Sunny 20° /12° | 9 Partly cloudy 20° /13° | 10 Partly cloudy 21° /13° | 11 Sunny 22° /13° | 12 Sunny 20° /13° | [...] | 13 Mist 15° /13° | 14 Mist 14° /12° | 15 Overcast 14° /12° | 16 Overcast 17° /12° | 17 Partly cloudy 18° /13° | 18 Sunny 17° /13° | 19 Sunny 19° /13° |\\n| 20 Patchy rain possible 18° /13° | 21 Partly cloudy 17° /13° | 22 Partly cloudy 17° /13° | 23 Sunny 18° /13° | 24 Overcast 17° /13° | 25 Partly cloudy 17° /13° | 26 Partly cloudy 17° /13° |\\n| 27 Sunny 22° /14° | 28 Sunny 21° /15° | 29 Partly cloudy 20° /13° | 30 Partly cloudy 21° /14° | 31 Partly cloudy 21° /14° |  |  | [...] weather25.com\\nSearch\\nweather in United States\\nRemove from your favorite locations\\nAdd to my locations\\nShare\\nweather in United States\\n\\n# San Francisco weather in July 2025\\n\\nMist\\nMist\\nOvercast\\nOvercast\\nPartly cloudy\\nSunny\\nSunny\\nPatchy rain possible\\nPartly cloudy\\nPartly cloudy\\nSunny\\nOvercast\\nPartly cloudy\\nPartly cloudy\\n\\n## The average weather in San Francisco in July\\n\\nThe temperatures in San Francisco in July are comfortable with low of 14°C and and high up to 25°C.', 'score': 0.87166095, 'raw_content': None}, {'url': 'https://www.accuweather.com/en/us/san-francisco/94103/july-weather/347629', 'title': 'San Francisco, CA Monthly Weather - AccuWeather', 'content': 'Get the monthly weather forecast for San Francisco, CA, including daily high/low, historical averages, to help you plan ahead.', 'score': 0.20453286, 'raw_content': None}], 'response_time': 4.7})]}}\n",
      "----\n",
      "{'agent': {'messages': [AIMessage(content=\"I couldn't find the exact weather for today, but I recommend checking a reliable weather service like AccuWeather or Weather.com for the latest San Francisco weather updates.\", additional_kwargs={'refusal': None}, response_metadata={'token_usage': {'completion_tokens': 33, 'prompt_tokens': 774, 'total_tokens': 807, 'completion_tokens_details': {'accepted_prediction_tokens': 0, 'audio_tokens': 0, 'reasoning_tokens': 0, 'rejected_prediction_tokens': 0}, 'prompt_tokens_details': {'audio_tokens': 0, 'cached_tokens': 0}}, 'model_name': 'gpt-4o-2024-08-06', 'system_fingerprint': None, 'id': 'chatcmpl-Bt2X3Ttz7XvhDt1B4XVhU5gljm93E', 'service_tier': 'default', 'finish_reason': 'stop', 'logprobs': None}, id='run--7fee92fa-0a44-4aaf-be53-176e99cdc0eb-0', usage_metadata={'input_tokens': 774, 'output_tokens': 33, 'total_tokens': 807, 'input_token_details': {'audio': 0, 'cache_read': 0}, 'output_token_details': {'audio': 0, 'reasoning': 0}})]}}\n",
      "----\n"
     ]
    }
   ],
   "source": [
    "for chunk in agent_executor.stream(\n",
    "    {\"messages\": [HumanMessage(content=\"whats the weather in sf?\")]}\n",
    "    ):\n",
    "    print(chunk)\n",
    "    print(\"----\")"
   ]
  },
  {
   "cell_type": "code",
   "execution_count": 23,
   "id": "098121c3",
   "metadata": {},
   "outputs": [
    {
     "name": "stdout",
     "output_type": "stream",
     "text": [
      "--\n",
      "Starting tool: tavily_search_results_json with inputs: {'query': 'current weather in San Francisco'}\n",
      "Done tool: tavily_search_results_json\n",
      "Tool output was: content='[{\"title\": \"San Francisco weather in July 2025 | Weather25.com\", \"url\": \"https://www.weather25.com/north-america/usa/california/san-francisco?page=month&month=July\", \"content\": \"weather25.com\\\\nSearch\\\\nweather in United States\\\\nRemove from your favorite locations\\\\nAdd to my locations\\\\nShare\\\\nweather in United States\\\\n\\\\n# San Francisco weather in July 2025\\\\n\\\\nMist\\\\nMist\\\\nOvercast\\\\nOvercast\\\\nPartly cloudy\\\\nSunny\\\\nSunny\\\\nPatchy rain possible\\\\nPartly cloudy\\\\nPartly cloudy\\\\nSunny\\\\nOvercast\\\\nPartly cloudy\\\\nPartly cloudy\\\\n\\\\n## The average weather in San Francisco in July\\\\n\\\\nThe temperatures in San Francisco in July are comfortable with low of 14°C and and high up to 25°C. [...] | 13 Mist 15° /13° | 14 Mist 14° /12° | 15 Overcast 14° /12° | 16 Overcast 17° /12° | 17 Partly cloudy 18° /13° | 18 Sunny 17° /13° | 19 Sunny 19° /13° |\\\\n| 20 Patchy rain possible 18° /13° | 21 Partly cloudy 17° /13° | 22 Partly cloudy 17° /13° | 23 Sunny 18° /13° | 24 Overcast 17° /13° | 25 Partly cloudy 17° /13° | 26 Partly cloudy 17° /13° |\\\\n| 27 Sunny 22° /14° | 28 Sunny 21° /15° | 29 Partly cloudy 20° /13° | 30 Partly cloudy 21° /14° | 31 Partly cloudy 21° /14° |  |  | [...] | Sun | Mon | Tue | Wed | Thu | Fri | Sat |\\\\n| --- | --- | --- | --- | --- | --- | --- |\\\\n|  |  | 1 Cloudy 20° /12° | 2 Partly cloudy 20° /12° | 3 Sunny 20° /12° | 4 Sunny 20° /12° | 5 Sunny 20° /13° |\\\\n| 6 Sunny 19° /13° | 7 Mist 19° /12° | 8 Sunny 20° /12° | 9 Partly cloudy 20° /13° | 10 Partly cloudy 21° /13° | 11 Sunny 22° /13° | 12 Sunny 20° /13° |\", \"score\": 0.83710164}, {\"title\": \"Current Weather - San Francisco, CA - AccuWeather\", \"url\": \"https://www.accuweather.com/en/us/san-francisco/94103/current-weather/347629\", \"content\": \"Current Weather ; 63°F · Partly sunny ; RealFeel® 66°. Pleasant. RealFeel Guide. Pleasant. 63° to 81°. Most consider this temperature range ideal. LEARN MORE.\", \"score\": 0.650934}]' name='tavily_search_results_json' tool_call_id='call_SIG2MlvPk1Il823KHKw6mUVF' artifact={'query': 'current weather in San Francisco', 'follow_up_questions': None, 'answer': None, 'images': [], 'results': [{'url': 'https://www.weather25.com/north-america/usa/california/san-francisco?page=month&month=July', 'title': 'San Francisco weather in July 2025 | Weather25.com', 'content': 'weather25.com\\nSearch\\nweather in United States\\nRemove from your favorite locations\\nAdd to my locations\\nShare\\nweather in United States\\n\\n# San Francisco weather in July 2025\\n\\nMist\\nMist\\nOvercast\\nOvercast\\nPartly cloudy\\nSunny\\nSunny\\nPatchy rain possible\\nPartly cloudy\\nPartly cloudy\\nSunny\\nOvercast\\nPartly cloudy\\nPartly cloudy\\n\\n## The average weather in San Francisco in July\\n\\nThe temperatures in San Francisco in July are comfortable with low of 14°C and and high up to 25°C. [...] | 13 Mist 15° /13° | 14 Mist 14° /12° | 15 Overcast 14° /12° | 16 Overcast 17° /12° | 17 Partly cloudy 18° /13° | 18 Sunny 17° /13° | 19 Sunny 19° /13° |\\n| 20 Patchy rain possible 18° /13° | 21 Partly cloudy 17° /13° | 22 Partly cloudy 17° /13° | 23 Sunny 18° /13° | 24 Overcast 17° /13° | 25 Partly cloudy 17° /13° | 26 Partly cloudy 17° /13° |\\n| 27 Sunny 22° /14° | 28 Sunny 21° /15° | 29 Partly cloudy 20° /13° | 30 Partly cloudy 21° /14° | 31 Partly cloudy 21° /14° |  |  | [...] | Sun | Mon | Tue | Wed | Thu | Fri | Sat |\\n| --- | --- | --- | --- | --- | --- | --- |\\n|  |  | 1 Cloudy 20° /12° | 2 Partly cloudy 20° /12° | 3 Sunny 20° /12° | 4 Sunny 20° /12° | 5 Sunny 20° /13° |\\n| 6 Sunny 19° /13° | 7 Mist 19° /12° | 8 Sunny 20° /12° | 9 Partly cloudy 20° /13° | 10 Partly cloudy 21° /13° | 11 Sunny 22° /13° | 12 Sunny 20° /13° |', 'score': 0.83710164, 'raw_content': None}, {'url': 'https://www.accuweather.com/en/us/san-francisco/94103/current-weather/347629', 'title': 'Current Weather - San Francisco, CA - AccuWeather', 'content': 'Current Weather ; 63°F · Partly sunny ; RealFeel® 66°. Pleasant. RealFeel Guide. Pleasant. 63° to 81°. Most consider this temperature range ideal. LEARN MORE.', 'score': 0.650934, 'raw_content': None}], 'response_time': 4.74}\n",
      "--\n",
      "The| current| weather| in| San| Francisco| is| partly| sunny| with| a| temperature| of| |63|°F|.| The| Real|Feel|®| temperature| is| |66|°F|,| which| is| considered| pleasant|.| You| can| find| more| details| on| [|Acc|u|Weather|](|https|://|www|.acc|uwe|ather|.com|/en|/us|/s|an|-fr|anc|isco|/|941|03|/current|-weather|/|347|629|).|"
     ]
    }
   ],
   "source": [
    "async for event in agent_executor.astream_events(\n",
    "    {\"messages\": [HumanMessage(content=\"whats the weather in sf?\")]}, version=\"v1\"\n",
    "    ):\n",
    "    kind = event[\"event\"]\n",
    "    if kind == \"on_chain_start\":\n",
    "        if (\n",
    "            event[\"name\"] == \"Agent\"\n",
    "        ):  # Was assigned when creating the agent with `.with_config({\"run_name\": \"Agent\"})`\n",
    "            print(\n",
    "                f\"Starting agent: {event['name']} with input: {event['data'].get('input')}\"\n",
    "            )\n",
    "    elif kind == \"on_chain_end\":\n",
    "        if (\n",
    "            event[\"name\"] == \"Agent\"\n",
    "        ):  # Was assigned when creating the agent with `.with_config({\"run_name\": \"Agent\"})`\n",
    "            print()\n",
    "            print(\"--\")\n",
    "            print(\n",
    "                f\"Done agent: {event['name']} with output: {event['data'].get('output')['output']}\"\n",
    "            )\n",
    "    if kind == \"on_chat_model_stream\":\n",
    "        content = event[\"data\"][\"chunk\"].content\n",
    "        if content:\n",
    "            # Empty content in the context of OpenAI means\n",
    "            # that the model is asking for a tool to be invoked.\n",
    "            # So we only print non-empty content\n",
    "            print(content, end=\"|\")\n",
    "    elif kind == \"on_tool_start\":\n",
    "        print(\"--\")\n",
    "        print(\n",
    "            f\"Starting tool: {event['name']} with inputs: {event['data'].get('input')}\"\n",
    "        )\n",
    "    elif kind == \"on_tool_end\":\n",
    "        print(f\"Done tool: {event['name']}\")\n",
    "        print(f\"Tool output was: {event['data'].get('output')}\")\n",
    "        print(\"--\")"
   ]
  },
  {
   "cell_type": "code",
   "execution_count": 29,
   "id": "cf5bb519",
   "metadata": {},
   "outputs": [
    {
     "name": "stdout",
     "output_type": "stream",
     "text": [
      "{'agent': {'messages': [AIMessage(content='Hello Bob! How can I assist you today?', additional_kwargs={'refusal': None}, response_metadata={'token_usage': {'completion_tokens': 11, 'prompt_tokens': 83, 'total_tokens': 94, 'completion_tokens_details': {'accepted_prediction_tokens': 0, 'audio_tokens': 0, 'reasoning_tokens': 0, 'rejected_prediction_tokens': 0}, 'prompt_tokens_details': {'audio_tokens': 0, 'cached_tokens': 0}}, 'model_name': 'gpt-4o-2024-08-06', 'system_fingerprint': None, 'id': 'chatcmpl-Bt2iBFTvRFIuwMO4znGxJxuy47MCW', 'service_tier': 'default', 'finish_reason': 'stop', 'logprobs': None}, id='run--1934a271-e71d-4f89-88ca-845c0d91e0fb-0', usage_metadata={'input_tokens': 83, 'output_tokens': 11, 'total_tokens': 94, 'input_token_details': {'audio': 0, 'cache_read': 0}, 'output_token_details': {'audio': 0, 'reasoning': 0}})]}}\n",
      "----\n",
      "{'agent': {'messages': [AIMessage(content='Your name is Bob!', additional_kwargs={'refusal': None}, response_metadata={'token_usage': {'completion_tokens': 6, 'prompt_tokens': 106, 'total_tokens': 112, 'completion_tokens_details': {'accepted_prediction_tokens': 0, 'audio_tokens': 0, 'reasoning_tokens': 0, 'rejected_prediction_tokens': 0}, 'prompt_tokens_details': {'audio_tokens': 0, 'cached_tokens': 0}}, 'model_name': 'gpt-4o-2024-08-06', 'system_fingerprint': None, 'id': 'chatcmpl-Bt2iChA5lrlcSgrOWde7Gysp9f1vk', 'service_tier': 'default', 'finish_reason': 'stop', 'logprobs': None}, id='run--84bd7316-5b12-41e3-a1fd-ddf3bc95a0b4-0', usage_metadata={'input_tokens': 106, 'output_tokens': 6, 'total_tokens': 112, 'input_token_details': {'audio': 0, 'cache_read': 0}, 'output_token_details': {'audio': 0, 'reasoning': 0}})]}}\n",
      "----\n"
     ]
    }
   ],
   "source": [
    "from langgraph.checkpoint.sqlite import SqliteSaver\n",
    "\n",
    "with SqliteSaver.from_conn_string(\":memory:\") as memory:\n",
    "    agent_executor = create_react_agent(model, tools, checkpointer=memory)\n",
    "    config = {\"configurable\": {\"thread_id\": \"abc123\"}}\n",
    "    \n",
    "    for chunk in agent_executor.stream(\n",
    "        {\"messages\": [HumanMessage(content=\"hi im bob!\")]}, config\n",
    "    ):\n",
    "        print(chunk)\n",
    "        print(\"----\")\n",
    "        \n",
    "    for chunk in agent_executor.stream(\n",
    "        {\"messages\": [HumanMessage(content=\"whats my name?\")]}, config\n",
    "    ):\n",
    "        print(chunk)\n",
    "        print(\"----\")"
   ]
  },
  {
   "cell_type": "code",
   "execution_count": 30,
   "id": "97b98498",
   "metadata": {},
   "outputs": [
    {
     "name": "stdout",
     "output_type": "stream",
     "text": [
      "{'agent': {'messages': [AIMessage(content=\"I'm sorry, but I don't have access to personal data about you, including your name. If you'd like to share your name, you can go ahead and tell me!\", additional_kwargs={'refusal': None}, response_metadata={'token_usage': {'completion_tokens': 35, 'prompt_tokens': 84, 'total_tokens': 119, 'completion_tokens_details': {'accepted_prediction_tokens': 0, 'audio_tokens': 0, 'reasoning_tokens': 0, 'rejected_prediction_tokens': 0}, 'prompt_tokens_details': {'audio_tokens': 0, 'cached_tokens': 0}}, 'model_name': 'gpt-4o-2024-08-06', 'system_fingerprint': None, 'id': 'chatcmpl-Bt2iEb8Qcy2P5vPdg3Od7ZXV5NP8r', 'service_tier': 'default', 'finish_reason': 'stop', 'logprobs': None}, id='run--6a39d2ab-9bfd-4196-95b4-fb6e762065a2-0', usage_metadata={'input_tokens': 84, 'output_tokens': 35, 'total_tokens': 119, 'input_token_details': {'audio': 0, 'cache_read': 0}, 'output_token_details': {'audio': 0, 'reasoning': 0}})]}}\n",
      "----\n"
     ]
    }
   ],
   "source": [
    "with SqliteSaver.from_conn_string(\":memory:\") as memory:\n",
    "    agent_executor = create_react_agent(model, tools, checkpointer=memory)\n",
    "    config = {\"configurable\": {\"thread_id\": \"xyz123\"}}\n",
    "    for chunk in agent_executor.stream(\n",
    "        {\"messages\": [HumanMessage(content=\"whats my name?\")]}, config\n",
    "    ):\n",
    "        print(chunk)\n",
    "        print(\"----\")"
   ]
  },
  {
   "cell_type": "code",
   "execution_count": null,
   "id": "c333e26c",
   "metadata": {},
   "outputs": [],
   "source": []
  }
 ],
 "metadata": {
  "kernelspec": {
   "display_name": "torch",
   "language": "python",
   "name": "python3"
  },
  "language_info": {
   "codemirror_mode": {
    "name": "ipython",
    "version": 3
   },
   "file_extension": ".py",
   "mimetype": "text/x-python",
   "name": "python",
   "nbconvert_exporter": "python",
   "pygments_lexer": "ipython3",
   "version": "3.11.8"
  }
 },
 "nbformat": 4,
 "nbformat_minor": 5
}
