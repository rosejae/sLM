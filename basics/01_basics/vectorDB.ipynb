{
 "cells": [
  {
   "cell_type": "markdown",
   "id": "4a600dbd",
   "metadata": {},
   "source": [
    "## <font color=yellow>1. Chroma DB</font>"
   ]
  },
  {
   "cell_type": "code",
   "execution_count": 1,
   "id": "28a9c230",
   "metadata": {},
   "outputs": [],
   "source": [
    "import pandas as pd\n",
    "\n",
    "from tqdm import tqdm\n",
    "from datasets import load_dataset\n",
    "\n",
    "import chromadb\n",
    "\n",
    "#chroma_client = chromadb.PersistentClient()\n",
    "chroma_client = chromadb.Client()\n",
    "\n",
    "# Create a collection (나만의 고유한 DB를 만듦)\n",
    "#chroma_client.delete_collection(name=\"my_collection\")\n",
    "collection = chroma_client.create_collection(name=\"my_collection\")"
   ]
  },
  {
   "cell_type": "code",
   "execution_count": 14,
   "id": "6295967b",
   "metadata": {},
   "outputs": [
    {
     "data": {
      "text/html": [
       "<div>\n",
       "<style scoped>\n",
       "    .dataframe tbody tr th:only-of-type {\n",
       "        vertical-align: middle;\n",
       "    }\n",
       "\n",
       "    .dataframe tbody tr th {\n",
       "        vertical-align: top;\n",
       "    }\n",
       "\n",
       "    .dataframe thead th {\n",
       "        text-align: right;\n",
       "    }\n",
       "</style>\n",
       "<table border=\"1\" class=\"dataframe\">\n",
       "  <thead>\n",
       "    <tr style=\"text-align: right;\">\n",
       "      <th></th>\n",
       "      <th>date</th>\n",
       "      <th>category</th>\n",
       "      <th>press</th>\n",
       "      <th>title</th>\n",
       "      <th>document</th>\n",
       "      <th>link</th>\n",
       "      <th>summary</th>\n",
       "    </tr>\n",
       "  </thead>\n",
       "  <tbody>\n",
       "    <tr>\n",
       "      <th>0</th>\n",
       "      <td>2022-07-03 17:14:37</td>\n",
       "      <td>economy</td>\n",
       "      <td>YTN</td>\n",
       "      <td>추경호 중기 수출지원 총력 무역금융 40조 확대</td>\n",
       "      <td>앵커 정부가 올해 하반기 우리 경제의 버팀목인 수출 확대를 위해 총력을 기울이기로 ...</td>\n",
       "      <td>https://n.news.naver.com/mnews/article/052/000...</td>\n",
       "      <td>올해 상반기 우리나라 무역수지는 역대 최악인 103억 달러 적자를 기록한 가운데, ...</td>\n",
       "    </tr>\n",
       "    <tr>\n",
       "      <th>1</th>\n",
       "      <td>2022-07-04 08:07:12</td>\n",
       "      <td>economy</td>\n",
       "      <td>아시아경제</td>\n",
       "      <td>해산물·주류 무제한 인터컨티넨탈 뷔페 여름 한정 페스타 연다</td>\n",
       "      <td>문어 랍스터 대게 갑오징어 새우 소라 등 해산물 활용 미국식 해물찜 시푸드 보일 준...</td>\n",
       "      <td>https://n.news.naver.com/mnews/article/277/000...</td>\n",
       "      <td>인터엑스 1층 뷔페 레스토랑 브래서리는 오는 6일부터 8월31일까지 쿨 섬머 페스타...</td>\n",
       "    </tr>\n",
       "    <tr>\n",
       "      <th>2</th>\n",
       "      <td>2022-07-05 18:01:01</td>\n",
       "      <td>IT과학</td>\n",
       "      <td>동아사이언스</td>\n",
       "      <td>한국인 생활 변화시킨 의사 마지막까지 영향력 컸던 과학자 이호왕 고려대 명예교수 소천</td>\n",
       "      <td>한탄바이러스 발견 노벨상 유력 후보로 자주 거론 한국을 대표하는 의학자이자 미생물학...</td>\n",
       "      <td>https://n.news.naver.com/mnews/article/584/000...</td>\n",
       "      <td>이 이호왕 고려대 명예교수는 바이러스의 병원체와 진단법 백신까지 모두 개발한 한국을...</td>\n",
       "    </tr>\n",
       "    <tr>\n",
       "      <th>3</th>\n",
       "      <td>2022-07-01 08:51:12</td>\n",
       "      <td>economy</td>\n",
       "      <td>뉴시스</td>\n",
       "      <td>에디슨이노 이승훈 제이스페이스 대표 사내이사 선임</td>\n",
       "      <td>기사내용 요약 우주발사체 사업 본격화 서울 뉴시스 김경택 기자 에디슨이노가 우주발사...</td>\n",
       "      <td>https://n.news.naver.com/mnews/article/003/001...</td>\n",
       "      <td>에디슨이노는 1일 임시주주총회를 통해 사명을 이노시스 로 변경하고 이승훈 제이스페이...</td>\n",
       "    </tr>\n",
       "    <tr>\n",
       "      <th>4</th>\n",
       "      <td>2022-07-01 16:11:01</td>\n",
       "      <td>economy</td>\n",
       "      <td>머니투데이</td>\n",
       "      <td>SK바사 해외 사업 조직 개편… 글로벌 탑티어 기업으로 성장 박차</td>\n",
       "      <td>SK바이오사이언스가 글로벌 사업의 고도화를 위해 조직 개편을 단행했다. SK바이오사...</td>\n",
       "      <td>https://n.news.naver.com/mnews/article/008/000...</td>\n",
       "      <td>SK바이오사이언스가 글로벌 사업의 고도화를 위해 기존 해외사업개발실을 백신사업뿐만 ...</td>\n",
       "    </tr>\n",
       "  </tbody>\n",
       "</table>\n",
       "</div>"
      ],
      "text/plain": [
       "                  date category    press  \\\n",
       "0  2022-07-03 17:14:37  economy     YTN    \n",
       "1  2022-07-04 08:07:12  economy   아시아경제    \n",
       "2  2022-07-05 18:01:01     IT과학  동아사이언스    \n",
       "3  2022-07-01 08:51:12  economy     뉴시스    \n",
       "4  2022-07-01 16:11:01  economy   머니투데이    \n",
       "\n",
       "                                             title  \\\n",
       "0                       추경호 중기 수출지원 총력 무역금융 40조 확대   \n",
       "1                해산물·주류 무제한 인터컨티넨탈 뷔페 여름 한정 페스타 연다   \n",
       "2  한국인 생활 변화시킨 의사 마지막까지 영향력 컸던 과학자 이호왕 고려대 명예교수 소천   \n",
       "3                      에디슨이노 이승훈 제이스페이스 대표 사내이사 선임   \n",
       "4             SK바사 해외 사업 조직 개편… 글로벌 탑티어 기업으로 성장 박차   \n",
       "\n",
       "                                            document  \\\n",
       "0  앵커 정부가 올해 하반기 우리 경제의 버팀목인 수출 확대를 위해 총력을 기울이기로 ...   \n",
       "1  문어 랍스터 대게 갑오징어 새우 소라 등 해산물 활용 미국식 해물찜 시푸드 보일 준...   \n",
       "2  한탄바이러스 발견 노벨상 유력 후보로 자주 거론 한국을 대표하는 의학자이자 미생물학...   \n",
       "3  기사내용 요약 우주발사체 사업 본격화 서울 뉴시스 김경택 기자 에디슨이노가 우주발사...   \n",
       "4  SK바이오사이언스가 글로벌 사업의 고도화를 위해 조직 개편을 단행했다. SK바이오사...   \n",
       "\n",
       "                                                link  \\\n",
       "0  https://n.news.naver.com/mnews/article/052/000...   \n",
       "1  https://n.news.naver.com/mnews/article/277/000...   \n",
       "2  https://n.news.naver.com/mnews/article/584/000...   \n",
       "3  https://n.news.naver.com/mnews/article/003/001...   \n",
       "4  https://n.news.naver.com/mnews/article/008/000...   \n",
       "\n",
       "                                             summary  \n",
       "0  올해 상반기 우리나라 무역수지는 역대 최악인 103억 달러 적자를 기록한 가운데, ...  \n",
       "1  인터엑스 1층 뷔페 레스토랑 브래서리는 오는 6일부터 8월31일까지 쿨 섬머 페스타...  \n",
       "2  이 이호왕 고려대 명예교수는 바이러스의 병원체와 진단법 백신까지 모두 개발한 한국을...  \n",
       "3  에디슨이노는 1일 임시주주총회를 통해 사명을 이노시스 로 변경하고 이승훈 제이스페이...  \n",
       "4  SK바이오사이언스가 글로벌 사업의 고도화를 위해 기존 해외사업개발실을 백신사업뿐만 ...  "
      ]
     },
     "execution_count": 14,
     "metadata": {},
     "output_type": "execute_result"
    }
   ],
   "source": [
    "df = load_dataset(\"daekeun-ml/naver-news-summarization-ko\", split='train[:20]').to_pandas()\n",
    "df.head()"
   ]
  },
  {
   "cell_type": "code",
   "execution_count": 3,
   "id": "bda6a330",
   "metadata": {},
   "outputs": [
    {
     "data": {
      "application/vnd.jupyter.widget-view+json": {
       "model_id": "863d7a0d05c4498f95087737c9c22021",
       "version_major": 2,
       "version_minor": 0
      },
      "text/plain": [
       "modules.json:   0%|          | 0.00/229 [00:00<?, ?B/s]"
      ]
     },
     "metadata": {},
     "output_type": "display_data"
    },
    {
     "name": "stderr",
     "output_type": "stream",
     "text": [
      "c:\\Users\\jjsd4\\workspace\\torch\\Lib\\site-packages\\huggingface_hub\\file_download.py:143: UserWarning: `huggingface_hub` cache-system uses symlinks by default to efficiently store duplicated files but your machine does not support them in C:\\Users\\jjsd4\\.cache\\huggingface\\hub\\models--snunlp--KR-SBERT-V40K-KlueNLI-augSTS. Caching files will still work but in a degraded version that might require more space on your disk. This warning can be disabled by setting the `HF_HUB_DISABLE_SYMLINKS_WARNING` environment variable. For more details, see https://huggingface.co/docs/huggingface_hub/how-to-cache#limitations.\n",
      "To support symlinks on Windows, you either need to activate Developer Mode or to run Python as an administrator. In order to activate developer mode, see this article: https://docs.microsoft.com/en-us/windows/apps/get-started/enable-your-device-for-development\n",
      "  warnings.warn(message)\n"
     ]
    },
    {
     "data": {
      "application/vnd.jupyter.widget-view+json": {
       "model_id": "36d7fdf8ff084af19101f0908bb2f22a",
       "version_major": 2,
       "version_minor": 0
      },
      "text/plain": [
       "config_sentence_transformers.json:   0%|          | 0.00/124 [00:00<?, ?B/s]"
      ]
     },
     "metadata": {},
     "output_type": "display_data"
    },
    {
     "data": {
      "application/vnd.jupyter.widget-view+json": {
       "model_id": "fa7c06ef80124a45ae8303c5433a2431",
       "version_major": 2,
       "version_minor": 0
      },
      "text/plain": [
       "README.md: 0.00B [00:00, ?B/s]"
      ]
     },
     "metadata": {},
     "output_type": "display_data"
    },
    {
     "data": {
      "application/vnd.jupyter.widget-view+json": {
       "model_id": "3923192851104b39a6fa084d63235f70",
       "version_major": 2,
       "version_minor": 0
      },
      "text/plain": [
       "sentence_bert_config.json:   0%|          | 0.00/53.0 [00:00<?, ?B/s]"
      ]
     },
     "metadata": {},
     "output_type": "display_data"
    },
    {
     "data": {
      "application/vnd.jupyter.widget-view+json": {
       "model_id": "aba884c1b0e74084a43b230d31dce730",
       "version_major": 2,
       "version_minor": 0
      },
      "text/plain": [
       "config.json:   0%|          | 0.00/707 [00:00<?, ?B/s]"
      ]
     },
     "metadata": {},
     "output_type": "display_data"
    },
    {
     "data": {
      "application/vnd.jupyter.widget-view+json": {
       "model_id": "7149a086ea2f4f92b9d878a07f63c967",
       "version_major": 2,
       "version_minor": 0
      },
      "text/plain": [
       "pytorch_model.bin:   0%|          | 0.00/467M [00:00<?, ?B/s]"
      ]
     },
     "metadata": {},
     "output_type": "display_data"
    },
    {
     "data": {
      "application/vnd.jupyter.widget-view+json": {
       "model_id": "ce319019ecb64b659fdb712a07e96d26",
       "version_major": 2,
       "version_minor": 0
      },
      "text/plain": [
       "tokenizer_config.json:   0%|          | 0.00/394 [00:00<?, ?B/s]"
      ]
     },
     "metadata": {},
     "output_type": "display_data"
    },
    {
     "data": {
      "application/vnd.jupyter.widget-view+json": {
       "model_id": "d14ce11e1e114389b86824057271310b",
       "version_major": 2,
       "version_minor": 0
      },
      "text/plain": [
       "vocab.txt: 0.00B [00:00, ?B/s]"
      ]
     },
     "metadata": {},
     "output_type": "display_data"
    },
    {
     "data": {
      "application/vnd.jupyter.widget-view+json": {
       "model_id": "957397af48d64300bb35f7c0184e12e7",
       "version_major": 2,
       "version_minor": 0
      },
      "text/plain": [
       "tokenizer.json: 0.00B [00:00, ?B/s]"
      ]
     },
     "metadata": {},
     "output_type": "display_data"
    },
    {
     "data": {
      "application/vnd.jupyter.widget-view+json": {
       "model_id": "126c1829c2d14391b4068b9491e2253b",
       "version_major": 2,
       "version_minor": 0
      },
      "text/plain": [
       "special_tokens_map.json:   0%|          | 0.00/112 [00:00<?, ?B/s]"
      ]
     },
     "metadata": {},
     "output_type": "display_data"
    },
    {
     "data": {
      "application/vnd.jupyter.widget-view+json": {
       "model_id": "079c4c8294fe49a1b6cd2d3d01f35f5b",
       "version_major": 2,
       "version_minor": 0
      },
      "text/plain": [
       "config.json:   0%|          | 0.00/190 [00:00<?, ?B/s]"
      ]
     },
     "metadata": {},
     "output_type": "display_data"
    }
   ],
   "source": [
    "from sentence_transformers import SentenceTransformer\n",
    "\n",
    "model = SentenceTransformer('snunlp/KR-SBERT-V40K-KlueNLI-augSTS')"
   ]
  },
  {
   "cell_type": "markdown",
   "id": "d4299001",
   "metadata": {},
   "source": [
    "pandas에 들어가있는 데이터들을 블록으로 나눌 것임\n",
    "- 데이터 많은 양을 그냥 넣으면, db에 들어갔을때 유사성 검색 이런 것 하기가 어려워짐\n",
    "- 검색하기 용이하고, 많은 용량의 문서 파일에서 내가 질문 한 것에 최적화되어 있는 데이터를 만들어주길 원함\n",
    "- context로 들어가는 문서들을 조각조각 블록화시켜야함"
   ]
  },
  {
   "cell_type": "code",
   "execution_count": 4,
   "id": "28414f4b",
   "metadata": {},
   "outputs": [
    {
     "name": "stderr",
     "output_type": "stream",
     "text": [
      "20it [00:01, 19.63it/s]\n",
      "100%|██████████| 20/20 [00:00<?, ?it/s]\n",
      "100%|██████████| 1/1 [00:00<00:00, 13.70it/s]\n"
     ]
    }
   ],
   "source": [
    "# 데이터 넣기\n",
    "\n",
    "ids = []\n",
    "metadatas = []\n",
    "embeddings = []\n",
    "\n",
    "#date\tcategory\tpress\ttitle\tdocument\tlink\tsummary\n",
    "\n",
    "for row in tqdm(df.iterrows()):\n",
    "    index = row[0]\n",
    "    query = row[1].title\n",
    "    answer = row[1].summary\n",
    "\n",
    "    metadata = {\n",
    "        \"query\": query,\n",
    "        \"answer\": answer\n",
    "    }\n",
    "\n",
    "    embedding = model.encode(query, normalize_embeddings=True)\n",
    "\n",
    "    ids.append(str(index))\n",
    "    metadatas.append(metadata)\n",
    "    embeddings.append(embedding)\n",
    "\n",
    "chunk_size = 1024  # 한 번에 처리할 chunk 크기 설정\n",
    "total_chunks = len(embeddings) // chunk_size + 1  # 전체 데이터를 chunk 단위로 나눈 횟수\n",
    "embeddings = [e.tolist() for e in tqdm(embeddings)]\n",
    "\n",
    "for chunk_idx in tqdm(range(total_chunks)):\n",
    "    start_idx = chunk_idx * chunk_size\n",
    "    end_idx = (chunk_idx + 1) * chunk_size\n",
    "\n",
    "    # chunk 단위로 데이터 자르기\n",
    "    chunk_embeddings = embeddings[start_idx:end_idx]\n",
    "    chunk_ids = ids[start_idx:end_idx]\n",
    "    chunk_metadatas = metadatas[start_idx:end_idx]\n",
    "\n",
    "    # chunk를 answers에 추가\n",
    "    collection.add(embeddings=chunk_embeddings, ids=chunk_ids, metadatas=chunk_metadatas)"
   ]
  },
  {
   "cell_type": "markdown",
   "id": "58a96a33",
   "metadata": {},
   "source": [
    "pdf에서 문장을 검색할때, 블록으로 자르면 갭이 생김\n",
    "- 오버랩되게 잘라야함"
   ]
  },
  {
   "cell_type": "code",
   "execution_count": null,
   "id": "41f38143",
   "metadata": {},
   "outputs": [
    {
     "name": "stdout",
     "output_type": "stream",
     "text": [
      "{'ids': [['11', '3', '15']], 'embeddings': None, 'documents': [[None, None, None]], 'uris': None, 'included': ['metadatas', 'documents', 'distances'], 'data': None, 'metadatas': [[{'query': '특징주 삼성전자·SK하이닉스 또다시 52주 신저가 추락', 'answer': '4일 오전 9시 5분 현재 유가증권시장에서 삼성전자는 전 거래일보다 0.53% 내린 5만5천900원에, SK하이닉스도 전날보다 1.14% 내린 8만6천500원에 거래되면서 삼성전자와 SK하이닉스가 4일 오전 재차 52주 신저가를 경신했다.'}, {'answer': '에디슨이노는 1일 임시주주총회를 통해 사명을 이노시스 로 변경하고 이승훈 제이스페이스홀딩스 대표이사를 사내이사로 선임하고 위성체 발사와 우주선 위성시스템 등 항공 우주 분야와 자율 주행·그래핀 관련 사업을 사업목적에 추가하여 우주발사체 사업에 본격 진출한다고 1일 밝혔다.', 'query': '에디슨이노 이승훈 제이스페이스 대표 사내이사 선임'}, {'answer': '삼성바이오로직스는 4일 공시를 통해 미국 제약기업 MSD MSD International Business GmbH 와 2768억2938만원 규모의 의약품 위탁생산 공급계약을 2022년 7월 1일부터 2028년 12월 31일까지 최근 매출액 대비 17.65% 규모로 체결했다고 밝혔다.', 'query': '삼성바이오로직스 MSD와 2768억원 위탁생산계약 체결'}]], 'distances': [[0.8033769130706787, 1.4475741386413574, 1.4505667686462402]]}\n"
     ]
    }
   ],
   "source": [
    "result = collection.query(\n",
    "    query_embeddings=model.encode(\"미국 뉴욕증시 52년만에\", normalize_embeddings=True).tolist(),\n",
    "    n_results=3\n",
    "    )\n",
    "\n",
    "print(result)"
   ]
  },
  {
   "cell_type": "markdown",
   "id": "dd309a8b",
   "metadata": {},
   "source": [
    "## <font color=yellow>2. Chroma DB with LangChain</font>"
   ]
  },
  {
   "cell_type": "code",
   "execution_count": 9,
   "id": "bdb02da3",
   "metadata": {},
   "outputs": [
    {
     "name": "stderr",
     "output_type": "stream",
     "text": [
      "C:\\Users\\jjsd4\\AppData\\Local\\Temp\\ipykernel_2788\\2168574625.py:22: LangChainDeprecationWarning: The class `HuggingFaceEmbeddings` was deprecated in LangChain 0.2.2 and will be removed in 1.0. An updated version of the class exists in the :class:`~langchain-huggingface package and should be used instead. To use it run `pip install -U :class:`~langchain-huggingface` and import as `from :class:`~langchain_huggingface import HuggingFaceEmbeddings``.\n",
      "  embedding_function = SentenceTransformerEmbeddings(model_name=\"all-MiniLM-L6-v2\")\n"
     ]
    },
    {
     "data": {
      "application/vnd.jupyter.widget-view+json": {
       "model_id": "93f9368cd07c42beb7d4e7db0c4a64d7",
       "version_major": 2,
       "version_minor": 0
      },
      "text/plain": [
       "modules.json:   0%|          | 0.00/349 [00:00<?, ?B/s]"
      ]
     },
     "metadata": {},
     "output_type": "display_data"
    },
    {
     "name": "stderr",
     "output_type": "stream",
     "text": [
      "c:\\Users\\jjsd4\\workspace\\torch\\Lib\\site-packages\\huggingface_hub\\file_download.py:143: UserWarning: `huggingface_hub` cache-system uses symlinks by default to efficiently store duplicated files but your machine does not support them in C:\\Users\\jjsd4\\.cache\\huggingface\\hub\\models--sentence-transformers--all-MiniLM-L6-v2. Caching files will still work but in a degraded version that might require more space on your disk. This warning can be disabled by setting the `HF_HUB_DISABLE_SYMLINKS_WARNING` environment variable. For more details, see https://huggingface.co/docs/huggingface_hub/how-to-cache#limitations.\n",
      "To support symlinks on Windows, you either need to activate Developer Mode or to run Python as an administrator. In order to activate developer mode, see this article: https://docs.microsoft.com/en-us/windows/apps/get-started/enable-your-device-for-development\n",
      "  warnings.warn(message)\n"
     ]
    },
    {
     "data": {
      "application/vnd.jupyter.widget-view+json": {
       "model_id": "3d239154727f4fb1b61e8e5916640d4d",
       "version_major": 2,
       "version_minor": 0
      },
      "text/plain": [
       "config_sentence_transformers.json:   0%|          | 0.00/116 [00:00<?, ?B/s]"
      ]
     },
     "metadata": {},
     "output_type": "display_data"
    },
    {
     "data": {
      "application/vnd.jupyter.widget-view+json": {
       "model_id": "5fd716a9e4b94d7280c823b486f2b247",
       "version_major": 2,
       "version_minor": 0
      },
      "text/plain": [
       "README.md: 0.00B [00:00, ?B/s]"
      ]
     },
     "metadata": {},
     "output_type": "display_data"
    },
    {
     "data": {
      "application/vnd.jupyter.widget-view+json": {
       "model_id": "0614309a9ab24075967463642a346538",
       "version_major": 2,
       "version_minor": 0
      },
      "text/plain": [
       "sentence_bert_config.json:   0%|          | 0.00/53.0 [00:00<?, ?B/s]"
      ]
     },
     "metadata": {},
     "output_type": "display_data"
    },
    {
     "data": {
      "application/vnd.jupyter.widget-view+json": {
       "model_id": "db8c0b9ee21e458db53235fbe003d0a6",
       "version_major": 2,
       "version_minor": 0
      },
      "text/plain": [
       "config.json:   0%|          | 0.00/612 [00:00<?, ?B/s]"
      ]
     },
     "metadata": {},
     "output_type": "display_data"
    },
    {
     "name": "stderr",
     "output_type": "stream",
     "text": [
      "Xet Storage is enabled for this repo, but the 'hf_xet' package is not installed. Falling back to regular HTTP download. For better performance, install the package with: `pip install huggingface_hub[hf_xet]` or `pip install hf_xet`\n"
     ]
    },
    {
     "data": {
      "application/vnd.jupyter.widget-view+json": {
       "model_id": "39b1c3df311f4cd397f278e999327790",
       "version_major": 2,
       "version_minor": 0
      },
      "text/plain": [
       "model.safetensors:   0%|          | 0.00/90.9M [00:00<?, ?B/s]"
      ]
     },
     "metadata": {},
     "output_type": "display_data"
    },
    {
     "data": {
      "application/vnd.jupyter.widget-view+json": {
       "model_id": "f17531a8b523459b9eadd88f19eb7b62",
       "version_major": 2,
       "version_minor": 0
      },
      "text/plain": [
       "tokenizer_config.json:   0%|          | 0.00/350 [00:00<?, ?B/s]"
      ]
     },
     "metadata": {},
     "output_type": "display_data"
    },
    {
     "data": {
      "application/vnd.jupyter.widget-view+json": {
       "model_id": "35c0725855254c02a965852f6fdd45b2",
       "version_major": 2,
       "version_minor": 0
      },
      "text/plain": [
       "vocab.txt: 0.00B [00:00, ?B/s]"
      ]
     },
     "metadata": {},
     "output_type": "display_data"
    },
    {
     "data": {
      "application/vnd.jupyter.widget-view+json": {
       "model_id": "d418c0037ae94ba692581c8bf51e878d",
       "version_major": 2,
       "version_minor": 0
      },
      "text/plain": [
       "tokenizer.json: 0.00B [00:00, ?B/s]"
      ]
     },
     "metadata": {},
     "output_type": "display_data"
    },
    {
     "data": {
      "application/vnd.jupyter.widget-view+json": {
       "model_id": "842cbfed7eee41d3b24abfe2be6c8fb0",
       "version_major": 2,
       "version_minor": 0
      },
      "text/plain": [
       "special_tokens_map.json:   0%|          | 0.00/112 [00:00<?, ?B/s]"
      ]
     },
     "metadata": {},
     "output_type": "display_data"
    },
    {
     "data": {
      "application/vnd.jupyter.widget-view+json": {
       "model_id": "ad73051be4a7495fb7b61540dddc5bcf",
       "version_major": 2,
       "version_minor": 0
      },
      "text/plain": [
       "config.json:   0%|          | 0.00/190 [00:00<?, ?B/s]"
      ]
     },
     "metadata": {},
     "output_type": "display_data"
    },
    {
     "name": "stdout",
     "output_type": "stream",
     "text": [
      "date: 2022-07-05 18:42:03\n",
      "category: economy\n",
      "press: 연합뉴스TV\n",
      "title: 과기부 허준이 필즈상 기쁜 소식…한국 수학 발전 기대\n",
      "document: 정부가 허준이 미국 프린스턴대 교수 겸 한국 고등과학원 수학부 석학교수의 필즈상 수상을 축하했습니다. 과학기술정보통신부는 대수기하학의 토대가 더욱 확장되도록 새 지평을 연 공로를 인정받아 한국계 최초로 필즈상 수상의 쾌거를 이룩했다 며 축하했습니다. 또 허 교수의 필즈상 수상은 올해 국제수학연맹에서 한국의 수학 국가등급을 최고등급으로 상향한 것에 이은 기쁜 소식 이라며 허 교수의 행보와 한국 수학계의 지속적 발전 역시 기대된다고 덧붙였습니다.\n",
      "link: https://n.news.naver.com/mnews/article/422/0000549728?sid=101\n",
      "summary: 정부가 허준이 미국 프린스턴대 교수 겸 한국 고등과학원 수학부 석학교수의 필즈상 수상을 축하했고 과학기술정보통신부는 대수기하학의 토대가 더욱 확장되도록 새 지평을 연 공로를 연 공로를 연 공로를 연 공로를 연 공로를 연 공로를 연 공로를 연 허준이 미국 프린스턴대 교수 겸 한국 고등과학원 수학부 석학교수의 필즈상 수상을 축하했다.\n"
     ]
    }
   ],
   "source": [
    "import os \n",
    "\n",
    "from langchain_chroma import Chroma\n",
    "# from langchain_community.document_loaders import TextLoader\n",
    "from langchain_community.document_loaders import CSVLoader\n",
    "from langchain_community.embeddings.sentence_transformer import (\n",
    "    SentenceTransformerEmbeddings,\n",
    ")\n",
    "from langchain_text_splitters import CharacterTextSplitter\n",
    "from langchain.schema import Document\n",
    "\n",
    "if not os.path.exists(\"naver_news.csv\"):\n",
    "    dataset = load_dataset(\"daekeun-ml/naver-news-summarization-ko\", split='train[:20]')\n",
    "    dataset.to_csv(\"naver_news.csv\", index=False)\n",
    "\n",
    "loader = CSVLoader(\"naver_news.csv\", encoding='utf-8')\n",
    "documents = loader.load()\n",
    "\n",
    "text_splitter = CharacterTextSplitter(chunk_size=1000, chunk_overlap=0)\n",
    "docs = text_splitter.split_documents(documents)\n",
    "\n",
    "embedding_function = SentenceTransformerEmbeddings(model_name=\"all-MiniLM-L6-v2\")\n",
    "\n",
    "db = Chroma.from_documents(docs, embedding_function)\n",
    "\n",
    "query = \"에디슨이노 이승훈\"\n",
    "docs = db.similarity_search(query)\n",
    "\n",
    "print(docs[0].page_content)"
   ]
  },
  {
   "cell_type": "code",
   "execution_count": 11,
   "id": "cb3b4653",
   "metadata": {},
   "outputs": [
    {
     "data": {
      "text/plain": [
       "[Document(metadata={'source': 'naver_news.csv', 'row': 0}, page_content='date: 2022-07-03 17:14:37\\ncategory: economy\\npress: YTN\\ntitle: 추경호 중기 수출지원 총력 무역금융 40조 확대\\ndocument: 앵커 정부가 올해 하반기 우리 경제의 버팀목인 수출 확대를 위해 총력을 기울이기로 했습니다. 특히 수출 중소기업의 물류난 해소를 위해 무역금융 규모를 40조 원 이상 확대하고 물류비 지원과 임시선박 투입 등을 추진하기로 했습니다. 류환홍 기자가 보도합니다. 기자 수출은 최고의 실적을 보였지만 수입액이 급증하면서 올해 상반기 우리나라 무역수지는 역대 최악인 103억 달러 적자를 기록했습니다. 정부가 수출확대에 총력을 기울이기로 한 것은 원자재 가격 상승 등 대외 리스크가 가중되는 상황에서 수출 증가세 지속이야말로 한국경제의 회복을 위한 열쇠라고 본 것입니다. 추경호 경제부총리 겸 기획재정부 장관 정부는 우리 경제의 성장엔진인 수출이 높은 증가세를 지속할 수 있도록 총력을 다하겠습니다. 우선 물류 부담 증가 원자재 가격 상승 등 가중되고 있는 대외 리스크에 대해 적극 대응하겠습니다. 특히 중소기업과 중견기업 수출 지원을 위해 무역금융 규모를 연초 목표보다 40조 원 늘린 301조 원까지 확대하고 물류비 부담을 줄이기 위한 대책도 마련했습니다. 이창양 산업통상자원부 장관 국제 해상운임이 안정될 때까지 월 4척 이상의 임시선박을 지속 투입하는 한편 중소기업 전용 선복 적재 용량 도 현재보다 주당 50TEU 늘려 공급하겠습니다. 하반기에 우리 기업들의 수출 기회를 늘리기 위해 2 500여 개 수출기업을 대상으로 해외 전시회 참가를 지원하는 등 마케팅 지원도 벌이기로 했습니다. 정부는 또 이달 중으로 반도체를 비롯한 첨단 산업 육성 전략을 마련해 수출 증가세를 뒷받침하고 에너지 소비를 줄이기 위한 효율화 방안을 마련해 무역수지 개선에 나서기로 했습니다. YTN 류환홍입니다.\\nlink: https://n.news.naver.com/mnews/article/052/0001759333?sid=101\\nsummary: 올해 상반기 우리나라 무역수지는 역대 최악인 103억 달러 적자를 기록한 가운데, 정부가 하반기에 우리 경제의 버팀목인 수출 확대를 위해 총력을 기울이기로 결정한 가운데, 특히 수출 중소기업의 물류난 해소를 위해 무역금융 규모를 40조 원 이상 확대하고 물류비 지원과 임시선박 투입 등을 추진하기로 했다.'),\n",
       " Document(metadata={'source': 'naver_news.csv', 'row': 1}, page_content='date: 2022-07-04 08:07:12\\ncategory: economy\\npress: 아시아경제\\ntitle: 해산물·주류 무제한 인터컨티넨탈 뷔페 여름 한정 페스타 연다\\ndocument: 문어 랍스터 대게 갑오징어 새우 소라 등 해산물 활용 미국식 해물찜 시푸드 보일 준비 7 8월 2만5000원 추가 시 와인 5종 및 생맥주 무제한 제공 인터컨티넨탈 서울 코엑스 브래서리 쿨 섬머 페스타 . 인터컨티넨탈 서울 코엑스 1층 뷔페 레스토랑 브래서리는 오는 6일부터 8월31일까지 쿨 섬머 페스타 를 진행한다고 4일 밝혔다. 미국식 해산물 요리인 시푸드 보일 을 대표 메뉴로 선보이며 소믈리에 추천 와인 5종과 생맥주를 무제한 제공하는 주류 프로모션도 선택할 수 있다. 시푸드 보일 이 대표 메뉴로 준비되고 라이브 스테이션에서 셰프가 직접 원하는 메뉴를 먹기 좋게 잘라 제공한다. 시푸드 보일은 문어와 랍스터 대게 갑오징어 새우 소라 관자 낙지 등 해산물을 쪄낸 뒤 셰프의 비법 시즈닝으로 이국적인 감칠맛을 더한 메뉴다. 프로모션 기간에는 해물전 가리비 불도장 장어 데마끼 로제 해물 뇨끼 등 한식 중식 일식 양식 등 세계 각국의 해산물 메뉴도 즐길 수 있다. 소믈리에 추천 와인 5종과 생맥주를 무제한으로 제공하는 옵션도 선택할 수 있다. 제공되는 와인은 레드와 화이트 와인 각 2종 스파클링 와인 1종으로 취향에 따라 다양하게 즐길 수 있다. 해당 기간 동안 입구 와인셀렉션 코너에서 10만원 이상 와인 구매 시 호텔에서 제작한 주트백도 선물로 증정한다. 이용 가격은 이전과 동일하며 네이버 예약 시 10% 할인 혜택도 제공한다. 주류 무제한 혜택은 2만5000원 추가 시 이용할 수 있다.\\nlink: https://n.news.naver.com/mnews/article/277/0005112302?sid=101\\nsummary: 인터엑스 1층 뷔페 레스토랑 브래서리는 오는 6일부터 8월31일까지 쿨 섬머 페스타 를 진행하는데 미국식 해산물 요리인 시푸드 보일 을 대표 메뉴로 선보이며 소믈리에 추천 와인 5종과 생맥주를 무제한 제공하는 주류 프로모션도 선택할 수 있으며  프로모션 기간에는 해물전 가리비 불도장 장어 데마끼 로제 해물 뇨끼 등 한식 중식 일식 양식 등 세계 각국의 해산물 메뉴도 즐길 수 있다.'),\n",
       " Document(metadata={'source': 'naver_news.csv', 'row': 2}, page_content='date: 2022-07-05 18:01:01\\ncategory: IT과학\\npress: 동아사이언스\\ntitle: 한국인 생활 변화시킨 의사 마지막까지 영향력 컸던 과학자 이호왕 고려대 명예교수 소천\\ndocument: 한탄바이러스 발견 노벨상 유력 후보로 자주 거론 한국을 대표하는 의학자이자 미생물학자 이호왕 고려대 명예교수. 고려대의대 제공 한탄바이러스를 발견한 우리나라 대표 의과학자 이호왕 고려대 명예교수가 5일 숙환으로 별세했다. 향년 94세. 고인은 바이러스의 병원체와 진단법 백신까지 모두 개발한 한국을 대표하는 의학자이자 미생물학자다. 신증후군출혈열 병원체인 한탄바이러스와 서울바이러스를 세계 최초로 발견하고 예방백신 및 진단법을 개발해 세계 의학발전에 기여한 것으로 평가된다. 1928년 함경남도 신흥에서 출생한 고인은 1973년 고대의대에 부임해 의과대학장을 지냈으며 1982년 세계보건기구 신증후출혈열연구협력센터 소장 2000년 대한민국학술원 회장 등을 역임했다. 1979년 미국 최고민간인공로훈장 1987년 인촌상 1992년 호암상 1995년 태국 프린스 마히돌상 2001년 일본 니케이 아시아상 2002년 과학기술훈장 창조장 2009년 서재필의학상 2018년 대한민국 과학기술유공자로 추대됐으며 2002년 미국 학술원 NAS 외국회원 2009년 일본 학사원 명예회원에 선정되며 국내외 학계에서 활발한 활동을 이어왔다. 고인의 빈소는 고려대 안암병원 장례식장 303호에 마련됐다. 발인은 7일 오전 11시 50분이고 장지는 서울추모공원이다. 고인은 1976년 3월 경기도 동두천 한탄강 유역에서 채집한 등줄쥐의 폐 조직에서 세계 최초로 유행성출혈열 병원체와 면역체를 발견한 것으로 널리 알려졌다. 고인은 이 병원체 바이러스를 발견장소의 이름을 따 명명했다. 그 유명한 한탄 바이러스 의 발견이었다. 고인이 병원체를 발견하기 전까지 이 유행성출혈열은 당시 정체불명의 괴질로 유명했다. 1916년 러시아 블라디보스토크에서 첫 환자가 보고된 뒤 2차 세계대전과 6·25전쟁을 거치며 수천 명의 희생자를 냈다. 당시 소련과 중국은 대대적인 인체실험까지 벌였고 미국은 노벨상 수상자 2명이 포함된 연구진 200여명과 막대한 예산을 투입해 정체를 밝히려고 애썼지만 감염 경로와 원인 병원체를 찾지 못했다. 한탄바이러스가 발견된 이후 국내에선 백신제조까지 일사천리로 이뤄졌다. 1991년 녹십자는 고인과 공동연구를 유행성출혈열 예방 백신 ‘한타 박스’를 내놨다. 바이러스 발견자가 진단법과 예방 백신까지 개발한 최초 사례다. 지금도 휴전선 일대에 근무하는 군인과 주민은 이 주사를 맞는다. 고인은 한탄바이러스 분리와 백신 개발로 유력한 노벨상 수상자로 거론되기도 했다. 2019년 9월 연구데이터 분석기업 클래리베이터 애널리틱스가 선정한 ‘2021년 피인용 우수 연구자’ 16명 중 한 명으로 꼽혔기 때문이다. 당시 국내 기관 소속 연구자로는 다섯 번째 한국인으로는 네 번째였다. 클래리베이트의 피인용 우수 연구자는 1970년 이후 등록된 과학기술인용색인 SCI 논문 5200만여 건 중 최상위 0.01%에 속하는 2000회 이상 인용된 논문을 보유하면서 동시에 연구가 독창적이고 인류에 높은 공헌을 한 경우 선정된다. 노벨상 수상의 예측 지표 중 하나로 여겨진다. 고인은 또한 한국인이 사랑하는 근대 과학자였다. 지난 2016년 과학기술정보통신부 전신인 미래창조과학부와 한국과학창의재단 한국경제신문이 진행한 우리 생활을 변화시킨 근현대 대표 과학기술인’ 조사에서 한국이 낳은 세계적 물리학자인 고 故 이휘소 박사가 대한민국 최고 과학자에 이어 고인을 두 번째로 많이 꼽았다.\\nlink: https://n.news.naver.com/mnews/article/584/0000019529?sid=105\\nsummary: 이 이호왕 고려대 명예교수는 바이러스의 병원체와 진단법 백신까지 모두 개발한 한국을 대표하는 의학자이자 미생물학자이며, 신증후군출혈열 병원체인 한탄바이러스와 서울바이러스를 세계 최초로 발견하고 예방백신 및 진단법을 개발해 세계 의학발전에 기여한 것으로 평가된다.'),\n",
       " Document(metadata={'source': 'naver_news.csv', 'row': 3}, page_content='date: 2022-07-01 08:51:12\\ncategory: economy\\npress: 뉴시스\\ntitle: 에디슨이노 이승훈 제이스페이스 대표 사내이사 선임\\ndocument: 기사내용 요약 우주발사체 사업 본격화 서울 뉴시스 김경택 기자 에디슨이노가 우주발사체 사업에 본격 진출한다고 1일 밝혔다. 에디슨이노는 전날 임시주주총회를 통해 사명을 이노시스 로 변경하고 이승훈 제이스페이스홀딩스 대표이사를 사내이사로 선임했다. 이날 사업 목적에 위성체 발사와 우주선 위성시스템 등 항공 우주 분야와 자율 주행·그래핀 관련 사업을 사업목적에 추가했다. 사내이사에 이승영 카이스트 정밀기계공학 박사를 영입해 임플란트 관련 연구·생산기술을 보강했다. 서울대 화학생물공학 출신 최도영 씨도 선임해 현재 임상 시험계획 승인을 받은 생체흡수성 금속 리조멧 사업 확대를 도모한다 계획이다. 골절 수술 시 인체에 흡수되는 소재인 리조멧은 국내 임상 계획 승인과 중국 내 임상승인에 요구되는 시험을 통과한 상태다.\\nlink: https://n.news.naver.com/mnews/article/003/0011279060?sid=101\\nsummary: 에디슨이노는 1일 임시주주총회를 통해 사명을 이노시스 로 변경하고 이승훈 제이스페이스홀딩스 대표이사를 사내이사로 선임하고 위성체 발사와 우주선 위성시스템 등 항공 우주 분야와 자율 주행·그래핀 관련 사업을 사업목적에 추가하여 우주발사체 사업에 본격 진출한다고 1일 밝혔다.'),\n",
       " Document(metadata={'source': 'naver_news.csv', 'row': 4}, page_content='date: 2022-07-01 16:11:01\\ncategory: economy\\npress: 머니투데이\\ntitle: SK바사 해외 사업 조직 개편… 글로벌 탑티어 기업으로 성장 박차\\ndocument: SK바이오사이언스가 글로벌 사업의 고도화를 위해 조직 개편을 단행했다. SK바이오사이언스는 기존 해외사업개발실을 BD Business Development 1 3실로 확대 재편하고 글로벌 규제 및 허가 전담 조직인 Global RA Regulatory Affairs 실을 신설한다고 1일 밝혔다. SK바이오사이언스는 지난해 코로나19 COVID 19 백신 위탁 생산 등으로 주목받는 백신 기업으로 부상하며 글로벌 사업의 영역과 규모가 급속도로 성장 중이다. 이러한 성장 속도에 맞춰 기존 전담 조직인 해외사업개발실을 보다 세분화 및 전문화하고자 BD 1 3실로 확대 재편했다. BD 1 3실은 앞으로 기존에 영위 중인 백신 사업뿐만 아니라 세포·유전자치료제 CGT 등 신규 사업에 대한 △글로벌 네트워크들과의 공동 개발 △신규 C D MO 수주 △개발 제품 상업화 등 다양한 영역의 사업을 고도화하고 실행력을 높이는 업무를 담당한다. 또한 Global RA실을 신설해 미국 유럽 등 해외 선진국의 GMP Good Manufacturing Practice 를 확보하는 등 국제적인 수준의 관련 인증 및 허가 획득에도 더욱 박차를 가할 방침이다. CMC팀도 신설됐다. CMC는 화학 Chemistry 제조 Manufacturing 품질 Control 의 약자다. CMC팀은 완제 의약품을 만드는 공정 개발 process development 과 품질 관리 quality control 부문에서 핵심적인 역할을 수행한다. 연구부터 임상 허가 생산 품질에 이르는 GMP 관련 제반 업무를 관리한다. SK바이오사이언스는 이번 조직 개편이 글로벌 탑티어 바이오 기업으로의 성장을 더욱 앞당기고 초격차 경쟁력 확보의 계기가 될 것으로 기대하고 있다. SK바이오사이언스는 지난달 29일 국내 최초 코로나19 백신인 스카이코비원 SKYCovione 멀티주 의 품목허가를 획득했다. 이어 국가출하승인 및 WHO 등 해외 승인을 통해 국내외 백신 시장에 본격 진출할 예정이다.\\nlink: https://n.news.naver.com/mnews/article/008/0004765787?sid=101\\nsummary: SK바이오사이언스가 글로벌 사업의 고도화를 위해 기존 해외사업개발실을 백신사업뿐만 아니라 다양한 영역의 사업을 고도화하고 실행력을 높이는 업무를 담당하는 1 3실로 확대 재편하고 글로벌 규제 및 허가 전담 조직을 신설한다고 1일 밝혔다.'),\n",
       " Document(metadata={'source': 'naver_news.csv', 'row': 5}, page_content='date: 2022-07-01 21:48:04\\ncategory: economy\\npress: 경향신문\\ntitle: 금융당국 “증시 변동성 완화 조치”\\ndocument: 4일부터 석달간 증권사 신용융자담보비율 유지의무 면제 금융당국이 코스피지수가 장중 2300 아래까지 떨어지자 주식시장 변동성을 완화하는 조치를 시행하기로 했다. 금융위원회는 1일 주식시장 마감 후 김소영 부위원장 주재로 증권 유관기관과 금융시장합동점검회의를 열고 변동성 완화조치를 시행하기로 했다고 밝혔다. 이에 따라 다음 주식시장 개장일인 오는 4일부터 9월30일까지 3개월간 증권사의 신용융자담보비율 유지의무가 면제된다. 신용융자담보비율 유지의무란 증권사가 일명 ‘빚투’ 빚내서 투자 자금인 신용융자를 시행할 때 담보를 140% 이상 확보하고 내규에서 정한 담보비율을 유지할 것을 요구하는 규제다. 유지의무 면제는 증권사의 신용융자 담보주식에 대한 과도한 반대매매를 억제하기 위한 조치다. 금융당국은 코로나19 사태가 본격화한 2020년 3월에도 이 같은 조치를 6개월간 시행한 바 있다. 7일부터 10월6일까지는 상장기업의 하루 자기주식 매수 주문 수량 한도 제한도 완화된다. 신탁취득 주식도 발행주식총수의 1% 이내에서 신탁재산 총액 범위 내로 한시적으로 확대된다. 이와 함께 금융위는 금융감독원과 한국거래소 합동으로 공매도 특별점검을 실시해 공매도 현황과 시장교란 가능성 등을 살펴보기로 했다. 현재 공매도는 지난해 5월 이후 제한적으로 실시되고 있다. 금융위와 금감원은 매주 금요일 금융시장합동점검회의를 열어 증시 등 금융시장상황을 점검할 예정이다. 금융당국은 “컨틴전시플랜에 따라 필요한 시장 변동성 완화 조치를 검토·시행해 나갈 것”이라고 말했다.\\nlink: https://n.news.naver.com/mnews/article/032/0003157041?sid=101\\nsummary: 1일 1일 금융위원회는 증권 유관기관과 금융시장합동점검회의를 열고 코스피지수가 장중 2300 아래까지 떨어지자 주식시장 변동성을 완화하는 조치를 시행하기로 하였으며, 이에 따라 다음 주식시장 개장일인 오는 4일부터 9월30일까지 3개월간 증권사의 신용융자담보비율 유지의무가 면제된다.'),\n",
       " Document(metadata={'source': 'naver_news.csv', 'row': 6}, page_content='date: 2022-07-05 13:50:04\\ncategory: IT과학\\npress: 전자신문\\ntitle: 나노코리아2022 6일 개막...글로벌 나노 기술 한자리에\\ndocument: 국내 최대규모 나노 전시회이자 세계 3대 나노행사 나노코리아 2022 가 6일부터 3일간 경기도 킨텍스 제1전시장 4·5홀 에서 개최된다. 올해 20회를 맞는 나노코리아는 산업통상자원부 과학기술정보통신부가 공동 주최한다. 나노융합산업연구조합과 나노기술연구협의회가 주관한다. 나노기술과 산업의 현재 미래 트랜드를 조망하는 기조 강연을 시작으로 나노 융합 전시화와 국제 심포지엄 행사가 다양하게 개최된다. 강민석 LG이노텍 부사장이 자율주행산업 동향에 따른 나노기술과 인공지능 AI 의 활용 을 주제로 기조강연을 한다. 알베르페르 프랑스 파리 슈드대 교수도 기조 강연을 맡는다. 전시규모는 코로나19 이전 수준으로 회복됐다. 삼성전자 LG 등 주요 기업과 나노 기술 기업 등 총 360개사가 참여한다. 나노 20주년 특별 기념관도 마련된다. 20주년 특별 기념관에는 차세대 반도체 미래차 6세대 6G 이동통신 탄소중립 디지털 바이오 등 6개 분야 혁신 기술이 소개된다. 산업화 세션에서는 지속 가능 성장을 위한 ESG 나노융합기술을 주제로 초청 강연이 열린다. 나노제품거래상담회 전시회테크니컬투어 최신기술발표회 등 다양한 나노 관련 부대 행사도 준비된다.\\nlink: https://n.news.naver.com/mnews/article/030/0003028178?sid=105\\nsummary: 국내 3대 나노행사 중 하나인 나노코리아 2022 가 6일부터 3일간 경기도 킨텍스 제1전시장 4·5홀에서 개최되는데, 삼성전자 등 주요 기업과 나노 기술 기업 등 총 360개사가 참여할 예정이며 나노기술과 산업의 현재 미래 트랜드를 조망하는 기조 강연을 시작으로 나노 융합 전시화와 국제 심포지엄 행사가 다양하게 개최된다.'),\n",
       " Document(metadata={'source': 'naver_news.csv', 'row': 7}, page_content='date: 2022-07-01 09:06:47\\ncategory: economy\\npress: 한국경제TV\\ntitle: 씨티그룹 하반기 20% 넘게 오를 종목은 이것\\ndocument: 미국 뉴욕증시가 52년 만에 최악의 상반기를 보낸 가운데 씨티그룹이 랠리가 기대되는 종목들을 추천했다. 30일 현지시간 CNBC에 따르면 씨티은행은 팩트셋 자료를 인용해 올해 안으로 20% 이상의 주가 상승세를 보일 기업들을 꼽았다. 해당 기업들에 최소 10% 이상의 주당 순이익 성장세가 예상된다는 분석이다. 씨티그룹이 가장 먼저 꼽은 기업은 마이크로소프트다. 마이크로소프트는 올 들어 현재까지 주가가 23% 이상 하락했다. 그러나 분석가들은 주가가 현재 수준에서 36% 반등할 것으로 보고 있다. 이날 마이크로소프트는 전 거래일 대비 1.32% 하락한 256.83달러에서 거래를 마감했다. 씨티그룹은 마이크로소프트가 IT 사업 예산을 늘렸다는 점과 마이크로소프트가 추진하는 하이브리드 업무환경을 긍정적으로 평가하고 있다며 올해 주당 순이익이 16.5% 뛸 것으로 예상한다고 덧붙였다. 이외에도 씨티그룹은 엔터테인먼트와 에너지주에 주목했다. 디즈니의 주가는 올 들어 39% 급락하면서 52주 최고가 대비 반토막 났다. 씨티그룹은 디즈니의 주가가 이날 종가 94.40달러 대비 50% 반등할 수 있다며 주당 순이익도 올해 약 74%까지 오를 수 있다고 내다봤다. 씨티그룹은 에너지주의 랠리 가능성 또한 높게 점쳤다. 에너지주는 올 상반기 S P 500 지수 내 유일하게 올해 30% 이상 상승했다. 씨티그룹은 에너지주 중에서도 셰브론의 주당 순이익이 올해 내 두 배 이상 뛸 것이라며 유망주로 꼽았다.\\nlink: https://n.news.naver.com/mnews/article/215/0001040281?sid=101\\nsummary: 30일 현지시간 CNBC에 따르면 씨티은행은 팩트셋 자료를 인용해 올해 안으로 20% 이상의 주가 상승세를 보일 기업들을 뽑았는데 마이크로소프트가  IT 사업 예산을 늘렸다는 점과 마이크로소프트가 추진하는 하이브리드 업무환경을 긍정적으로 평가하고 있다며 올해 주당 순이익이 16.5% 뛸 것으로 예상한다고 덧붙였다.'),\n",
       " Document(metadata={'source': 'naver_news.csv', 'row': 8}, page_content='date: 2022-07-03 11:01:02\\ncategory: economy\\npress: 이데일리\\ntitle: 한국 스타트업 BMW와 에어버스에 혁신 기술 소개\\ndocument: 코트라 BMW 오픈이노베이션 IR 로드쇼 추진 스타트업 6개사 선발…현지서 기술 소개하고 상담 추진 기술실증 PoC 프로젝트까지 지원 이데일리 함정선 기자 한국의 스타트업들이 글로벌 기업인 BMW와 에어버스 Airbus 에 혁신 기술을 소개하고 협력 기회를 모색하는 자리가 마련됐다. KOTRA 코트라 는 한국벤처투자 BMW와 스타트업 개러지 코리아 등과 지난 6월 29일부터 7월1일까지 독일 뮌헨에서 ‘BMW 오픈이노베이션 IR 로드쇼’ 사업을 추진했다고 3일 밝혔다. 이번 BMW 오픈이노베이션 IR 로드쇼에서는 지난 4월 서울 컨벤션센터 SETEC 에서 개최된 ‘BMW 오픈이노베이션 피칭데이’를 통해 선발한 스타트업 6개사 15명이 참가했다. 참가 스타트업 6개사는 4박 5일간 독일 뮌헨을 방문해 BMW와 에어버스를 비롯한 독일의 글로벌 제조사에 자신들의 혁신 기술을 소개하고 협업을 제안했다. 6월 29일에는 BMW 그룹의 연구혁신센터에서 참가 스타트업 6개사의 피칭과 전시가 이뤄졌다. 피칭 행사에는 BMW 임직원 총 150명이 한국 스타트업의 피칭을 보기 위해 온·오프라인으로 모였고 하루 동안 총 350명이 전시 부스에 방문하는 등 BMW의 임직원들은 한국의 혁신 기술 스타트업과 협업하는 데에 큰 관심을 보였다. 이는 현장에서 일대일 상담으로 이어졌으며 코트라에 따르면 현재 참가 스타트업과 BMW그룹의 사업 부서 간 기술실증 PoC 프로젝트 추진 가능성이 논의되고 있다. 드라가나 코스틱 Dragana Kostic BMW 테크놀로지 오피스 Technology Office 아시아태평양본부 총괄은 “코로나 이후 한국의 스타트업이 본사를 직접 방문해 기술을 소개하는 것은 이번 행사가 처음”이라며 “참가한 스타트업들이 모두 우수해 앞으로 많은 협업 프로젝트가 이뤄질 것으로 기대한다”고 말했다. 6월 30일에는 뮌헨 외곽지역에 소재한 에어버스 그룹의 연구 혁신센터를 방문해 참가 스타트업 6개사의 피칭 행사를 진행했다. 에어버스 블루스카이 Blue Sky 오픈이노베이션 전담 조직 를 비롯한 그룹 내 핵심 인력을 대상으로 이루어진 이번 행사에서는 피칭 이후 질의응답까지 진행해 현장에서 기술 검증을 위한 여러 가지 논의가 이어졌다. 장 도미닉 코스트 Jean Dominique Coste 에어버스 블루스카이 그룹장은 “에어버스는 한국 스타트업과의 기술협력을 위해 모든 가능성을 열어두고 지속적으로 논의할 것”이라고 말했다. 이외에도 참가 스타트업 중 2개사는 이번 출장 기간 중 100년의 역사를 자랑하는 글로벌 자동차 부품기업인 베바스토 Webasto 자율주행·정밀엔지니어링 기업인 아큐론 Accuron 도 방문해 일대일 상담을 진행하고 협업 가능성을 논의했다. 참가 스타트업 6개사는 △AI 가상인간 D사 △인공신경망처리장치 NPU 기반 AI 반도체 D사 △친환경 가죽 시트 및 가죽실 제조사 A사 △클라우드 기반 VR 및 메타버스 솔루션 I사 △개발자용 AI 비서 L사 △디지털 ID 인증 및 보안솔루션 S사 등이며 한국에 돌아온 이후 BMW 및 에어버스와의 협업 프로젝트를 본격적으로 추진할 예정이다. 유정열 코트라 사장은 “글로벌기업과의 협업은 우리 스타트업이 해외 시장에서 스케일업할 수 있는 매우 중요한 기회”라며 “코트라의 128개 해외무역관이 우리 스타트업의 손과 발이 돼 현지의 글로벌기업과 협업할 기회를 지속적으로 만들어 나갈 것”이라고 밝혔다. BMW FIZ Center 연구혁신센터 에서 참가 스타트업이 BMW 직원을 대상으로 피칭을 진행하고 있다.\\nlink: https://n.news.naver.com/mnews/article/018/0005258224?sid=101\\nsummary: KOTRA 코트라 는 한국벤처투자 BMW와 스타트업 개러지 코리아 등과 지난 6월 29일부터 7월1일까지 독일 뮌헨에서 ‘BMW 오픈이노베이션 IR 로드쇼’ 사업을 추진했다고 3일 밝혔는데, 이번 BMW 오픈이노베이션 IR 로드쇼에서는 지난 4월 ‘BMW 오픈이노베이션 피칭데이’를 통해 선발한 스타트업 6개사 15명이 참가했으며 장 도미닉 코스트 Jean Dominique Coste 에어버스 블루스카이 그룹장은 “에어버스는 한국 스타트업과의 기술협력을 위해 모든 가능성을 열어두고 지속적으로 논의할 것”이라고 말했다.'),\n",
       " Document(metadata={'source': 'naver_news.csv', 'row': 9}, page_content='date: 2022-07-05 18:42:03\\ncategory: economy\\npress: 연합뉴스TV\\ntitle: 과기부 허준이 필즈상 기쁜 소식…한국 수학 발전 기대\\ndocument: 정부가 허준이 미국 프린스턴대 교수 겸 한국 고등과학원 수학부 석학교수의 필즈상 수상을 축하했습니다. 과학기술정보통신부는 대수기하학의 토대가 더욱 확장되도록 새 지평을 연 공로를 인정받아 한국계 최초로 필즈상 수상의 쾌거를 이룩했다 며 축하했습니다. 또 허 교수의 필즈상 수상은 올해 국제수학연맹에서 한국의 수학 국가등급을 최고등급으로 상향한 것에 이은 기쁜 소식 이라며 허 교수의 행보와 한국 수학계의 지속적 발전 역시 기대된다고 덧붙였습니다.\\nlink: https://n.news.naver.com/mnews/article/422/0000549728?sid=101\\nsummary: 정부가 허준이 미국 프린스턴대 교수 겸 한국 고등과학원 수학부 석학교수의 필즈상 수상을 축하했고 과학기술정보통신부는 대수기하학의 토대가 더욱 확장되도록 새 지평을 연 공로를 연 공로를 연 공로를 연 공로를 연 공로를 연 공로를 연 공로를 연 허준이 미국 프린스턴대 교수 겸 한국 고등과학원 수학부 석학교수의 필즈상 수상을 축하했다.'),\n",
       " Document(metadata={'source': 'naver_news.csv', 'row': 10}, page_content='date: 2022-07-03 11:48:29\\ncategory: economy\\npress: 뉴시스\\ntitle: 가뭄 영향에... 금배추 됐네\\ndocument: 서울 뉴시스 고승민 기자 한국농촌경제연구원 농업관측센터 농업관측 엽근채소 7호 보고서에 따르면 이달 배추 도매가격이 10kg 기준 1만500원을 기록할 것으로 예상된 3일 서울의 한 대형마트에 배추가 진열돼 있다. 이는 작년과 비교하면 90.9% 평년보다 39% 상승한 수치다. 연구원은 가뭄 등 날씨 영향으로 작황이 부진하고 재배면적도 감소하면서 배추 생산량이 줄었기 때문으로 보고 있다. 2022.07.03. kkssmm99 newsis.com 사진 영상 제보받습니다 공감언론 뉴시스가 독자 여러분의 소중한 제보를 기다립니다. 뉴스 가치나 화제성이 있다고 판단되는 사진 또는 영상을 뉴시스 사진영상부 n photo newsis.com 로 보내주시면 적극 반영하겠습니다.\\nlink: https://n.news.naver.com/mnews/article/003/0011281965?sid=101\\nsummary: 가농촌경제연구원 농업관측센터 농업관측 엽근채소 7호 보고서에 따르면 가뭄 등 날씨 영향으로 작황이 부진하고 재배면적도 감소하면서 배추 생산량이 줄었기 때문에 배추 도매가격이 10kg 기준 1만500원을 기록할 것으로 예상된 3일 서울의 한 대형마트에 배추가 진열돼 있다.'),\n",
       " Document(metadata={'source': 'naver_news.csv', 'row': 11}, page_content='date: 2022-07-04 09:12:13\\ncategory: economy\\npress: 연합뉴스\\ntitle: 특징주 삼성전자·SK하이닉스 또다시 52주 신저가 추락\\ndocument: 삼성전자 SK하이닉스 CG 연합뉴스TV 제공 서울 연합뉴스 김아람 기자 삼성전자와 SK하이닉스가 4일 오전 재차 52주 신저가를 경신했다. 이날 오전 9시 5분 현재 유가증권시장에서 삼성전자는 전 거래일보다 0.53% 내린 5만5천900원에 거래 중이다. SK하이닉스도 전날보다 1.14% 내린 8만6천500원에 거래됐다. 개장 직후 삼성전자는 5만5천700원 SK하이닉스는 8만6천300원까지 낙폭을 키워 이틀 연속 52주 신저가를 새로 썼다. 최근 반도체 업황 우려가 확산하면서 두 종목 주가는 하락세를 이어왔다.\\nlink: https://n.news.naver.com/mnews/article/001/0013286226?sid=101\\nsummary: 4일 오전 9시 5분 현재 유가증권시장에서 삼성전자는 전 거래일보다 0.53% 내린 5만5천900원에, SK하이닉스도 전날보다 1.14% 내린 8만6천500원에 거래되면서 삼성전자와 SK하이닉스가 4일 오전 재차 52주 신저가를 경신했다.'),\n",
       " Document(metadata={'source': 'naver_news.csv', 'row': 12}, page_content='date: 2022-07-01 06:54:01\\ncategory: economy\\npress: SBS Biz\\ntitle: 글로벌 비즈 가트너 올해 전세계 스마트폰 판매량 7% 감소 전망\\ndocument: 경제와이드 모닝벨 글로벌 비즈 임선우 외신캐스터 글로벌 비즈입니다. ◇ 올해 스마트폰 판매 감소 올해 전세계 스마트폰 판매량이 크게 줄어들 것이란 전망이 나왔습니다. 시장조사업체 가트너는 글로벌 스마트폰 판매가 7% 하락할 것으로 내다봤는데요. 경제 전반에 걸친 침체 우려와 중국의 봉쇄조치 여파 그리고 인플레이션으로 소비자들이 지갑을 열기 주저하면서 수요가 줄어들 것 이라고 설명했습니다. 그러면서 올해 전체 출하량은 14억6천만대 수준에 그칠 것으로 예측했는데요. 종전 전망치인 16억대에서 대폭 낮춰 잡았습니다. 특히 세계 최대 스마트폰 시장인 중국에서 판매량은 18%가 감소할 것으로 전망했는데요. 가트너는 이같은 수요 부진으로 애플을 비롯한 스마트폰 제조사부터 엔비디아 TSMC 같은 반도체 업체까지 압력이 가해질 것이라고 진단했습니다. ◇ EU 가상자산 돈세탁 막는다 유럽연합이 가상자산을 이용한 돈세탁을 막기위해 관련 기업을 규제하는 방안에 잠정 합의했습니다. 잠정안에는 가상자산 업체가 당국에 모든 디지털자산 거래에 대한 신원 확인 정보를 제공하도록 하는 내용이 담겼는데요. 이에 따라 업체들은 관련 개인정보를 확보해야하고 당국이 이를 요구할 경우 제출해야 합니다. 또 거래액이 1천 유로 우리돈 130만 원을 넘길 경우 비인증 거래소가 관리하는 가상자산 지갑도 똑같은 규칙이 적용되는데요. 여기에 더해 송금 규제를 활용해 거래를 상시 추적하고 불법성이 의심되는 거래를 막을 수 있도록 할 방침입니다. 이와 관련해 미국 최대 가상자산 거래소 코인베이스 등 관련 기업 40여 곳은 개인정보 침해 가능성을 언급하며 줄곧 반대 입장을 밝혀왔는데요. 하지만 최근 가상자산 관련 범죄 사례가 급증하고 있는 만큼 규제 움직임이 힘을 얻고 있는 것으로 풀이됩니다. 관련 기관 논의는 오는 30일까지 마무리될 예정인데 이후 EU 위원회와 의회의 승인 절차만 남게 됩니다. ◇ 스피릿 M A 주주투표 또 미뤄 미국 저비용 항공사 스피릿 항공 인수전이 뜨거워지고 있습니다. 경쟁을 벌이고 있는 프론티어와 제트블루 항공이 앞다퉈 인수가를 높이고 있는데요. 더 높은 가격이 제시되면서 스피릿항공은 당초 어제 진행하기로 했던 프론티어 항공과의 합병안에 대한 주주투표를 이달 8일로 연기했습니다. 이미 한 차례 미뤘는데 다시 한번 주주투표를 연기하면서 스피릿이 제트블루와의 합병 여지를 되살리는 것 아니냐는 추측이 나오고 있는데요. 규제 등을 이유로 프론티어와의 인수합병에 무게가 실리는 듯 했지만 제트블루가 계속해서 인수가를 높이며 러브콜을 보내자 고민하는 모습입니다. 스피릿을 품게 되면 미국 항공 업계 다섯 손가락 안에 들 수 있게 되기 때문에 최후의 승자가 누가 될지에 관심이 쏠리고 있습니다. ◇ 텐센트·바이트댄스 하반기 또 감원 중국 대표 기술기업들이 연일 몸집 줄이기에 나서고 있습니다. 월스트리트저널은 텐센트와 바이트댄스를 비롯한 빅테크 기업들이 지난해 수만명의 인력을 줄인데 이어 또 한번 대규모 구조조정을 준비하고 있다고 전했는데요. 과거 수익성이 없는 사업을 정리하기 위해 감원에 나섰다면 최근에는 중국 경제가 고비를 겪으면서 비용을 줄이기 위해 몸집을 줄이고 있다고 설명했습니다. 특히 최근 당국이 빅테크 때리기 기조를 거둬들이고 있다는 점에서 거시적 위기가 새로운 숙제로 떠올랐다고 분석했는데요. 이미 상반기 전 부문에 걸쳐 인력의 10%가 넘게 정리한 텐센트는 하반기 대규모 추가 감원을 예고한데 더해 일부 사업의 전면 철수까지 검토 중인 것으로 알려졌는데요. 그간 규제 철퇴에 허덕이던 중국 빅테크들이 경기 둔화라는 악재까지 겹치면서 고민이 깊어지는 모습입니다. 지금까지 글로벌 비즈였습니다.\\nlink: https://n.news.naver.com/mnews/article/374/0000292669?sid=101\\nsummary: 유럽연합이 가상자산을 이용한 돈세탁을 막기위해 관련 기업을 규제하는 방안에 잠정 합의하고 거래액이 1천 유로 우리돈 130만 원을 넘길 경우 비인증 거래소가 관리하는 가상자산 지갑도 똑같은 규칙이 적용되는데 여기에 더해 송금 규제를 활용해 거래를 상시 추적하고 불법성이 의심되는 거래를 막을 수 있도록 할 방침이다.'),\n",
       " Document(metadata={'source': 'naver_news.csv', 'row': 13}, page_content='date: 2022-07-04 09:12:01\\ncategory: economy\\npress: 매일신문\\ntitle: 야놀자 포커스미디어와 ‘동네가게 오래함께’ 캠페인 진행\\ndocument: 사진 야놀자 제공 야놀자가 포커스미디어와 동네가게 오래함께 캠페인을 진행한다고 4일 밝혔다. 이번 캠페인은 지역 내 우수 소상공인을 발굴하고 이들을 위한 맞춤형 광고를 제작해 해당 지역 내 홍보를 지원한다. 총 14억 원 규모의 광고 제작 및 송출 비용은 양사가 전액 부담한다. 야놀자는 제휴점을 대상으로 사연을 공모하고 상권 빅데이터 분석을 진행해 지원 대상을 선정한다. 포커스미디어는 전국 5천800여 개 아파트에서 하루 800만 시청자를 확보한 엘리베이터 TV 등 자체 인프라를 통해 광고를 송출한다. 캠페인의 첫 광고는 서울시 노원구 동작구를 시작으로 오는 11일부터 2개월 간 방영되며 연말까지 대상 범위를 지속 확대할 예정이다. 야놀자 관계자는 소상공인들에게 직접적인 도움을 줄 수 있는 이번 캠페인을 통해 지역사회와 상생하고 지역경제 활성화에도 기여할 것으로 기대한다 면서 지역 내 우수 소상공인들의 인지도를 제고하고 매출 증대에도 기여할 수 있도록 캠페인의 성공적인 진행을 위한 지원을 아끼지 않을 계획 이라고 말했다.\\nlink: https://n.news.naver.com/mnews/article/088/0000764995?sid=101\\nsummary: 야놀자가 포커스미디어와 동네가게 오래함께 캠페인을 진행한다고 4일 밝혔으며 이번 캠페인은 지역 내 우수 소상공인을 발굴하고 이들을 위한 맞춤형 광고를 제작해 해당 지역 내 홍보를 지원하며 총 14억 원 규모의 광고 제작 및 송출 비용은 양사가 전액 부담한다.'),\n",
       " Document(metadata={'source': 'naver_news.csv', 'row': 14}, page_content='date: 2022-07-03 12:01:01\\ncategory: IT과학\\npress: ZDNet Korea\\ntitle: 과기정통부 7월 한 달간 제11회 정보보호의 달 운영\\ndocument: 국정원·행안부·국방부와 협력해 다양한 온·오프라인 행사 진행 과학기술정보통신부와 한국정보보호산업협회 KISIA 은 튼튼한 사이버안보 안전한 디지털강국 를 주제로 7월 한 달 동안 제11회 정보보호의 달을 운영한다고 3일 밝혔다. 정보보호의 달은 증가하는 사이버위협에 대응하여 국민들의 보안 인식을 제고하고 정보보호 실천문화를 확산시키기 위해 매년 7월 운영되고 있다. 기념행사와 함께 정보보호 유공자 시상 국민 인식제고 캠페인 등이 진행된다. 올해는 사이버 안보 유관 기관인 국정원 행정안전부 국방부와 협력해 다양한 온·오프라인 행사와 캠페인을 진행한다. 제11회 정보보호의 날을 기념해 유공자 포상 등을 진행하는 기념식과 정보보호 국제 컨퍼런스 정보보호 제품 전시회가 오는 13일 개최될 예정이다. 국제 정보보호 컨퍼런스는 민간기업 정부기관 등 다양한 연사가 참여한 가운데 ‘디지털시대 보안 패러다임의 전환’을 주제로 미래 융합보안 사이버보안 위협 동향 등 다양한 현안이 논의될 예정이다. 과기정통부가 7월 한 달간 제11회 정보보호의 달을 운영한다. 제품전시회는 국제컨퍼런스와 함께 여의도 콘래드 호텔에서 진행된다. 차세대 인증보안 전문기업 센스톤 AI기반 사이버 보안 기업 시큐리온 등 기술 경쟁력을 갖춘 17개 기업이 참가해 보안 솔루션을 소개하고 홍보하는 부스를 운영한다. 인력 양성 지역 보안 생태계 조성 등 정부의 사이버보안 정책 방향을 공유하고 현장과 소통하는 기회도 마련된다. 급증하는 정보보호 전문 인력 수요에 대응하기 위한 사이버보안 인력 양성 방안을 발표하고 산·학·연 전문가 의견을 수렴하기 위한 정보보호 인력양성 간담회 가 정보보호의 날에 개최된다. 이외에도 지역 정보보호 생태계 조성 간담회 보안 전략과 협력 방안 등을 논의하는 밋업데이 보안 협의체 발대식 융합산업의 보안강화 협력방안을 모색하는 융합산업XSecurity 밋업데이 메타버스·NFT 보안 협의체 발대식 등이 진행된다. 국정원 국방부 행정안전부 금융위 등 관련부처에서도 ‘정보보호의 달’을 맞이하여 다양한 연계 행사와 이벤트를 진행할 예정이다. 국정원은 과기정통부와 주요정보통신기반보호워크숍 을 오는 6일 개최해 주요정보통신기반시설 간 정보공유와 협력을 강화할 예정이다. 국방부는 말레이시아와 공동의장국으로 오는 5 6일 용산 드래곤시티호텔에서 아세안 확대 국방장관회의 제8차 사이버안보 분과회의를 개최해 한국 주도로 올해 10월 회원국 간 최초 실시할 사이버 국제훈련 계획 등을 논의할 예정이다. 행안부 소프트웨어 개발보안 경진대회 금융위 금융보안원 논문공모전 국정원 국가암호공모전 사이버안보논문공모전 등 다양한 이벤트도 개최된다. 이종호 과기정통부 장관은 사이버 위협은 점차 지능화·고도화되고 사이버전 戰 이 확산되는 지금 그 어느 때보다 정보보호를 위해 정부·기업·국민 모두가 함께 노력해야 하는 중요한 상황 이라며 이번 정보보호의 달에 많은 분들이 참여하시어 사이버보안에 관심을 갖고 대한민국이 안전한 디지털 강국으로 나아가는데 동참해주시길 바란다 고 밝혔다.\\nlink: https://n.news.naver.com/mnews/article/092/0002261293?sid=105\\nsummary: 3일정보통신부와 한국정보보호산업협회 KISIA 은 증가하는 사이버위협에 대응하여 국민들의 보안 인식을 제고하고 정보보호 실천문화를 확산시키기 위해 매년 7월 운영되고 있는 정보보호의 달을 맞아 튼튼한 사이버안보 안전한 디지털강국 를 주제로 7월 한 달 동안 제11회 정보보호의 달을 운영한다고 밝히고 정보보호 유공자 시상 국민 인식제고 캠페인 등이 진행된다고 전했다.'),\n",
       " Document(metadata={'source': 'naver_news.csv', 'row': 15}, page_content='date: 2022-07-04 08:52:01\\ncategory: economy\\npress: 데일리안\\ntitle: 삼성바이오로직스 MSD와 2768억원 위탁생산계약 체결\\ndocument: 미국 제약기업과 의약품 위탁생산 공급계약 지난해 9월 공시된 본 계약 체결 삼성바이오로직스 3공장 전경. ⓒ삼성바이오로직스 데일리안 이홍석 기자 삼성바이오로직스는 4일 공시를 통해 미국 제약기업 MSD MSD International Business GmbH 와 2768억2938만원 규모의 의약품 위탁생산 공급계약을 체결했다고 밝혔다. 이번 계약은 최근 매출액 대비 17.65% 규모로 계약기간은 2022년 7월 1일부터 2028년 12월 31일이다. 상기 계약금액은 고객사의 수요증가에 따라 3억8186만 달러로 증가할 수 있다. 이번 계약건은 지난해 9월 29일 공시된 ‘투자판단 관련 주요경영사항’에 대한 본계약 체결건이다. 당시 삼성바이오로직스는 MSD 위탁생산계약 의향서를 체결했으며 계약금은 491억원이라고 공시했다.\\nlink: https://n.news.naver.com/mnews/article/119/0002617836?sid=101\\nsummary: 삼성바이오로직스는 4일 공시를 통해 미국 제약기업 MSD MSD International Business GmbH 와 2768억2938만원 규모의 의약품 위탁생산 공급계약을 2022년 7월 1일부터 2028년 12월 31일까지 최근 매출액 대비 17.65% 규모로 체결했다고 밝혔다.'),\n",
       " Document(metadata={'source': 'naver_news.csv', 'row': 16}, page_content='date: 2022-07-05 10:31:12\\ncategory: IT과학\\npress: 연합뉴스\\ntitle: 다누리 만들어낸 연구진\\ndocument: 대전 연합뉴스 김준범 기자 5일 오전 대전시 유성구 어은동 한국항공우주연구원에서 연구진이 우리나라 첫 달 궤도선인 다누리 앞에서 기념사진을 찍고 있다. 다누리는 다음 달 3일 플로리다주 케이프커내버럴 우주군 기지에서 발사를 앞두고 이날 특수 컨테이너에 실려 인천공항으로 옮겨졌다.\\nlink: https://n.news.naver.com/mnews/article/001/0013288967?sid=105\\nsummary: 5일 3일 플로리다주 케이프커내버럴 우주군 기지에서 발사를 앞두고 특수 컨테이너에 실려 인천공항으로 이송된 우리나라 첫 달 궤도선 다누리의 다누리는 5일 오전 대전시 유성구 어은동 한국항공우주연구원에서 우리나라 첫 달 궤도선인 다누리 앞에서 기념사진을 찍었다.'),\n",
       " Document(metadata={'source': 'naver_news.csv', 'row': 17}, page_content='date: 2022-07-08 03:03:04\\ncategory: IT과학\\npress: 조선일보\\ntitle: “고객님 소비패턴 보니… 카페할인 큰 카드 알려드리죠”\\ndocument: 통신사 마이데이터 사업 본격 진출 A씨는 한 통신사의 마이데이터 서비스에 가입하면서 자신이 이용하는 은행 세 곳과 카드사 두 곳의 금융정보를 전송해달라고 신청했다. 금융정보를 받은 통신사는 인공지능 AI 을 통해 A씨의 자산 현황과 소비 성향을 분석해 ‘인터넷TV 요금제와 신용카드를 바꾸라’고 조언했다. 햄버거 가게를 즐겨찾는 A씨를 위해 직장 근처의 햄버거 맛집도 함께 추천했다. 통신사들이 마이데이터 서비스를 시작할 경우 이처럼 지금까지와는 차원이 다른 데이터 기반의 맞춤형 서비스를 제공할 수 있다. SK텔레콤이 국내 통신업체 중 처음으로 사용자들의 데이터를 통신이나 금융 서비스에 활용할 수 있는 본인신용정보관리업 마이데이터 사업 승인을 받았다고 7일 밝혔다. KT와 LG유플러스도 최근 사업 허가를 신청해 연내 통신 3사가 마이데이터 서비스를 시작할 전망이다. 마이데이터는 개인의 금융·신용정보를 한곳에 모아 재무 현황이나 소비 습관을 분석해주는 서비스다. 특히 소비자가 여러 군데로 분산된 자신의 각종 데이터 정보를 자신이 원하는 기업으로 이동시킬 수 있어 소비자 데이터를 확보하기 위해 통신·금융 기업 간의 경쟁도 치열해질 전망이다. 통신사가 금융 의료 사업도 한다 통신업계는 올해를 마이데이터 원년으로 보고 있다. 통신 3사 모두 마이데이터를 주력 사업에 포함시켰다. SK텔레콤과 KT는 지난 3월 주주총회에서 마이데이터를 사업 목록에 추가했다. LG유플러스는 지난해 데이터 분석 전담 조직을 신설한 데 이어 지난 6월 AT T 델타항공에서 데이터 플랫폼을 구축한 전문가를 최고데이터관리자 CDO 로 영입했다. LG유플러스는 황현식 사장이 “통신은 3등이어도 데이터는 1등 하겠다”고 할 정도로 이 분야에 공을 들이고 있다. 통신 3사는 그간 축적한 통신 데이터를 금융 데이터와 결합해 새로운 서비스를 제공한다는 계획이다. 신용카드 대출 상품 통신 상품을 개인의 호주머니 사정이나 취향에 맞게 추천하거나 통신사의 마이데이터 플랫폼에서 계좌 잔액·카드 청구 금액을 한 번에 확인하고 통신료 납부까지 할 수 있게 만든다는 것이다. 은행이 제공하던 서비스를 통신사도 제공하게 되는 것이다. 통신사들로선 고급 금융 서비스를 유료로 제공하거나 상품·서비스를 추천해주는 구독서비스와 같은 새로운 수익원을 확보하게 된다. 마이데이터 사업은 금융뿐 아니라 유통 의료 등 다양한 분야로 확장할 수 있는 가능성이 크다. 유영상 SK텔레콤 대표도 지난 2월 스페인 바르셀로나 ‘MWC2022′에서 “통신사도 마이데이터를 활용한 여러 금융 서비스를 만들 수 있을 뿐만 아니라 이를 의료나 쇼핑 서비스로 확대할 수도 있다”고 말했다. 실제로 쿠팡과 같은 이커머스 업계는 “마이데이터 사업이 발전하면 소비자의 금융 정보를 파악해 가격과 취향을 동시에 반영한 제품을 알고리즘으로 제안할 수 있고 의료 데이터를 바탕으로 한 장보기 상품 추천도 가능해진다”고 말한다. 데이터 원유 原油 확보한 통신 3사 마이데이터 사업이 본격화되면 소비자들의 금융·신용 데이터를 자사 플랫폼으로 모아 활용하기 위한 기업들 간 경쟁이 치열해질 수밖에 없다. 이 때문에 통신 3사는 마이데이터 본허가 신청 전부터 금융 업계와 합종연횡을 통해 서비스 경쟁을 준비해왔다. SK텔레콤은 지난해 SC제일은행과 마이데이터 전용 클라우드 구축 계약을 체결했다. KT는 BC카드·케이뱅크 등 금융 자회사들을 통해 통신과 금융을 결합한 마이데이터 사업을 준비하면서 마이데이터 앱인 뱅크샐러드에도 250억원을 투자했다. LG유플러스는 신한은행·CJ올리브네트웍스와 함께 마이데이터 시범 사업 ‘디키타카’를 시작했다. 통신업계 관계자는 “금융권이 마이데이터 사업에서 앞서나가 있지만 통신사들은 오랜 사업을 기반으로 수많은 고객 데이터를 축적하고 있는 데다 안정적 서비스 제공을 위한 데이터 관리 능력도 갖추고 있다”며 “특히 가입자 3000만명을 보유한 패스 통신 3사 인증서비스 인증서를 마이데이터에 사용할 수 있다는 것도 큰 강점”이라고 했다. ☞마이데이터 소비자가 금융사·통신사·공공 기관 등에 흩어져 있는 자신의 정보를 쉽게 파악하고 원하는 업체에 이 정보를 제공해 자신을 위한 맞춤 서비스를 추천받도록 도와주는 서비스. ‘내 개인 정보는 나의 것’이란 개념이 바탕이다. 예컨대 은행의 마이데이터 서비스를 이용할 경우 금융 투자 상품을 추천받거나 비슷한 연령·연봉대 사람들과 소비 성향 자산 운용 방식을 비교할 수 있다. 이동 경로와 소비 패턴을 통해 맛집이나 제품을 추천받을 수도 있다.\\nlink: https://n.news.naver.com/mnews/article/023/0003702439?sid=105\\nsummary: SK데이터는 개인의 금융·신용정보를 한곳에 모아 재무 현황이나 소비 습관을 분석해주는 서비스로 이를 통해 소비자가 여러 군데로 분산된 자신의 각종 데이터 정보를 자신이 원하는 기업으로 이동시킬 수 있어 소비자 데이터를 확보하기 위해 통신·금융 기업 간의 경쟁도 치열해질 예정이며, 통신 3사는 그간 축적한 통신 데이터를 금융 데이터와 결합해 새로운 서비스를 제공한다는 계획이다.'),\n",
       " Document(metadata={'source': 'naver_news.csv', 'row': 18}, page_content=\"date: 2022-07-01 09:57:10\\ncategory: economy\\npress: MBN\\ntitle: 피트니스 시장 더 커질 것 LG전자·SM엔터 홈트 앱 내놓는다\\ndocument: 콘텐츠 합작 브랜드 피트니스 캔디 발표 LG전자·SM엔터테인먼트가 디지털 피트니스 콘텐츠 합작 브랜드 ‘피트니스 캔디’를 발표했습니다. ‘피트니스 캔디’는 디지털 피트니스 콘텐츠 브랜드로서 개인의 즐거운 피트니스 참여를 위한 맞춤형 커뮤니티 서비스입니다. MZ세대를 겨냥한 모바일 기반의 차세대 운동 데이터 플랫폼으로서의 역할과 기존의 홈트레이닝에서 스마트 고객 데이터 플랫폼 기술력과 K POP적 디지털 피트니스 콘텐츠 경쟁력을 중점에 두고 있습니다. ‘피트니스 캔디’는 LG전자의 디지털 기술력과 고객 데이터 경영 경험을 기반으로 디지털 피트니스 라이프스타일을 통한 굿 디지털 라이프 Good Digital Life 를 실현시킬 도전적 메타버스 스타트업 사업의 한 여정이라고 회사 측은 설명했습니다. SM엔터 이성수 공동대표·LG전자 조주완 사장·SM엔터 탁영준 공동대표 LG전자 CEO 조주완 사장은 “그동안 가전 패러다임이 기능과 성능 중심의 제품을 만드는 데 집중했다면 LG전자는 고객경험 중심의 스마트 가전 패러다임으로 선도해 나가고자 한다”며 “앞서가는 내 삶을 위한 ‘스마트 라이프 솔루션’을 제공하는 기업으로 변모해 나가고자 한다”고 말했습니다. SM이성수 대표는 “K POP을 만든 SM엔터테인먼트의 음악과 댄스 아티스트 콘텐츠와 LG전자의 글로벌 IT 기술이 만나 글로벌 피트니스와 헬스케어 산업에 기여 할 기회라고 본다. ‘피트니스 캔디’의 디지털 피트니스 콘텐츠는 단순한 운동이 아닌 K POP의 댄스와 리듬을 리마스터링해 가는 디지털 라이프스타일 무브먼트 Digital Lifestyle Movement 다. ‘피트니스 캔디’는 단순한 다이어트 운동을 넘어 건전하고 건강한 피트니스 습관과 자신을 트레이닝하는 방법을 재발견해가는 디지털 피트니스 콘텐츠 프로젝트”라고 강조했습니다. ‘피트니스 캔디’의 심우택 대표이사는 “빠른 속도로 변화하는 뉴디지털 시대에 펜데믹이란 고립의 시대를 사회 전체가 경험하면서 새로운 커뮤니티 파워와 에너지를 줄 수 있는 창조적 스마트 레저 문화의 기준이 절실히 필요했다. 언제 어디서나 트레이닝하는 마음의 상태 State of training mind 를 지원하는 ‘피트니스 캔디’는 새로운 디지털 피트니스 트렌드가 될 것이다. 라고 기대했습니다.\\nlink: https://n.news.naver.com/mnews/article/057/0001674584?sid=101\\nsummary: LG전자와SM엔터테인먼트가 개인의 즐거운 피트니스 참여를 위한 맞춤형 커뮤니티 서비스인 디지털 피트니스 캔디의 콘텐츠 합작 브랜드 '피트니스 캔디'를 발표했다.\"),\n",
       " Document(metadata={'source': 'naver_news.csv', 'row': 19}, page_content='date: 2022-07-07 12:48:02\\ncategory: IT과학\\npress: 국민일보\\ntitle: ‘전면 정상화’ 지스타 BTC관 더 늘린다\\ndocument: 오는 11월 17일부터 20일까지 나흘간 부산 벡스코 진행 제2전시장 3층도 BTC관으로 운용… 참가사 추가 접수 올해 전면 정상화를 추진 중인 ‘지스타’가 관람객과의 접촉면을 더 늘린다. 6일 지스타조직위원회에 따르면 올해 지스타는 기업과 고객이 만나는 BTC관을 역대 최대 규모로 확대 운영할 예정이다. 통상 벡스코 제1전시관만 BTC관으로 운영했는데 이번엔 제2전시관 3층도 BTC관으로 활용한다. 지스타조직위는 제2전시관에 입점을 희망하는 참가사를 추가 모집한다고 첨언했다. 이 같은 결정은 예상보다 이르게 제1전시관이 가득 찼기 때문으로 보인다. 당초 제2전시관은 ‘BTC BTB 하이브리드 존’으로 운영할 예정이었으나 제2전시관 3층을 전면 BTC관으로 운영하게 됐다. 기업과 기업이 만나는 BTB관은 제2전시장 1층에서 축소 가동한다. 지스타조직위 관계자는 “지속적으로 제기되었던 공간 부족 볼거리 문제의 해결방안을 찾는 과정에서 BTC관 확장을 결정하게 됐다”면서 “코로나19 발생 후 비대면 화상 미팅이 활성화되면서 BTC관과 BTB관의 수요와 공급이 적절히 균형을 맞춰과는 과정”이라고 설명했다. 지스타 2022는 오는 11월 17일부터 20일까지 나흘간 부산 벡스코에서 열린다. 메인 스폰서는 위메이드다. 위메이드는 BTC 200부스 BTB 30부스 규모로 이번 지스타에 참가한다. 아울러 조직위와 함께 해운대 등 부산 전역에서 프로그램을 진행한다. BTC관에는 넥슨코리아 넷마블 크래프톤 샌드박스네트워크 인벤 등이 참가한다. BTB에는 경기콘텐츠진흥원 넥슨코리아 카카오게임즈 등이 참가를 결정했다. 행사 개최 4개월 전에 참가 정보를 공개한 건 올해 도입한 ‘슈퍼 얼리버드’의 영향이다. 이 때문에 대형 부스 참가 접수는 지난 6월 조기 마감했다. 현재는 소형부스 접수를 진행 중이다. 조직위는 참가 접수를 조기에 마감하고 실질적인 행사 준비에 집중한다는 계획이다. 오는 9월 행사 세부사항을 발표할 예정이다. 이번 행사는 한국게임산업협회가 주최하고 지스타조직위원회와 부산정보산업진흥원이 공동 주관한다.\\nlink: https://n.news.naver.com/mnews/article/005/0001538355?sid=105\\nsummary: 올해스타 2022가 11월 17일부터 20일까지 나흘간 부산 벡스코에서 열리는데, 지스타조직위원회는 제2전시관에 입점을 희망하는 참가사를 추가 모집한다고 알렸는데 이는 올해 전면 정상화를 추진 중인 지스타가 관람객과의 접촉면을 더 늘리기 때문으로 보인다.')]"
      ]
     },
     "execution_count": 11,
     "metadata": {},
     "output_type": "execute_result"
    }
   ],
   "source": [
    "documents"
   ]
  },
  {
   "cell_type": "markdown",
   "id": "510aaa8c",
   "metadata": {},
   "source": [
    "## <font color=yellow>3. FAISS</font>"
   ]
  },
  {
   "cell_type": "code",
   "execution_count": 1,
   "id": "54b76367",
   "metadata": {},
   "outputs": [
    {
     "data": {
      "text/html": [
       "<div>\n",
       "<style scoped>\n",
       "    .dataframe tbody tr th:only-of-type {\n",
       "        vertical-align: middle;\n",
       "    }\n",
       "\n",
       "    .dataframe tbody tr th {\n",
       "        vertical-align: top;\n",
       "    }\n",
       "\n",
       "    .dataframe thead th {\n",
       "        text-align: right;\n",
       "    }\n",
       "</style>\n",
       "<table border=\"1\" class=\"dataframe\">\n",
       "  <thead>\n",
       "    <tr style=\"text-align: right;\">\n",
       "      <th></th>\n",
       "      <th>date</th>\n",
       "      <th>category</th>\n",
       "      <th>press</th>\n",
       "      <th>title</th>\n",
       "      <th>document</th>\n",
       "      <th>link</th>\n",
       "      <th>summary</th>\n",
       "    </tr>\n",
       "  </thead>\n",
       "  <tbody>\n",
       "    <tr>\n",
       "      <th>0</th>\n",
       "      <td>2022-07-04 08:47:54</td>\n",
       "      <td>economy</td>\n",
       "      <td>머니투데이</td>\n",
       "      <td>아이트로닉스 차량용 복합기능형 졸음 방지 단말기 특허 출원</td>\n",
       "      <td>아이엘사이언스의 자회사 아이트로닉스는 차량용 복합기능형 졸음 방지 단말기 특허를 출...</td>\n",
       "      <td>https://n.news.naver.com/mnews/article/008/000...</td>\n",
       "      <td>아이일, 아이트로닉스는 차량용 복합기능형 졸음 방지 단말기 특허를 출원했다고 4일 ...</td>\n",
       "    </tr>\n",
       "    <tr>\n",
       "      <th>1</th>\n",
       "      <td>2022-07-07 15:01:04</td>\n",
       "      <td>IT과학</td>\n",
       "      <td>파이낸셜뉴스</td>\n",
       "      <td>뉴스페이스로 가는 한국… 우주기업 성장할 기술·터전 만든다</td>\n",
       "      <td>한국형 우주발사체 누리호 가 지난 6월 21일 전남 고흥 나로우주센터 발사대에서 날...</td>\n",
       "      <td>https://n.news.naver.com/mnews/article/014/000...</td>\n",
       "      <td>한국형 우주발사체 누리호가 지난 6월 21일 전남 고흥 나로우주센터 발사대에서 성공...</td>\n",
       "    </tr>\n",
       "    <tr>\n",
       "      <th>2</th>\n",
       "      <td>2022-07-01 06:08:01</td>\n",
       "      <td>economy</td>\n",
       "      <td>매일경제</td>\n",
       "      <td>SP500 올 상반기 21%↓…50년래 최악 월가월부</td>\n",
       "      <td>닥터둠 루비니 주가 50% 폭락할 것 뉴욕 증시 3대지수 모두 하락 대형주 중심의 ...</td>\n",
       "      <td>https://n.news.naver.com/mnews/article/009/000...</td>\n",
       "      <td>대 대형주 중심의 미국 스탠더드앤드푸어스 S P 500 지수가 올 상반기 50여년만...</td>\n",
       "    </tr>\n",
       "    <tr>\n",
       "      <th>3</th>\n",
       "      <td>2022-07-05 12:29:02</td>\n",
       "      <td>economy</td>\n",
       "      <td>파이낸셜뉴스</td>\n",
       "      <td>풀무원 알래스칸 명태살 ‘볼카츠’ 출시</td>\n",
       "      <td>파이낸셜뉴스 풀무원식품은 알래스카 청정해역의 신선한 명태살로 만든 연육을 바삭하게 ...</td>\n",
       "      <td>https://n.news.naver.com/mnews/article/014/000...</td>\n",
       "      <td>5일 5일 풀무원식품은 알래스카 청정해역의 신선한 명태살로 만든 연육을 동그랗게 빚...</td>\n",
       "    </tr>\n",
       "    <tr>\n",
       "      <th>4</th>\n",
       "      <td>2022-07-03 10:49:06</td>\n",
       "      <td>IT과학</td>\n",
       "      <td>디지털타임스</td>\n",
       "      <td>일동제약 생산본부장에 강덕원 부사장 영입</td>\n",
       "      <td>강덕원 일동제약 생산본부장. 일동제약 제공 일동제약은 생산본부장으로 강덕원 부사장을...</td>\n",
       "      <td>https://n.news.naver.com/mnews/article/029/000...</td>\n",
       "      <td>일동제약은 생산본부장으로 강덕원 부사장을 영입했다고 지난 1일 밝혔으며 강덕원 본부...</td>\n",
       "    </tr>\n",
       "  </tbody>\n",
       "</table>\n",
       "</div>"
      ],
      "text/plain": [
       "                  date category    press                             title  \\\n",
       "0  2022-07-04 08:47:54  economy   머니투데이   아이트로닉스 차량용 복합기능형 졸음 방지 단말기 특허 출원   \n",
       "1  2022-07-07 15:01:04     IT과학  파이낸셜뉴스   뉴스페이스로 가는 한국… 우주기업 성장할 기술·터전 만든다   \n",
       "2  2022-07-01 06:08:01  economy    매일경제      SP500 올 상반기 21%↓…50년래 최악 월가월부   \n",
       "3  2022-07-05 12:29:02  economy  파이낸셜뉴스              풀무원 알래스칸 명태살 ‘볼카츠’ 출시   \n",
       "4  2022-07-03 10:49:06     IT과학  디지털타임스             일동제약 생산본부장에 강덕원 부사장 영입   \n",
       "\n",
       "                                            document  \\\n",
       "0  아이엘사이언스의 자회사 아이트로닉스는 차량용 복합기능형 졸음 방지 단말기 특허를 출...   \n",
       "1  한국형 우주발사체 누리호 가 지난 6월 21일 전남 고흥 나로우주센터 발사대에서 날...   \n",
       "2  닥터둠 루비니 주가 50% 폭락할 것 뉴욕 증시 3대지수 모두 하락 대형주 중심의 ...   \n",
       "3  파이낸셜뉴스 풀무원식품은 알래스카 청정해역의 신선한 명태살로 만든 연육을 바삭하게 ...   \n",
       "4  강덕원 일동제약 생산본부장. 일동제약 제공 일동제약은 생산본부장으로 강덕원 부사장을...   \n",
       "\n",
       "                                                link  \\\n",
       "0  https://n.news.naver.com/mnews/article/008/000...   \n",
       "1  https://n.news.naver.com/mnews/article/014/000...   \n",
       "2  https://n.news.naver.com/mnews/article/009/000...   \n",
       "3  https://n.news.naver.com/mnews/article/014/000...   \n",
       "4  https://n.news.naver.com/mnews/article/029/000...   \n",
       "\n",
       "                                             summary  \n",
       "0  아이일, 아이트로닉스는 차량용 복합기능형 졸음 방지 단말기 특허를 출원했다고 4일 ...  \n",
       "1  한국형 우주발사체 누리호가 지난 6월 21일 전남 고흥 나로우주센터 발사대에서 성공...  \n",
       "2  대 대형주 중심의 미국 스탠더드앤드푸어스 S P 500 지수가 올 상반기 50여년만...  \n",
       "3  5일 5일 풀무원식품은 알래스카 청정해역의 신선한 명태살로 만든 연육을 동그랗게 빚...  \n",
       "4  일동제약은 생산본부장으로 강덕원 부사장을 영입했다고 지난 1일 밝혔으며 강덕원 본부...  "
      ]
     },
     "execution_count": 1,
     "metadata": {},
     "output_type": "execute_result"
    }
   ],
   "source": [
    "import pandas as pd\n",
    "import numpy as np\n",
    "import faiss\n",
    "from sentence_transformers import SentenceTransformer\n",
    "\n",
    "# 데이터 불러오기\n",
    "df = pd.read_csv(\"test.csv\")\n",
    "df.head()"
   ]
  },
  {
   "cell_type": "code",
   "execution_count": 2,
   "id": "0bf69451",
   "metadata": {},
   "outputs": [
    {
     "data": {
      "text/plain": [
       "array([['2022-07-04 08:47:54', 'economy', '머니투데이 ', ...,\n",
       "        '아이엘사이언스의 자회사 아이트로닉스는 차량용 복합기능형 졸음 방지 단말기 특허를 출원했다고 4일 밝혔다. 신규 특허는 자동차 주행 중 운전자의 졸음운전을 방지하는 상태 검출 기술에 관한 것이다. 해당 단말기는 가시광선 및 근적외선 광원을 조사하는 광원 모듈 운전자의 얼굴 영상을 촬영하는 가시광선 및 근적외선 카메라 차량 실내의 이산화탄소 농도를 측정하는 이산화탄소 센서로 구성됐다. 단말기는 광원에 반응하는 운전자의 얼굴 촬영 영상을 기반으로 심박 데이터와 눈의 깜빡임 횟수 눈을 감은 시간 등을 측정한다. 여기에 차내 졸음을 유발하는 이산화탄소 농도까지 종합적으로 분석해 운전자의 졸음 상태를 판단하고 결과값에 따라 경보 신호를 송출하도록 설계됐다. 아이트로닉스는 이번 특허기술을 차세대 지능형 교통체계 C ITS 시스템 설비에 적용할 예정이다. 회사 관계자는 이번 특허는 대표적인 차량 내적 사고 요인인 졸음운전 방지 차원에서 당사의 혁신 기술력을 집약해 정확도를 높이는 데 집중했다 며 완전 자율주행 단계에 이르기 전까지 지속될 운전자 안전사고 예방에 있어 해당 기술의 가시적인 성과를 기대하고 있다 고 말했다.',\n",
       "        'https://n.news.naver.com/mnews/article/008/0004766307?sid=101',\n",
       "        '아이일, 아이트로닉스는 차량용 복합기능형 졸음 방지 단말기 특허를 출원했다고 4일 밝혔으며 신규 특허는 자동차 주행 중 운전자의 졸음운전을 방지하는 상태 검출 기술에 관한 것으로, 해당 단말기는 가시광선 및 근적외선 광원을 조사하는 광원 모듈 운전자의 얼굴 영상을 촬영하는 가시광선 및 근적외선 카메라 차량 실내의 이산화탄소 농도를 측정하는 이산화탄소 센서로 구성됐다.'],\n",
       "       ['2022-07-07 15:01:04', 'IT과학', '파이낸셜뉴스 ', ...,\n",
       "        '한국형 우주발사체 누리호 가 지난 6월 21일 전남 고흥 나로우주센터 발사대에서 날아올라 성공적으로 발사됐다. 한국항공우주연구원 제공 파이낸셜뉴스 한국형 우주발사체 누리호 의 발사 성공에 힘입어 뉴스페이스 시대를 앞당기기 위한 발걸음이 빨라졌다. 우선 누리호를 설계하고 제작 발사하는 기술을 이전받을 기업을 9월까지 선정키로 했다. 또한 민간 우주기업들을 위한 산업단지와 각종 인프라가 들어설 우주산업 클러스터가 조성될 지역을 8월중 선정할 계획이다. 이같은 계획에 앞서 윤석렬 대통령은 지난 6일 한국항공우주연구원에서 우리의 미래가 국가 경쟁력의 핵심 분야인 우주에 달려 있다 며 항공우주산업을 체계적으로 지원하겠다고 밝혔다. 이는 대선후보시절부터 내세웠던 공약을 이행하겠다는 의지를 표명한 것이다. 누리호 기술 민간에 이전 과학기술정보통신부는 7일 이를위해 제42회 우주개발진흥실무위원회를 개최하고 한국형발사체 고도화사업 체계종합기업 선정 계획과 우주산업 클러스터 추진계획을 확정했다. 과기정통부 오태석 제1차관은 이날 우주개발진흥실무위원회에서 누리호 2차 발사 성공을 통한 국민적 지지 확보와 우주개발진흥법 개정을 통한 제도적 기반 마련 국정과제 반영 등 정부의 강력한 정책 의지가 엿보인다 며 지금이 우리나라 우주산업 육성의 골든타임이라고 판단된다 고 말했다. 과기정통부는 지난 6월 국내 우주산업 육성을 위한 우주개발진흥법 개정과 누리호 2차 발사 성공 등에 발맞춰 뉴스페이스 시대를 앞당기겠다는 윤 대통령의 의지를 뒷받침하고 있다. 우선 과기정통부는 한국형발사체 고도화사업의 일환으로 체계종합기업을 선정한다. 한국형발사체 고도화사업은 올해부터 2027년까지 총 6874억원을 투입해 누리호를 4차례 반복 발사하면서 누리호의 신뢰성을 높인다. 이때 발사체 체계종합기업에 선정된 기업은 이 기간동안 한국항공우주연구원으로부터 발사체의 설계와 제작 발사 등 전과정에 참여하면서 기술을 이전받게 된다. 과기정통부는 한국연구재단을 통해 체계종합기업 선정을 위한 기술능력 평가위원회를 꾸려 평가할 계획이다. 우주산업 클러스터 8월중 선정 또한 실무위원회에서는 우주산업 클러스터 추진계획을 확정했다. 이는 뉴스페이스 시대에 대비 민간이 주도하는 우주산업 본격 육성을 목적으로 발사체 특화지구와 위성 특화지구 지정이 주요 골자다. 과기정통부는 계획안에 맞춰 발사체와 위성 특화지구의 최적 후보지를 8월중 국가우주위원회 심의를 거쳐 최종 선정키로 했다. 이를 위해 오는 9월 중 우주산업클러스터 세부 사업의 예비타당성 조사를 신청키로 했다. 예타가 성공적으로 마무리되면 내년에 예산안을 마련해 2024년부터는 본격적으로 클러스터 구축 사업에 착수할 계획이다. 과기정통부가 정한 특화지구 지정원칙에 따르면 지역균형을 고려해 특화지구 지정때 수도권은 후보지에서 제외된다. 또한 관련 인프라가 이미 구축돼 있는 지역을 우선 검토할 예정이다. 우주산업 클러스터는 기존 인프라를 중심으로 조성해 국가 우주자산 활용을 극대화한다느 전략이다. 여기에 산업단지 조성과 연구개발 등의 지원을 통해 산업체 유치와 혁신 역량을 강화한다. 발사체 특화지구에는 발사체 산업단지와 조립·제작 창업 등을 지원하는 종합지원센터가 구축된다. 또 위성 특화지구에는 위성 산업단지와 인공위성과 관련된 시험인증 창업 지원등을 위한 지원종합지원센터가 들어서게 된다.이와함께 궤도나 발사 전자파 등 우주환경 시험 시설까지 확충할 계획이다. 이외에도 지역 대학 등과 연계해 거점별 특화된 전문 인력을 상시 공급하는 계획도 포함돼 있다.',\n",
       "        'https://n.news.naver.com/mnews/article/014/0004863856?sid=105',\n",
       "        '한국형 우주발사체 누리호가 지난 6월 21일 전남 고흥 나로우주센터 발사대에서 성공적으로 발사됨에 따라, 우주산업 클러스터가 조성될 지역을 8월중 선정하는 등 누리호 설계 및 제작 발사하는 기술의 이전으로 뉴스페이스 시대를 앞당기기 위한 계획이 빨라지고 있다.'],\n",
       "       ['2022-07-01 06:08:01', 'economy', '매일경제 ', ...,\n",
       "        '닥터둠 루비니 주가 50% 폭락할 것 뉴욕 증시 3대지수 모두 하락 대형주 중심의 미국 스탠더드앤드푸어스 S P 500 지수가 올 상반기 50여년만에 최악의 실적을 기록했다. 30일 이하 미국 현지시간 뉴욕 증시 3대 지수는 모두 하락하며 부진한 상반기 실적으로 마감했다. 일각에서는 경기침체 우려로 인해 추가 하락이 올 수 있다는 경고 메시지가 나오고 있다. 30일 뉴욕 증시에선 이번주 들어 4일 연속 하락장을 기록했다. 뉴욕증권거래소 NYSE 에서 다우존스 산업평균지수는 전장보다 253.88포인트 0.82% 하락한 30 775.43으로 거래를 마쳤다. S P500지수는 전장보다 33.45포인트 0.88% 하락한 3 785.38을 기술주 중심의 나스닥 지수는 전장보다 149.16포인트 1.33% 하락한 11 028.74로 장을 마감했다. 올해 상반기 마지막 거래일인 이날 뉴욕 증시 3대 지수는 모두 크게 저조한 실적을 기록했다. S P500의 경우 연초 기준으로 21.08% 하락했는데 이는 52년 전인 1970년 상반기 이후 가장 낮은 수준이다. 분기 기준으로 보면 다우와 S P500은 지난 2020년 1분기 이후 최저 기술주 중심의 나스닥은 2분기에만 22.4%가 빠졌는데 이는 2008년 이후 최악의 분기 실적이다. 홈리치 버그의 최고투자책임자 스테파니 랭은 우리는 전례없는 전염병으로 인해 세계적인 셧다운을 경험했고 재정과 통화 부문에서 모두 전례없는 결과로 이어졌다 면서 수요와 공급 부문에 퍼펙트 스톰이 불어닥쳤고 이제 수십년만에 다시 찾아오는 인플레이션으로 인해 미국 연방준비제도 연준·Fed 가 금리인상으로 바빠졌다 고 말했다. 이날 개별 종목을 보면 다우에서 약국 월그린 부츠 얼라인어스가 7.2%로 크게 하락했다. 이는 월그린이 주당 이익률을 낮췄기 때문이다. 아울러 경기침체 우려로 인해 여행 관련주들이 연속해서 하락했다. 크루즈 선사 카니발은 2% 이상 로열 캐리비언과 노로웨이 크루즈 라인도 각각 3% 이상씩 빠졌다. 이른바 닥터둠 으로 불리는 비관론자 누리엘 루비니 뉴욕대 교수는 주가가 50% 폭락할 것이라고 예상했다. 루비니 교수는 이날 마켓워치 기고문을 통해 이번에 찾아올 경기침체는 스테그플레이션과 금융위기를 동시에 동반하기 때문에 증시 하락은 50%에 이를 것 이라고 말했다. 그는 경기침체가 강할지 약할지 관계없이 역사적으로 보면 증시가 추락할 여지가 매우 크다 면서 이런 맥락에서 최근 1 2주간 보인 반등은 데드캣 바운스 에 불과하다 고 강조했다. 데드캣 바운스는 주가가 큰 폭으로 떨어지다가 잠깐 반등하는 상황을 비유할 때 쓰이는 말이다. 월가 투자정보는 유튜브 월가월부 에서 확인하세요. 자세한 해외 증시와 기업 분석 정보를 매일경제 해외 특파원들이 생생하게 전달해 드립니다.',\n",
       "        'https://n.news.naver.com/mnews/article/009/0004985433?sid=101',\n",
       "        '대 대형주 중심의 미국 스탠더드앤드푸어스 S P 500 지수가 올 상반기 50여년만에 최악의 실적을 기록하고 30일 이하 미국 현지시간 뉴욕 증시 3대 지수도 모두 하락하며 부진한 상반기 실적으로 마감한 가운데 일각에서는 경기침체 우려로 인해 추가 하락이 올 수 있다는 경고 메시지가 나오고 있다.'],\n",
       "       ...,\n",
       "       ['2022-07-01 16:35:01', 'economy', 'SBS Biz ', ...,\n",
       "        'KG그룹을 새 주인으로 맞이하는 쌍용자동차가 지난해보다 5.8% 감소한 8천9대 CKD 포함 를 판매했습니다. 쌍용차는 수출물량 증가세가 이어지며 지난 3월 이후 4개월 연속 8천대 이상을 팔았지만 반도체 등 부품 수급 제약으로 인해 지난해보다 판매량이 줄었다고 설명했습니다. 실제 수출 회복세에도 부품 수급에 차질이 빚어지면서 수출은 1만대 이상의 선적 지체 현상이 발생하고 있습니다. 수출 판매는 3천424대로 지난해보다 23.2% 늘었습니다. 1∼6월 누계로는 1만9천532대로 지난해 상반기 대비 42.7% 늘었습니다. 모델별로는 올 뉴 랙스턴 시그니처의 판매량이 지난해보다 101.3% 코란도가 91.9% 각각 늘어나면서 수출 실적을 견인했습니다. 반면 내수 판매는 4천585대로 작년 동월 대비 19.9% 감소했습니다. 다만 상반기 누계로는 2만8천177대로 작년 동기 대비 5.8% 증가해 회복세를 보이고 있다고 쌍용차는 설명했습니다. 코란도가 전년 동월 대비 판매량이 36.3%나 줄어 내수 감소폭이 가장 컸는데 다만 이달 출시될 토레스가 사전계약 첫날 역대 최고 기록을 수립한 이후 지난달 27일 기준 2만5천대 이상 판매돼 하반기 판매 전망을 밝게 했다고 쌍용차는 평가했습니다. 쌍용차 관계자는 신차 토레스의 안정적인 양산 체계 구축을 통해 하반기 판매물량을 대폭 확대할 계획 이라고 밝혔습니다.',\n",
       "        'https://n.news.naver.com/mnews/article/374/0000292780?sid=101',\n",
       "        'KG그룹을 새 주인으로 맞이하는 쌍용자동차가 반도체 등 부품 수급 제약 때문에 지난해보다 5.8% 감소한 8천9대 CKD를 판매했으며 판매량 증가세가 이어지며 지난 3월 이후 4개월 연속 8천대 이상을 팔았지만 실제 수출 회복세에도 부품 수급에 차질이 빚어지면서 수출은 1만대 이상의 선적 지체 현상이 발생하고 있다.'],\n",
       "       ['2022-07-05 08:36:02', 'economy', '서울경제 ', ...,\n",
       "        '1998년 11월 이후 첫 6%대 물가상승률 체감물가지수 7.4% ↑···농산물 상승폭 확대 통계청 7 8%대 물가 가능성 배제할 수 없다 지난 3일 서울의 한 마트를 찾은 시민들이 장을 보고 있다. 권욱 기자 서울경제 지난달 물가가 6.0% 치솟았다. 1998년 11월 외환위기 이후 약 24년만에 최고치다. 국제유가 상승 등 대외 요인에 의한 물가 오름세가 이어지는 가운데 이런 속도로 물가가 오르면 7 8%대 물가상승률 가능성도 배제할 수 없다는 우려까지 나온다. 5일 통계청이 발표한 ‘6월 소비자물가동향’에 따르면 6월 소비자물가지수는 108.22포인트 2020년 100 로 전년 동월 대비 6.0% 올랐다. 6%대 물가상승률은 1998년 11월 6.8% 이후 처음이다. 통계청은 “석유류 등 공업제품과 개인서비스 가격이 높은 오름세를 지속했고 농축산물 가격도 오름세가 확대됐다”라고 평가했다. 문제는 변동폭이 큰 농산물과 석유류를 제외한 물가도 오르고 있다는 점이다. 농산물과 석유류를 제외한 소비자물가지수는 전년 동월 대비 4.4% 올랐다. 지난달 4.1% 에 이어 두 달 연속 4%대다. 이 지표가 두 달 연속 4%대를 기록한 것은 지난 2009년 3 4월 이후 처음이다. 체감물가는 더욱 예사롭지 않다. 치킨과 칼국수 전기요금 등 구입 빈도와 지출비중이 높은 품목들로 구성된 생활물가지수는 전년 동월 대비 7.4% 올랐다. 1998년 11월 10.4% 이후 최대 상승폭이다. 특히 식품 체감물가는 전년 동월 대비 7.7% 올랐다. 지난해 같은 달과 비교해 감자 가격은 37.8% 올랐으며 배추 가격은 35.5% 뛰었다. 수입 소고기와 닭고기 가격은 각각 27.2%와 20.1% 올랐고 돼지고기 가격은 18.6% 상승했다. 장마가 본격화하며 농축수산물 수급 불확실성이 커지고 이른 추석을 앞두고 수요가 늘 것으로 보여 가격 변동성이 더욱 확대될 것으로 보인다. 여전히 국제유가와 곡물가격 상승 등 공급측 요인이 물가를 자극하고 있다. 공급측 요인으로 분류되는 농축수산물과 석유류 가격이 이달 물가 상승에 기여한 정도는 35.7%로 지난달 34.6% 보다 확대됐다. 수요측 요인으로 분류되는 개인서비스도 이달 물가에 29.4% 영향을 미쳤지만 이 역시 근본적으로 대외 요인에 따른 생산비 상승 때문이라는 것이 통계청의 설명이다. 공급발 發 물가 상승의 문제는 정부의 운신의 폭이 좁다는 점이다. 국제유가와 곡물가를 통제할 수단이 없어 할당관세 등 수입 물가 오름세에 따른 국민 부담을 최소화할 정책 카드만 쓸 수 있다. 이러한 이유로 7 8%대 물가 가능성까지 제기됐다. 통계청은 “올 들어 전월 대비 0.6 0.7%대 상승폭이 이어지고 있다”라며 “지금처럼 높은 상승 속도를 유지하면 7 8%대 가능성을 배제할 수 없다”라고 말했다.',\n",
       "        'https://n.news.naver.com/mnews/article/011/0004072570?sid=101',\n",
       "        '서울경제 지난달 물가가 6.0% 치솟으며 이런 속도로 물가가 오르면 7 8%대 물가상승률 가능성이 제기되며 통계청은 “석유류 등 공업제품과 개인서비스 가격이 높은 오름세를 지속했고 농축산물 가격도 오름세가 확대됐다”라고 평가했다.'],\n",
       "       ['2022-07-05 12:26:02', 'economy', '전자신문 ', ...,\n",
       "        '새정부 에너지정책 방향은 에너지 분야 최상위 기본계획을 대체하는 만큼 윤석열 정부 에너지정책 방향을 집대성했다. 윤석열 대통령이 후보 시절 공약으로 제시한 원전 최강국 건설 과 국정과제에서 제시한 원전산업 생태계 강화 에너지안보 확립을 정책 곳곳에 반영했다. 정부는 공급 측면에서 원전을 중심으로 한 합리적인 에너지믹스 수요 관리 측면에서 시장원리에 기반한 에너지 수요 효율화 를 동시에 추진하겠다고 했다. 윤석열 정부의 국정철학을 반영하면서도 실용성까지 고민한 에너지정책을 제시했다. 5일 국무회의에서 의결된 새정부 에너지정책 방향 은 원전 비중 확대 등 에너지·탄소중립 관련 국정과제를 이행하기 위한 에너지정책 목표를 담았다. 윤석열 대통령직인수위원회는 국정과제에서 △탈원전 정책 폐기 원자력 산업 생태계 강화 △에너지안보 확립과 에너지 신산업·신시장 창출 △과학적인 탄소중립 이행방안 마련으로 녹색경제 전환을 국정과제로 제시한 바 있다. 정부는 국정과제 철학을 수행할 에너지정책을 마련하기 위해 산업계·학계·시민단체 등을 대상으로 충분한 의견수렴을 거쳤고 이전 정부 에너지정책을 대체하기 위한 새정부 에너지정책 방향 을 마련했다. 정부는 새정부 에너지정책 방향 에서 원전 확대를 중심으로 재생에너지와 석탄 LNG 등 발전원을 포함해 실현가능하고 합리적인 에너지 믹스를 재정립한다. 원전은 2030년 발전 비중을 30% 이상으로 확대하겠다는 구체적인 목표를 제시했다. 다른 에너지원은 발전원별 특성을 살려 적절한 발전 믹스를 도출할 계획이다. 구체적으로 재생에너지는 문재인 정부처럼 보급 속도전을 벌이지는 않고 태양광과 풍력 등 세부 발전원별 적정 비중도 다시 도출한다. 문재인 정부에서 대폭 감축할 계획이었던 석탄발전도 전력 수급상황을 고려해 다시 들여다본다. 특정 에너지원의 과도한 속도전은 지양하되 합리성에 기반한 발전 믹스를 다시 설계할 계획이다. 박일준 산업부 제2차관은 “지난 정부에서 에너지 부분이 정치적으로 이데올로기 간 이슈가 돼서 그런데 에너지원은 완벽한 것이 없다”면서 “원전은 원전대로 재생에너지는 재생에너지대로 장점이 있고 석탄은 탄소때문에 줄이는 게 불가피하지만 LNG로 대체하면서 최근 유가 올라가는 부분이 미치는 영향이 크다”고 말했다. 박 차관은 이어 “그간 재생에너지 비율이 워낙 낮았다보니 여건보다 최대한으로 열심히 하자는 식의 목표 설정이 현실보다 과도하다는 지적이 많았다”면서 “그런 측면을 감안해 실현 가능하고 합리적인 에너지믹스를 고민해보자 하는 것이 이번 에너지 정책 방향에 포함돼 있다”고 설명했다. 정부가 이번 에너지 정책을 발표하면서 강조한 시장원리에 기반한 에너지 수요 효율화 및 시장구조 확립 도 주목할 만한 부분이다. 그간 드러나지 않았던 에너지 효율 정책을 전면에 내세웠기 때문이다. 에너지 효율은 정책적으로 전면에 드러나기 쉽지 않지만 온실가스 감축 등에 있어서 가장 중요한 부문이다. 국제에너지기구 IEA 도 효율 향상 이 온실가스 감축 기여도에서 가장 효과적인 수단이라고 평가한 바 있다. 박 차관은 “ 에너지 공급을 적당히 늘리고 에너지 믹스를 어떻게 하는지도 중요하지만 효율을 수요관리를 어떻게 해나갈 건지도 새 정부에서 신경 쓸 예정”이라면서 “산업 분야 다소비 업종을 집중 타깃으로 정책을 추진하고 건물 분야도 특히 서울과 경기 등 수도권 지역 상업건물 공공건물 등 빈틈을 찾아서 정책 역량을 집중하겠다”고 밝혔다. 정부가 새정부 에너지정책 방향 을 설계하면서 최종적으로 내세운 목표는 기후변화 대응 에너지안보 강화 에너지 신산업 창출을 통한 튼튼한 에너지 시스템 구현 이다. 산업부는 이번 정책을 차질없이 이행할 때 화석연료 수입 의존도를 지난해 81.8%에서 2030년 60%대로 줄일 수 있을 것으로 전망했다. 원전 재생 수소에너지의 조화로 2030년에는 화석연료 수입이 지난해 대비 약 4000만 석유환산톤 TOE 이 감소할 것으로 예상되기 때문이다. 세계적으로 탄소중립 추세가 지속되는 가운데 에너지 공급망 불안은 커지는 상황에서 에너지 안보와 탄소중립을 동시에 달성할 수 있다.',\n",
       "        'https://n.news.naver.com/mnews/article/030/0003028119?sid=101',\n",
       "        '원자력석열 대통령직인수위원회는 국정과제 철학을 수행할 에너지정책을 마련하기 위해 산업계·학계·시민단체 등을 대상으로 충분한 의견수렴을 거쳤고 이전 정부 에너지정책을 대체하기 위한 새정부 에너지정책 방향을 마련했으며, 정부는 새정부 에너지정책 방향 에서 원전 확대를 중심으로 재생에너지와 석탄 LNG 등 발전원을 포함해 실현가능하고 합리적인 에너지 믹스를 재정립하고 원전은 2030년 발전 비중을 30% 이상으로 확대하겠다는 구체적인 목표를 제시했다.']],\n",
       "      dtype=object)"
      ]
     },
     "execution_count": 2,
     "metadata": {},
     "output_type": "execute_result"
    }
   ],
   "source": [
    "texts = df.to_numpy()\n",
    "texts"
   ]
  },
  {
   "cell_type": "code",
   "execution_count": 3,
   "id": "0bab2ec9",
   "metadata": {},
   "outputs": [
    {
     "data": {
      "text/plain": [
       "(2740, 7)"
      ]
     },
     "execution_count": 3,
     "metadata": {},
     "output_type": "execute_result"
    }
   ],
   "source": [
    "texts.shape"
   ]
  },
  {
   "cell_type": "code",
   "execution_count": 4,
   "id": "243a0971",
   "metadata": {},
   "outputs": [
    {
     "name": "stdout",
     "output_type": "stream",
     "text": [
      "['2022-07-04 08:47:54' 'economy' '머니투데이 '\n",
      " '아이트로닉스 차량용 복합기능형 졸음 방지 단말기 특허 출원'\n",
      " '아이엘사이언스의 자회사 아이트로닉스는 차량용 복합기능형 졸음 방지 단말기 특허를 출원했다고 4일 밝혔다. 신규 특허는 자동차 주행 중 운전자의 졸음운전을 방지하는 상태 검출 기술에 관한 것이다. 해당 단말기는 가시광선 및 근적외선 광원을 조사하는 광원 모듈 운전자의 얼굴 영상을 촬영하는 가시광선 및 근적외선 카메라 차량 실내의 이산화탄소 농도를 측정하는 이산화탄소 센서로 구성됐다. 단말기는 광원에 반응하는 운전자의 얼굴 촬영 영상을 기반으로 심박 데이터와 눈의 깜빡임 횟수 눈을 감은 시간 등을 측정한다. 여기에 차내 졸음을 유발하는 이산화탄소 농도까지 종합적으로 분석해 운전자의 졸음 상태를 판단하고 결과값에 따라 경보 신호를 송출하도록 설계됐다. 아이트로닉스는 이번 특허기술을 차세대 지능형 교통체계 C ITS 시스템 설비에 적용할 예정이다. 회사 관계자는 이번 특허는 대표적인 차량 내적 사고 요인인 졸음운전 방지 차원에서 당사의 혁신 기술력을 집약해 정확도를 높이는 데 집중했다 며 완전 자율주행 단계에 이르기 전까지 지속될 운전자 안전사고 예방에 있어 해당 기술의 가시적인 성과를 기대하고 있다 고 말했다.'\n",
      " 'https://n.news.naver.com/mnews/article/008/0004766307?sid=101'\n",
      " '아이일, 아이트로닉스는 차량용 복합기능형 졸음 방지 단말기 특허를 출원했다고 4일 밝혔으며 신규 특허는 자동차 주행 중 운전자의 졸음운전을 방지하는 상태 검출 기술에 관한 것으로, 해당 단말기는 가시광선 및 근적외선 광원을 조사하는 광원 모듈 운전자의 얼굴 영상을 촬영하는 가시광선 및 근적외선 카메라 차량 실내의 이산화탄소 농도를 측정하는 이산화탄소 센서로 구성됐다.']\n",
      "['2022-07-07 15:01:04' 'IT과학' '파이낸셜뉴스 ' '뉴스페이스로 가는 한국… 우주기업 성장할 기술·터전 만든다'\n",
      " '한국형 우주발사체 누리호 가 지난 6월 21일 전남 고흥 나로우주센터 발사대에서 날아올라 성공적으로 발사됐다. 한국항공우주연구원 제공 파이낸셜뉴스 한국형 우주발사체 누리호 의 발사 성공에 힘입어 뉴스페이스 시대를 앞당기기 위한 발걸음이 빨라졌다. 우선 누리호를 설계하고 제작 발사하는 기술을 이전받을 기업을 9월까지 선정키로 했다. 또한 민간 우주기업들을 위한 산업단지와 각종 인프라가 들어설 우주산업 클러스터가 조성될 지역을 8월중 선정할 계획이다. 이같은 계획에 앞서 윤석렬 대통령은 지난 6일 한국항공우주연구원에서 우리의 미래가 국가 경쟁력의 핵심 분야인 우주에 달려 있다 며 항공우주산업을 체계적으로 지원하겠다고 밝혔다. 이는 대선후보시절부터 내세웠던 공약을 이행하겠다는 의지를 표명한 것이다. 누리호 기술 민간에 이전 과학기술정보통신부는 7일 이를위해 제42회 우주개발진흥실무위원회를 개최하고 한국형발사체 고도화사업 체계종합기업 선정 계획과 우주산업 클러스터 추진계획을 확정했다. 과기정통부 오태석 제1차관은 이날 우주개발진흥실무위원회에서 누리호 2차 발사 성공을 통한 국민적 지지 확보와 우주개발진흥법 개정을 통한 제도적 기반 마련 국정과제 반영 등 정부의 강력한 정책 의지가 엿보인다 며 지금이 우리나라 우주산업 육성의 골든타임이라고 판단된다 고 말했다. 과기정통부는 지난 6월 국내 우주산업 육성을 위한 우주개발진흥법 개정과 누리호 2차 발사 성공 등에 발맞춰 뉴스페이스 시대를 앞당기겠다는 윤 대통령의 의지를 뒷받침하고 있다. 우선 과기정통부는 한국형발사체 고도화사업의 일환으로 체계종합기업을 선정한다. 한국형발사체 고도화사업은 올해부터 2027년까지 총 6874억원을 투입해 누리호를 4차례 반복 발사하면서 누리호의 신뢰성을 높인다. 이때 발사체 체계종합기업에 선정된 기업은 이 기간동안 한국항공우주연구원으로부터 발사체의 설계와 제작 발사 등 전과정에 참여하면서 기술을 이전받게 된다. 과기정통부는 한국연구재단을 통해 체계종합기업 선정을 위한 기술능력 평가위원회를 꾸려 평가할 계획이다. 우주산업 클러스터 8월중 선정 또한 실무위원회에서는 우주산업 클러스터 추진계획을 확정했다. 이는 뉴스페이스 시대에 대비 민간이 주도하는 우주산업 본격 육성을 목적으로 발사체 특화지구와 위성 특화지구 지정이 주요 골자다. 과기정통부는 계획안에 맞춰 발사체와 위성 특화지구의 최적 후보지를 8월중 국가우주위원회 심의를 거쳐 최종 선정키로 했다. 이를 위해 오는 9월 중 우주산업클러스터 세부 사업의 예비타당성 조사를 신청키로 했다. 예타가 성공적으로 마무리되면 내년에 예산안을 마련해 2024년부터는 본격적으로 클러스터 구축 사업에 착수할 계획이다. 과기정통부가 정한 특화지구 지정원칙에 따르면 지역균형을 고려해 특화지구 지정때 수도권은 후보지에서 제외된다. 또한 관련 인프라가 이미 구축돼 있는 지역을 우선 검토할 예정이다. 우주산업 클러스터는 기존 인프라를 중심으로 조성해 국가 우주자산 활용을 극대화한다느 전략이다. 여기에 산업단지 조성과 연구개발 등의 지원을 통해 산업체 유치와 혁신 역량을 강화한다. 발사체 특화지구에는 발사체 산업단지와 조립·제작 창업 등을 지원하는 종합지원센터가 구축된다. 또 위성 특화지구에는 위성 산업단지와 인공위성과 관련된 시험인증 창업 지원등을 위한 지원종합지원센터가 들어서게 된다.이와함께 궤도나 발사 전자파 등 우주환경 시험 시설까지 확충할 계획이다. 이외에도 지역 대학 등과 연계해 거점별 특화된 전문 인력을 상시 공급하는 계획도 포함돼 있다.'\n",
      " 'https://n.news.naver.com/mnews/article/014/0004863856?sid=105'\n",
      " '한국형 우주발사체 누리호가 지난 6월 21일 전남 고흥 나로우주센터 발사대에서 성공적으로 발사됨에 따라, 우주산업 클러스터가 조성될 지역을 8월중 선정하는 등 누리호 설계 및 제작 발사하는 기술의 이전으로 뉴스페이스 시대를 앞당기기 위한 계획이 빨라지고 있다.']\n"
     ]
    }
   ],
   "source": [
    "for idx, content in enumerate(texts):\n",
    "    if idx == 2:\n",
    "        break\n",
    "    print(content)"
   ]
  },
  {
   "cell_type": "code",
   "execution_count": 5,
   "id": "1b55e33b",
   "metadata": {},
   "outputs": [
    {
     "name": "stdout",
     "output_type": "stream",
     "text": [
      "아이트로닉스 차량용 복합기능형 졸음 방지 단말기 특허 출원\n",
      "뉴스페이스로 가는 한국… 우주기업 성장할 기술·터전 만든다\n"
     ]
    }
   ],
   "source": [
    "for idx, content in enumerate(texts):\n",
    "    if idx == 2:\n",
    "        break\n",
    "    print(content[3])"
   ]
  },
  {
   "cell_type": "code",
   "execution_count": 6,
   "id": "a844ee35",
   "metadata": {},
   "outputs": [
    {
     "name": "stderr",
     "output_type": "stream",
     "text": [
      "No sentence-transformers model found with name Huffon/sentence-klue-roberta-base. Creating a new one with mean pooling.\n"
     ]
    },
    {
     "data": {
      "application/vnd.jupyter.widget-view+json": {
       "model_id": "7820724c34734f1a91a63c6b156712ff",
       "version_major": 2,
       "version_minor": 0
      },
      "text/plain": [
       "Batches:   0%|          | 0/86 [00:00<?, ?it/s]"
      ]
     },
     "metadata": {},
     "output_type": "display_data"
    },
    {
     "name": "stdout",
     "output_type": "stream",
     "text": [
      "(2740, 768)\n"
     ]
    }
   ],
   "source": [
    "titles = [item[3] for item in texts]\n",
    "embedder = SentenceTransformer('Huffon/sentence-klue-roberta-base')\n",
    "vectors = embedder.encode(titles, normalize_embeddings=True, convert_to_numpy=True, show_progress_bar=True)\n",
    "print(vectors.shape)"
   ]
  },
  {
   "cell_type": "code",
   "execution_count": 7,
   "id": "47f5a5d1",
   "metadata": {},
   "outputs": [],
   "source": [
    "# Faiss 계산하기\n",
    "# 초기화 : 벡터의 크기를 지정\n",
    "#(IndexFlatL2는 각 벡터의 유사성 또는 각 벡터의 근접성을 측정하는 거리 메트릭)\n",
    "# L2는 유클리드 거리를 의미\n",
    "index = faiss.IndexFlatIP(vectors.shape[1])\n",
    "index.add(vectors) # 임베딩 추가"
   ]
  },
  {
   "cell_type": "code",
   "execution_count": 8,
   "id": "fefb10ea",
   "metadata": {},
   "outputs": [
    {
     "data": {
      "text/plain": [
       "2740"
      ]
     },
     "execution_count": 8,
     "metadata": {},
     "output_type": "execute_result"
    }
   ],
   "source": [
    "index.is_trained #추가 되었는지 확인\n",
    "index.ntotal #추가된 벡터의 수"
   ]
  },
  {
   "cell_type": "code",
   "execution_count": 9,
   "id": "56673feb",
   "metadata": {},
   "outputs": [],
   "source": [
    "## 유사도 검색\n",
    "\n",
    "top_k = 4\n",
    "query = \"세입자 구해오라는 집주인\"\n",
    "query_embedding = embedder.encode(query, normalize_embeddings=True, convert_to_numpy=True)\n",
    "distances, indices = index.search(np.expand_dims(query_embedding, axis=0), k=top_k)\n",
    "\n",
    "# 유사도 검색은 쉽게 index.search를 사용하면 할수 있음\n",
    "# 결과는 튜플형태로 나오게 되는데 앞에(distances)는 각각의 벡터들의 거리가 저장되고,\n",
    "# 뒤에 (indices)는 해당하는 인덱스를 반화\n",
    "# top_k는 몇개를 추출할 것인지에 대한 옵션이고 자동으로 거리가 가까운 순서대로 정렬되어 반환됨"
   ]
  },
  {
   "cell_type": "code",
   "execution_count": 10,
   "id": "df389697",
   "metadata": {},
   "outputs": [
    {
     "name": "stderr",
     "output_type": "stream",
     "text": [
      "C:\\Users\\jjsd4\\AppData\\Local\\Temp\\ipykernel_34236\\3202029093.py:3: SettingWithCopyWarning: \n",
      "A value is trying to be set on a copy of a slice from a DataFrame.\n",
      "Try using .loc[row_indexer,col_indexer] = value instead\n",
      "\n",
      "See the caveats in the documentation: https://pandas.pydata.org/pandas-docs/stable/user_guide/indexing.html#returning-a-view-versus-a-copy\n",
      "  temp['distance'] = distances[0]\n"
     ]
    },
    {
     "data": {
      "text/html": [
       "<div>\n",
       "<style scoped>\n",
       "    .dataframe tbody tr th:only-of-type {\n",
       "        vertical-align: middle;\n",
       "    }\n",
       "\n",
       "    .dataframe tbody tr th {\n",
       "        vertical-align: top;\n",
       "    }\n",
       "\n",
       "    .dataframe thead th {\n",
       "        text-align: right;\n",
       "    }\n",
       "</style>\n",
       "<table border=\"1\" class=\"dataframe\">\n",
       "  <thead>\n",
       "    <tr style=\"text-align: right;\">\n",
       "      <th></th>\n",
       "      <th>title</th>\n",
       "      <th>document</th>\n",
       "      <th>link</th>\n",
       "      <th>summary</th>\n",
       "    </tr>\n",
       "  </thead>\n",
       "  <tbody>\n",
       "    <tr>\n",
       "      <th>812</th>\n",
       "      <td>전세금 받고 싶으면 세입자 구해오라는 집주인 대처법더 머니이스트아하 부동산법률</td>\n",
       "      <td>한경닷컴 더 머니이스트 중도 해지 시 집주인 요구 정당 묵시적 갱신 · 갱신 요구권...</td>\n",
       "      <td>https://n.news.naver.com/mnews/article/015/000...</td>\n",
       "      <td>신규 세입자를 구하는 일을 두고 집주인과 세입자 간 갈등이 생기는 경우가 있는데, ...</td>\n",
       "    </tr>\n",
       "    <tr>\n",
       "      <th>2396</th>\n",
       "      <td>전셋값 오르고 이자 뛰고..‘차라리 월세 살래요’</td>\n",
       "      <td>3일 서울 송파구에 위치한 한 공인중개사 사무소에 아파트 매매 및 전·월세 가격표가...</td>\n",
       "      <td>https://n.news.naver.com/mnews/article/005/000...</td>\n",
       "      <td>최근 전·월세 거래 중 월세 비중이 지난 4월 통계 집계 이후 처음 50%를 넘었고...</td>\n",
       "    </tr>\n",
       "    <tr>\n",
       "      <th>1681</th>\n",
       "      <td>서울 아파트 매수심리 8주째 하락…전세도 ‘공급수요’</td>\n",
       "      <td>서울 아파트 매수심리가 8주 연속 하락한 것으로 조사됐습니다. 한국부동산원은 이번 ...</td>\n",
       "      <td>https://n.news.naver.com/mnews/article/056/001...</td>\n",
       "      <td>한국부동산원은 이번 주 서울 아파트 매매수급지수가 87.0으로 지난주보다 1.1포인...</td>\n",
       "    </tr>\n",
       "    <tr>\n",
       "      <th>2227</th>\n",
       "      <td>팔 사람은 많고 살 사람은 없다…수도권 아파트 수급지수 뚝뚝</td>\n",
       "      <td>수도권 매매수급지수 3년여만에 90 아래로 서울 8주째 매수 위축…거래절벽·가격하락...</td>\n",
       "      <td>https://n.news.naver.com/mnews/article/277/000...</td>\n",
       "      <td>전국 한국부동산원 조사에 따르면 이번주 수도권 아파트 매매수급지수는 89.8을 기록...</td>\n",
       "    </tr>\n",
       "  </tbody>\n",
       "</table>\n",
       "</div>"
      ],
      "text/plain": [
       "                                            title  \\\n",
       "812   전세금 받고 싶으면 세입자 구해오라는 집주인 대처법더 머니이스트아하 부동산법률   \n",
       "2396                  전셋값 오르고 이자 뛰고..‘차라리 월세 살래요’   \n",
       "1681                서울 아파트 매수심리 8주째 하락…전세도 ‘공급수요’   \n",
       "2227            팔 사람은 많고 살 사람은 없다…수도권 아파트 수급지수 뚝뚝   \n",
       "\n",
       "                                               document  \\\n",
       "812   한경닷컴 더 머니이스트 중도 해지 시 집주인 요구 정당 묵시적 갱신 · 갱신 요구권...   \n",
       "2396  3일 서울 송파구에 위치한 한 공인중개사 사무소에 아파트 매매 및 전·월세 가격표가...   \n",
       "1681  서울 아파트 매수심리가 8주 연속 하락한 것으로 조사됐습니다. 한국부동산원은 이번 ...   \n",
       "2227  수도권 매매수급지수 3년여만에 90 아래로 서울 8주째 매수 위축…거래절벽·가격하락...   \n",
       "\n",
       "                                                   link  \\\n",
       "812   https://n.news.naver.com/mnews/article/015/000...   \n",
       "2396  https://n.news.naver.com/mnews/article/005/000...   \n",
       "1681  https://n.news.naver.com/mnews/article/056/001...   \n",
       "2227  https://n.news.naver.com/mnews/article/277/000...   \n",
       "\n",
       "                                                summary  \n",
       "812   신규 세입자를 구하는 일을 두고 집주인과 세입자 간 갈등이 생기는 경우가 있는데, ...  \n",
       "2396  최근 전·월세 거래 중 월세 비중이 지난 4월 통계 집계 이후 처음 50%를 넘었고...  \n",
       "1681  한국부동산원은 이번 주 서울 아파트 매매수급지수가 87.0으로 지난주보다 1.1포인...  \n",
       "2227  전국 한국부동산원 조사에 따르면 이번주 수도권 아파트 매매수급지수는 89.8을 기록...  "
      ]
     },
     "execution_count": 10,
     "metadata": {},
     "output_type": "execute_result"
    }
   ],
   "source": [
    "# 결과 확인\n",
    "temp = df.iloc[indices[0]]\n",
    "temp['distance'] = distances[0]\n",
    "temp[['title', 'document', 'link', 'summary']]"
   ]
  },
  {
   "cell_type": "code",
   "execution_count": null,
   "id": "cbf85505",
   "metadata": {},
   "outputs": [],
   "source": []
  }
 ],
 "metadata": {
  "kernelspec": {
   "display_name": "torch",
   "language": "python",
   "name": "python3"
  },
  "language_info": {
   "codemirror_mode": {
    "name": "ipython",
    "version": 3
   },
   "file_extension": ".py",
   "mimetype": "text/x-python",
   "name": "python",
   "nbconvert_exporter": "python",
   "pygments_lexer": "ipython3",
   "version": "3.11.8"
  }
 },
 "nbformat": 4,
 "nbformat_minor": 5
}
