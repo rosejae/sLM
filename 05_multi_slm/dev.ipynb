{
 "cells": [
  {
   "cell_type": "markdown",
   "id": "29b972d5",
   "metadata": {},
   "source": [
    "## <font color=yellow>1. Inference with orch</font>\n",
    "- orch는 agent와 키워드를 추출해주는 모듈"
   ]
  },
  {
   "cell_type": "code",
   "execution_count": 1,
   "id": "afd2b6c3",
   "metadata": {},
   "outputs": [
    {
     "name": "stdout",
     "output_type": "stream",
     "text": [
      "{\"agent\": \"Web agent\", \"keyword\": \"한국 수도\"}\n"
     ]
    }
   ],
   "source": [
    "from azure.gpt.orch import Orch\n",
    "\n",
    "orch = Orch()\n",
    "\n",
    "history = \"\"\"\n",
    "user : 한국 수도는 어디\n",
    "\"\"\"\n",
    "response = orch._generate(history)\n",
    "print(response)"
   ]
  },
  {
   "cell_type": "code",
   "execution_count": 2,
   "id": "4ba30cc4",
   "metadata": {},
   "outputs": [
    {
     "name": "stdout",
     "output_type": "stream",
     "text": [
      "{\"agent\": \"News agent\", \"keyword\": \"서울 관련 뉴스\"}\n"
     ]
    }
   ],
   "source": [
    "history = \"\"\"\n",
    "user : 한국 수도는 어디\n",
    "assistant : 한국 수도는 서울입니다.\n",
    "user : 그럼 그거 관련한 뉴스 알려줄래?\n",
    "\"\"\"\n",
    "response = orch._generate(history)\n",
    "print(response)"
   ]
  },
  {
   "cell_type": "markdown",
   "id": "61c6a995",
   "metadata": {},
   "source": [
    "한국 수도는 어디냐는 질문에, \n",
    "- web으로 한국 수도라는 키워드로 찾을 수 있도록 잘 구현이 됨\n",
    "\n",
    "관련 뉴스가 뭐냐는 질문에,\n",
    "- 뉴스 agent와 키워드가 잘 선택이 됨"
   ]
  },
  {
   "cell_type": "markdown",
   "id": "5a71b578",
   "metadata": {},
   "source": [
    "## <font color=yellow>2. AI Search with MS Azure</font>"
   ]
  },
  {
   "cell_type": "markdown",
   "id": "2775c8af",
   "metadata": {},
   "source": [
    "## <font color=red>[test] embedding model</font>"
   ]
  },
  {
   "cell_type": "code",
   "execution_count": 1,
   "id": "ca2f6e60",
   "metadata": {},
   "outputs": [
    {
     "data": {
      "text/html": [
       "<div>\n",
       "<style scoped>\n",
       "    .dataframe tbody tr th:only-of-type {\n",
       "        vertical-align: middle;\n",
       "    }\n",
       "\n",
       "    .dataframe tbody tr th {\n",
       "        vertical-align: top;\n",
       "    }\n",
       "\n",
       "    .dataframe thead th {\n",
       "        text-align: right;\n",
       "    }\n",
       "</style>\n",
       "<table border=\"1\" class=\"dataframe\">\n",
       "  <thead>\n",
       "    <tr style=\"text-align: right;\">\n",
       "      <th></th>\n",
       "      <th>Unnamed: 0</th>\n",
       "      <th>bill_id</th>\n",
       "      <th>text</th>\n",
       "      <th>summary</th>\n",
       "      <th>title</th>\n",
       "      <th>text_len</th>\n",
       "      <th>sum_len</th>\n",
       "    </tr>\n",
       "  </thead>\n",
       "  <tbody>\n",
       "    <tr>\n",
       "      <th>0</th>\n",
       "      <td>0</td>\n",
       "      <td>110_hr37</td>\n",
       "      <td>SECTION 1. SHORT TITLE.\\n\\n    This Act may be...</td>\n",
       "      <td>National Science Education Tax Incentive for B...</td>\n",
       "      <td>To amend the Internal Revenue Code of 1986 to ...</td>\n",
       "      <td>8494</td>\n",
       "      <td>321</td>\n",
       "    </tr>\n",
       "    <tr>\n",
       "      <th>1</th>\n",
       "      <td>1</td>\n",
       "      <td>112_hr2873</td>\n",
       "      <td>SECTION 1. SHORT TITLE.\\n\\n    This Act may be...</td>\n",
       "      <td>Small Business Expansion and Hiring Act of 201...</td>\n",
       "      <td>To amend the Internal Revenue Code of 1986 to ...</td>\n",
       "      <td>6522</td>\n",
       "      <td>1424</td>\n",
       "    </tr>\n",
       "    <tr>\n",
       "      <th>2</th>\n",
       "      <td>2</td>\n",
       "      <td>109_s2408</td>\n",
       "      <td>SECTION 1. RELEASE OF DOCUMENTS CAPTURED IN IR...</td>\n",
       "      <td>Requires the Director of National Intelligence...</td>\n",
       "      <td>A bill to require the Director of National Int...</td>\n",
       "      <td>6154</td>\n",
       "      <td>463</td>\n",
       "    </tr>\n",
       "    <tr>\n",
       "      <th>3</th>\n",
       "      <td>3</td>\n",
       "      <td>108_s1899</td>\n",
       "      <td>SECTION 1. SHORT TITLE.\\n\\n    This Act may be...</td>\n",
       "      <td>National Cancer Act of 2003 - Amends the Publi...</td>\n",
       "      <td>A bill to improve data collection and dissemin...</td>\n",
       "      <td>19853</td>\n",
       "      <td>1400</td>\n",
       "    </tr>\n",
       "    <tr>\n",
       "      <th>4</th>\n",
       "      <td>4</td>\n",
       "      <td>107_s1531</td>\n",
       "      <td>SECTION 1. SHORT TITLE.\\n\\n    This Act may be...</td>\n",
       "      <td>Military Call-up Relief Act - Amends the Inter...</td>\n",
       "      <td>A bill to amend the Internal Revenue Code of 1...</td>\n",
       "      <td>6273</td>\n",
       "      <td>278</td>\n",
       "    </tr>\n",
       "  </tbody>\n",
       "</table>\n",
       "</div>"
      ],
      "text/plain": [
       "   Unnamed: 0     bill_id                                               text  \\\n",
       "0           0    110_hr37  SECTION 1. SHORT TITLE.\\n\\n    This Act may be...   \n",
       "1           1  112_hr2873  SECTION 1. SHORT TITLE.\\n\\n    This Act may be...   \n",
       "2           2   109_s2408  SECTION 1. RELEASE OF DOCUMENTS CAPTURED IN IR...   \n",
       "3           3   108_s1899  SECTION 1. SHORT TITLE.\\n\\n    This Act may be...   \n",
       "4           4   107_s1531  SECTION 1. SHORT TITLE.\\n\\n    This Act may be...   \n",
       "\n",
       "                                             summary  \\\n",
       "0  National Science Education Tax Incentive for B...   \n",
       "1  Small Business Expansion and Hiring Act of 201...   \n",
       "2  Requires the Director of National Intelligence...   \n",
       "3  National Cancer Act of 2003 - Amends the Publi...   \n",
       "4  Military Call-up Relief Act - Amends the Inter...   \n",
       "\n",
       "                                               title  text_len  sum_len  \n",
       "0  To amend the Internal Revenue Code of 1986 to ...      8494      321  \n",
       "1  To amend the Internal Revenue Code of 1986 to ...      6522     1424  \n",
       "2  A bill to require the Director of National Int...      6154      463  \n",
       "3  A bill to improve data collection and dissemin...     19853     1400  \n",
       "4  A bill to amend the Internal Revenue Code of 1...      6273      278  "
      ]
     },
     "execution_count": 1,
     "metadata": {},
     "output_type": "execute_result"
    }
   ],
   "source": [
    "import os\n",
    "import re\n",
    "import pandas as pd \n",
    "\n",
    "df = pd.read_csv(os.path.join(os.getcwd(),'bill_sum_data.csv')) \n",
    "df.head()"
   ]
  },
  {
   "cell_type": "code",
   "execution_count": 2,
   "id": "61e74df0",
   "metadata": {},
   "outputs": [
    {
     "data": {
      "text/html": [
       "<div>\n",
       "<style scoped>\n",
       "    .dataframe tbody tr th:only-of-type {\n",
       "        vertical-align: middle;\n",
       "    }\n",
       "\n",
       "    .dataframe tbody tr th {\n",
       "        vertical-align: top;\n",
       "    }\n",
       "\n",
       "    .dataframe thead th {\n",
       "        text-align: right;\n",
       "    }\n",
       "</style>\n",
       "<table border=\"1\" class=\"dataframe\">\n",
       "  <thead>\n",
       "    <tr style=\"text-align: right;\">\n",
       "      <th></th>\n",
       "      <th>text</th>\n",
       "      <th>summary</th>\n",
       "      <th>title</th>\n",
       "    </tr>\n",
       "  </thead>\n",
       "  <tbody>\n",
       "    <tr>\n",
       "      <th>0</th>\n",
       "      <td>SECTION 1. SHORT TITLE.\\n\\n    This Act may be...</td>\n",
       "      <td>National Science Education Tax Incentive for B...</td>\n",
       "      <td>To amend the Internal Revenue Code of 1986 to ...</td>\n",
       "    </tr>\n",
       "    <tr>\n",
       "      <th>1</th>\n",
       "      <td>SECTION 1. SHORT TITLE.\\n\\n    This Act may be...</td>\n",
       "      <td>Small Business Expansion and Hiring Act of 201...</td>\n",
       "      <td>To amend the Internal Revenue Code of 1986 to ...</td>\n",
       "    </tr>\n",
       "    <tr>\n",
       "      <th>2</th>\n",
       "      <td>SECTION 1. RELEASE OF DOCUMENTS CAPTURED IN IR...</td>\n",
       "      <td>Requires the Director of National Intelligence...</td>\n",
       "      <td>A bill to require the Director of National Int...</td>\n",
       "    </tr>\n",
       "    <tr>\n",
       "      <th>3</th>\n",
       "      <td>SECTION 1. SHORT TITLE.\\n\\n    This Act may be...</td>\n",
       "      <td>National Cancer Act of 2003 - Amends the Publi...</td>\n",
       "      <td>A bill to improve data collection and dissemin...</td>\n",
       "    </tr>\n",
       "    <tr>\n",
       "      <th>4</th>\n",
       "      <td>SECTION 1. SHORT TITLE.\\n\\n    This Act may be...</td>\n",
       "      <td>Military Call-up Relief Act - Amends the Inter...</td>\n",
       "      <td>A bill to amend the Internal Revenue Code of 1...</td>\n",
       "    </tr>\n",
       "  </tbody>\n",
       "</table>\n",
       "</div>"
      ],
      "text/plain": [
       "                                                text  \\\n",
       "0  SECTION 1. SHORT TITLE.\\n\\n    This Act may be...   \n",
       "1  SECTION 1. SHORT TITLE.\\n\\n    This Act may be...   \n",
       "2  SECTION 1. RELEASE OF DOCUMENTS CAPTURED IN IR...   \n",
       "3  SECTION 1. SHORT TITLE.\\n\\n    This Act may be...   \n",
       "4  SECTION 1. SHORT TITLE.\\n\\n    This Act may be...   \n",
       "\n",
       "                                             summary  \\\n",
       "0  National Science Education Tax Incentive for B...   \n",
       "1  Small Business Expansion and Hiring Act of 201...   \n",
       "2  Requires the Director of National Intelligence...   \n",
       "3  National Cancer Act of 2003 - Amends the Publi...   \n",
       "4  Military Call-up Relief Act - Amends the Inter...   \n",
       "\n",
       "                                               title  \n",
       "0  To amend the Internal Revenue Code of 1986 to ...  \n",
       "1  To amend the Internal Revenue Code of 1986 to ...  \n",
       "2  A bill to require the Director of National Int...  \n",
       "3  A bill to improve data collection and dissemin...  \n",
       "4  A bill to amend the Internal Revenue Code of 1...  "
      ]
     },
     "execution_count": 2,
     "metadata": {},
     "output_type": "execute_result"
    }
   ],
   "source": [
    "df_bills = df[['text', 'summary', 'title']]\n",
    "df_bills.head()"
   ]
  },
  {
   "cell_type": "code",
   "execution_count": 3,
   "id": "9a857887",
   "metadata": {},
   "outputs": [
    {
     "data": {
      "text/html": [
       "<div>\n",
       "<style scoped>\n",
       "    .dataframe tbody tr th:only-of-type {\n",
       "        vertical-align: middle;\n",
       "    }\n",
       "\n",
       "    .dataframe tbody tr th {\n",
       "        vertical-align: top;\n",
       "    }\n",
       "\n",
       "    .dataframe thead th {\n",
       "        text-align: right;\n",
       "    }\n",
       "</style>\n",
       "<table border=\"1\" class=\"dataframe\">\n",
       "  <thead>\n",
       "    <tr style=\"text-align: right;\">\n",
       "      <th></th>\n",
       "      <th>text</th>\n",
       "      <th>summary</th>\n",
       "      <th>title</th>\n",
       "    </tr>\n",
       "  </thead>\n",
       "  <tbody>\n",
       "    <tr>\n",
       "      <th>0</th>\n",
       "      <td>SECTION 1. SHORT TITLE. This Act may be cited ...</td>\n",
       "      <td>National Science Education Tax Incentive for B...</td>\n",
       "      <td>To amend the Internal Revenue Code of 1986 to ...</td>\n",
       "    </tr>\n",
       "    <tr>\n",
       "      <th>1</th>\n",
       "      <td>SECTION 1. SHORT TITLE. This Act may be cited ...</td>\n",
       "      <td>Small Business Expansion and Hiring Act of 201...</td>\n",
       "      <td>To amend the Internal Revenue Code of 1986 to ...</td>\n",
       "    </tr>\n",
       "    <tr>\n",
       "      <th>2</th>\n",
       "      <td>SECTION 1. RELEASE OF DOCUMENTS CAPTURED IN IR...</td>\n",
       "      <td>Requires the Director of National Intelligence...</td>\n",
       "      <td>A bill to require the Director of National Int...</td>\n",
       "    </tr>\n",
       "    <tr>\n",
       "      <th>3</th>\n",
       "      <td>SECTION 1. SHORT TITLE. This Act may be cited ...</td>\n",
       "      <td>National Cancer Act of 2003 - Amends the Publi...</td>\n",
       "      <td>A bill to improve data collection and dissemin...</td>\n",
       "    </tr>\n",
       "    <tr>\n",
       "      <th>4</th>\n",
       "      <td>SECTION 1. SHORT TITLE. This Act may be cited ...</td>\n",
       "      <td>Military Call-up Relief Act - Amends the Inter...</td>\n",
       "      <td>A bill to amend the Internal Revenue Code of 1...</td>\n",
       "    </tr>\n",
       "  </tbody>\n",
       "</table>\n",
       "</div>"
      ],
      "text/plain": [
       "                                                text  \\\n",
       "0  SECTION 1. SHORT TITLE. This Act may be cited ...   \n",
       "1  SECTION 1. SHORT TITLE. This Act may be cited ...   \n",
       "2  SECTION 1. RELEASE OF DOCUMENTS CAPTURED IN IR...   \n",
       "3  SECTION 1. SHORT TITLE. This Act may be cited ...   \n",
       "4  SECTION 1. SHORT TITLE. This Act may be cited ...   \n",
       "\n",
       "                                             summary  \\\n",
       "0  National Science Education Tax Incentive for B...   \n",
       "1  Small Business Expansion and Hiring Act of 201...   \n",
       "2  Requires the Director of National Intelligence...   \n",
       "3  National Cancer Act of 2003 - Amends the Publi...   \n",
       "4  Military Call-up Relief Act - Amends the Inter...   \n",
       "\n",
       "                                               title  \n",
       "0  To amend the Internal Revenue Code of 1986 to ...  \n",
       "1  To amend the Internal Revenue Code of 1986 to ...  \n",
       "2  A bill to require the Director of National Int...  \n",
       "3  A bill to improve data collection and dissemin...  \n",
       "4  A bill to amend the Internal Revenue Code of 1...  "
      ]
     },
     "execution_count": 3,
     "metadata": {},
     "output_type": "execute_result"
    }
   ],
   "source": [
    "pd.options.mode.chained_assignment = None \n",
    "\n",
    "# s is input text\n",
    "def normalize_text(s, sep_token = \" \\n \"):\n",
    "    s = re.sub(r'\\s+',  ' ', s).strip()\n",
    "    s = re.sub(r\". ,\",\"\",s)\n",
    "    # remove all instances of multiple spaces\n",
    "    s = s.replace(\"..\",\".\")\n",
    "    s = s.replace(\". .\",\".\")\n",
    "    s = s.replace(\"\\n\", \"\")\n",
    "    s = s.strip()\n",
    "    \n",
    "    return s\n",
    "\n",
    "df_bills['text']= df_bills[\"text\"].apply(lambda x : normalize_text(x))\n",
    "df_bills.head()"
   ]
  },
  {
   "cell_type": "code",
   "execution_count": 4,
   "id": "fa08bde2",
   "metadata": {},
   "outputs": [
    {
     "data": {
      "text/html": [
       "<div>\n",
       "<style scoped>\n",
       "    .dataframe tbody tr th:only-of-type {\n",
       "        vertical-align: middle;\n",
       "    }\n",
       "\n",
       "    .dataframe tbody tr th {\n",
       "        vertical-align: top;\n",
       "    }\n",
       "\n",
       "    .dataframe thead th {\n",
       "        text-align: right;\n",
       "    }\n",
       "</style>\n",
       "<table border=\"1\" class=\"dataframe\">\n",
       "  <thead>\n",
       "    <tr style=\"text-align: right;\">\n",
       "      <th></th>\n",
       "      <th>text</th>\n",
       "      <th>summary</th>\n",
       "      <th>title</th>\n",
       "      <th>ada_v2</th>\n",
       "    </tr>\n",
       "  </thead>\n",
       "  <tbody>\n",
       "    <tr>\n",
       "      <th>0</th>\n",
       "      <td>SECTION 1. SHORT TITLE. This Act may be cited ...</td>\n",
       "      <td>National Science Education Tax Incentive for B...</td>\n",
       "      <td>To amend the Internal Revenue Code of 1986 to ...</td>\n",
       "      <td>[-0.02267872914671898, -0.007992359809577465, ...</td>\n",
       "    </tr>\n",
       "    <tr>\n",
       "      <th>1</th>\n",
       "      <td>SECTION 1. SHORT TITLE. This Act may be cited ...</td>\n",
       "      <td>Small Business Expansion and Hiring Act of 201...</td>\n",
       "      <td>To amend the Internal Revenue Code of 1986 to ...</td>\n",
       "      <td>[-0.04170488566160202, -0.009005059488117695, ...</td>\n",
       "    </tr>\n",
       "    <tr>\n",
       "      <th>2</th>\n",
       "      <td>SECTION 1. RELEASE OF DOCUMENTS CAPTURED IN IR...</td>\n",
       "      <td>Requires the Director of National Intelligence...</td>\n",
       "      <td>A bill to require the Director of National Int...</td>\n",
       "      <td>[-0.04132331907749176, -0.003348014783114195, ...</td>\n",
       "    </tr>\n",
       "    <tr>\n",
       "      <th>3</th>\n",
       "      <td>SECTION 1. SHORT TITLE. This Act may be cited ...</td>\n",
       "      <td>National Cancer Act of 2003 - Amends the Publi...</td>\n",
       "      <td>A bill to improve data collection and dissemin...</td>\n",
       "      <td>[-0.01324405800551176, -0.007176324725151062, ...</td>\n",
       "    </tr>\n",
       "    <tr>\n",
       "      <th>4</th>\n",
       "      <td>SECTION 1. SHORT TITLE. This Act may be cited ...</td>\n",
       "      <td>Military Call-up Relief Act - Amends the Inter...</td>\n",
       "      <td>A bill to amend the Internal Revenue Code of 1...</td>\n",
       "      <td>[-0.039218343794345856, -0.025535382330417633,...</td>\n",
       "    </tr>\n",
       "  </tbody>\n",
       "</table>\n",
       "</div>"
      ],
      "text/plain": [
       "                                                text  \\\n",
       "0  SECTION 1. SHORT TITLE. This Act may be cited ...   \n",
       "1  SECTION 1. SHORT TITLE. This Act may be cited ...   \n",
       "2  SECTION 1. RELEASE OF DOCUMENTS CAPTURED IN IR...   \n",
       "3  SECTION 1. SHORT TITLE. This Act may be cited ...   \n",
       "4  SECTION 1. SHORT TITLE. This Act may be cited ...   \n",
       "\n",
       "                                             summary  \\\n",
       "0  National Science Education Tax Incentive for B...   \n",
       "1  Small Business Expansion and Hiring Act of 201...   \n",
       "2  Requires the Director of National Intelligence...   \n",
       "3  National Cancer Act of 2003 - Amends the Publi...   \n",
       "4  Military Call-up Relief Act - Amends the Inter...   \n",
       "\n",
       "                                               title  \\\n",
       "0  To amend the Internal Revenue Code of 1986 to ...   \n",
       "1  To amend the Internal Revenue Code of 1986 to ...   \n",
       "2  A bill to require the Director of National Int...   \n",
       "3  A bill to improve data collection and dissemin...   \n",
       "4  A bill to amend the Internal Revenue Code of 1...   \n",
       "\n",
       "                                              ada_v2  \n",
       "0  [-0.02267872914671898, -0.007992359809577465, ...  \n",
       "1  [-0.04170488566160202, -0.009005059488117695, ...  \n",
       "2  [-0.04132331907749176, -0.003348014783114195, ...  \n",
       "3  [-0.01324405800551176, -0.007176324725151062, ...  \n",
       "4  [-0.039218343794345856, -0.025535382330417633,...  "
      ]
     },
     "execution_count": 4,
     "metadata": {},
     "output_type": "execute_result"
    }
   ],
   "source": [
    "from azure import generate_embeddings\n",
    "\n",
    "df_bills['ada_v2'] = df_bills[\"text\"].apply(lambda x : generate_embeddings (x, model = 'text-embedding-ada-002'))\n",
    "df_bills.head()"
   ]
  },
  {
   "cell_type": "markdown",
   "id": "428a026e",
   "metadata": {},
   "source": [
    "## <font color=red>Data를 Azure DB에 저장</font>"
   ]
  },
  {
   "cell_type": "code",
   "execution_count": 5,
   "id": "3de0b44f",
   "metadata": {},
   "outputs": [
    {
     "data": {
      "text/plain": [
       "138"
      ]
     },
     "execution_count": 5,
     "metadata": {},
     "output_type": "execute_result"
    }
   ],
   "source": [
    "from langchain.document_loaders import PyPDFLoader\n",
    "from langchain.text_splitter import RecursiveCharacterTextSplitter\n",
    "\n",
    "\n",
    "file_name = \"냉장고_메뉴얼2.pdf\"\n",
    "file_path = fr'.\\azure\\cognitive_search\\{file_name}'\n",
    "\n",
    "loader = PyPDFLoader(file_path)\n",
    "\n",
    "text_splitter = RecursiveCharacterTextSplitter(\n",
    "    chunk_size=300,\n",
    "    chunk_overlap=100,\n",
    "    length_function=len\n",
    ")\n",
    "pages = loader.load_and_split(text_splitter)\n",
    "len(pages)"
   ]
  },
  {
   "cell_type": "code",
   "execution_count": 6,
   "id": "d7b03593",
   "metadata": {},
   "outputs": [
    {
     "data": {
      "text/plain": [
       "Document(metadata={'producer': 'Acrobat Distiller 23.0 (Windows)', 'creator': 'FrameMaker 2017.0.4', 'creationdate': '2023-08-07T08:48:21+00:00', 'author': 'soyoung94.jang', 'moddate': '2023-08-07T08:52:34+09:00', 'title': 'ko-kr_main.book.book', 'source': '.\\\\azure\\\\cognitive_search\\\\냉장고_메뉴얼2.pdf', 'total_pages': 36, 'page': 0, 'page_label': '1'}, page_content=\"ࢲݺࢸ\\nպ\\u0a62Ҋ\\nਃ\\x0f\\nਃ\\x0f\\nਃ\\x0f\\n֙\\n\\x0f\\u05eeפ\\n\\n\\x0f\\u05eeפ\\n\\x16\\x14\\x19\\x11\\x13\\x18\\x11\\x18-'.\\n3FW\\x0f\\x11\\x18@\\x11\\x19\\x11\\x18\\x13\\x14\")"
      ]
     },
     "execution_count": 6,
     "metadata": {},
     "output_type": "execute_result"
    }
   ],
   "source": [
    "pages[0]"
   ]
  },
  {
   "cell_type": "markdown",
   "id": "4e67bef2",
   "metadata": {},
   "source": [
    "pdf로부터 텍스트를 추출했다고 가정\n",
    "- 아래는 의미없는 것들을 걸러내기 위한 함수임\n",
    "- ex 특수문자 같은 것들"
   ]
  },
  {
   "cell_type": "code",
   "execution_count": 7,
   "id": "a168accd",
   "metadata": {},
   "outputs": [],
   "source": [
    "import re\n",
    "\n",
    "def is_korean_english_ratio_high(text, threshold=0.8):\n",
    "    # 한글과 영어 문자를 찾기 위한 정규 표현식\n",
    "    korean_pattern = re.compile(r'[가-힣]')\n",
    "    english_pattern = re.compile(r'[a-zA-Z]')\n",
    "\n",
    "    # 한글과 영어 문자의 개수 세기\n",
    "    korean_count = len(korean_pattern.findall(text))\n",
    "    english_count = len(english_pattern.findall(text))\n",
    "\n",
    "    # 전체 문자에서 한글과 영어 문자의 비율 계산\n",
    "    total_count = len(text.replace(' ', ''))\n",
    "    if total_count == 0:\n",
    "        return False  # 텍스트가 비어있으면 False 반환\n",
    "\n",
    "    ratio = (korean_count + english_count) / total_count\n",
    "    return ratio >= threshold"
   ]
  },
  {
   "cell_type": "code",
   "execution_count": 1,
   "id": "448984a2",
   "metadata": {},
   "outputs": [],
   "source": [
    "from azure.cognitive_search.ai_search import AISearch\n",
    "\n",
    "ai_search = AISearch()"
   ]
  },
  {
   "cell_type": "code",
   "execution_count": 9,
   "id": "878883f0",
   "metadata": {},
   "outputs": [
    {
     "name": "stdout",
     "output_type": "stream",
     "text": [
      "Upload Success\n"
     ]
    },
    {
     "data": {
      "text/plain": [
       "<Response [200]>"
      ]
     },
     "execution_count": 9,
     "metadata": {},
     "output_type": "execute_result"
    }
   ],
   "source": [
    "contexts = []\n",
    "\n",
    "# 정확히는 page는 아님\n",
    "for page in pages:\n",
    "    if is_korean_english_ratio_high(page.page_content):\n",
    "        contexts.append({\n",
    "            'context' : page.page_content,\n",
    "            'file_name': file_name\n",
    "        })\n",
    "ai_search.upload(contexts)"
   ]
  },
  {
   "cell_type": "markdown",
   "id": "3e921330",
   "metadata": {},
   "source": [
    "## <font color=red>Data Search</font>"
   ]
  },
  {
   "cell_type": "code",
   "execution_count": 3,
   "id": "d33f76e2",
   "metadata": {},
   "outputs": [
    {
     "name": "stdout",
     "output_type": "stream",
     "text": [
      "Search Success\n",
      "[{'@search.score': 0.01666666753590107, 'id': '029dd98adde7dad14726be13efa3561f990ad488', 'context': '소음이나 이상한 소리가 \\n나요.\\n냉장고를 바닥이 약하거나 평평하지 않은 곳에 설치했나요?\\n• 냉장고는 바닥이 단단하고 수평인 곳에 설치하세요.\\n냉장고 뒷면이 벽에 닿았나요?\\n• 냉장고를 천장과 좌우 벽면에서 최소 10 cm 이상 떨어진 곳에 설치하세요.\\n냉장고 뒤나 위에 물건이 떨어져 있나요?\\n• 냉장고 뒤 또는 위에 있는 물건을 치우세요.\\n냉장고에서 소리가 \\n들려요.\\n“딱” “뚝” 하는 소리가 들리나요?\\n• 냉장고 안의 온도 변화에 따라 여러 부품들이 수축 또는 팽창하면서 나는'}, {'@search.score': 0.016393441706895828, 'id': '9d980d18ff06fd6d577f9dd21e57b7c4fd0fe141', 'context': '“꾸르륵~” 하며 물 흐르는 소리가 들리나요?\\n• 냉장실이나 냉동실에서 냉매의 상태가 액체 또는 기체로 바뀌면서 소리가 \\n납니다.\\n문을 닫고 바로 “슈~” “ 쉭~” 하는 바람 소리가 들리나요?\\n• 냉장고로 들어온 더운 공기가 빨리 차가워지면, 냉장고 안에서 공기를 차갑게 \\n만드는 냉매의 상태가 바뀌면서 소리가 납니다.\\n냉장고에서 떨리는 소리가 들리나요?\\n• 마루나 평평하지 않은 바닥 위, 나무 소재로 된 벽 앞에 냉장고를 설치하면 진동 \\n때문에 냉장고의 떨림 소리가 커질 수 있습니다.\\n증상 원인 및 해결책'}, {'@search.score': 0.016129031777381897, 'id': '47610f320b70c2a7134c8f9f454d3e2adf30491b', 'context': '냉장고에서 소리가 \\n들려요.\\n“딱” “뚝” 하는 소리가 들리나요?\\n• 냉장고 안의 온도 변화에 따라 여러 부품들이 수축 또는 팽창하면서 나는 \\n소리입니다. 냉장고의 제어 장치가 작동할 때도 소리가 납니다.\\n“드르륵~” “덜컥” “웅~” 같은 소리가 들리나요?\\n• 냉장고가 작동을 시작하거나 멈출 때 압축기나 팬이 돌아가면서 나는 \\n소리입니다. 자동차가 시동을 켜거나 끌 때 발생하는 소리와 비슷한 원리입니다.\\n“꾸르륵~” 하며 물 흐르는 소리가 들리나요?\\n• 냉장실이나 냉동실에서 냉매의 상태가 액체 또는 기체로 바뀌면서 소리가'}]\n"
     ]
    }
   ],
   "source": [
    "file_name = \"냉장고_메뉴얼2.pdf\"\n",
    "\n",
    "search_documents = ai_search.search(\n",
    "    query='noise',\n",
    "    file_name=file_name,\n",
    "    topk=3\n",
    ")\n",
    "\n",
    "print(search_documents)"
   ]
  },
  {
   "cell_type": "code",
   "execution_count": 4,
   "id": "ad34175f",
   "metadata": {},
   "outputs": [
    {
     "name": "stdout",
     "output_type": "stream",
     "text": [
      "소음이나 이상한 소리가 \n",
      "나요.\n",
      "냉장고를 바닥이 약하거나 평평하지 않은 곳에 설치했나요?\n",
      "• 냉장고는 바닥이 단단하고 수평인 곳에 설치하세요.\n",
      "냉장고 뒷면이 벽에 닿았나요?\n",
      "• 냉장고를 천장과 좌우 벽면에서 최소 10 cm 이상 떨어진 곳에 설치하세요.\n",
      "냉장고 뒤나 위에 물건이 떨어져 있나요?\n",
      "• 냉장고 뒤 또는 위에 있는 물건을 치우세요.\n",
      "냉장고에서 소리가 \n",
      "들려요.\n",
      "“딱” “뚝” 하는 소리가 들리나요?\n",
      "• 냉장고 안의 온도 변화에 따라 여러 부품들이 수축 또는 팽창하면서 나는\n"
     ]
    }
   ],
   "source": [
    "print(search_documents[0]['context'])"
   ]
  },
  {
   "cell_type": "markdown",
   "id": "2e2e47ae",
   "metadata": {},
   "source": [
    "## <font color=yellow>3. Web Search</font>"
   ]
  },
  {
   "cell_type": "code",
   "execution_count": 1,
   "id": "6c3db07f",
   "metadata": {},
   "outputs": [
    {
     "data": {
      "text/plain": [
       "[{'title': 'Samsung 대한민국 | 모바일 | TV | 가전 | IT',\n",
       "  'snippet': '삼성전자 및 삼성전자 임직원은 당사가 공식적으로 요청하지 않았음에도 불구하고 여러분께서 일방적으로 당사에 제출하는 아이디어나 제안 등을 수령하거나 검토하지\\xa0...',\n",
       "  'url': 'https://www.samsung.com/sec/'},\n",
       " {'title': '삼성전자 뉴스룸',\n",
       "  'snippet': \"최신기사 · 삼성전자, '2025 대한민국 올해의 녹색상품'서 대거 선정 · 더위를 뚫은 열기… · 삼성전자, 갤럭시 워치 울트라 기존 모델에 최신 '원 UI 8 워치' 업데이트\\xa0...\",\n",
       "  'url': 'https://news.samsung.com/kr/'},\n",
       " {'title': '삼성전자(005930)',\n",
       "  'snippet': 'no content',\n",
       "  'url': 'https://finance.naver.com/item/main.nhn?code=005930'}]"
      ]
     },
     "execution_count": 1,
     "metadata": {},
     "output_type": "execute_result"
    }
   ],
   "source": [
    "from azure.google_search.web import Web\n",
    "\n",
    "web = Web()\n",
    "web.search(\"삼성전자\")"
   ]
  },
  {
   "cell_type": "code",
   "execution_count": 1,
   "id": "65aa65dc",
   "metadata": {},
   "outputs": [
    {
     "data": {
      "text/plain": [
       "[{'title': '홈페이지 - BBC News 코리아',\n",
       "  'snippet': '6 hours ago ... 트럼프 대통령과 이시바 총리 · 교복 차림의 파르한 하산이 어른들에 둘러싸여 카메라를 응시하는 모습 · A woman weeps in the hospital · 남매가 포옹하고 있는 모습\\xa0...',\n",
       "  'url': 'https://www.bbc.com/korean'},\n",
       " {'title': \"트럼프, 일본과 '대규모' 무역 협상 타결...상호 관세 15% - BBC News ...\",\n",
       "  'snippet': '4 hours ago ... 도널드 트럼프 미국 대통령은 22일 일본과 무역 협상이 완료되었다면서 일본은 15%의 상호 관세를 낼 것이라고 주장했다.',\n",
       "  'url': 'https://www.bbc.com/korean/articles/cm20lky2kvyo'},\n",
       " {'title': '이재명 정부 1기 내각 인사청문회, 누가 통과했으며 누가 임명됐나 ...',\n",
       "  'snippet': '2 days ago ... 21일 기준 6명의 신임 장관이 공식 임명된 가운데 이재명 대통령이 이진숙 교육부 장관 후보자에 대한 지명을 철회했다. 이재명 정부 내각 가운데 첫\\xa0...',\n",
       "  'url': 'https://www.bbc.com/korean/articles/c74zp57gpnvo'}]"
      ]
     },
     "execution_count": 1,
     "metadata": {},
     "output_type": "execute_result"
    }
   ],
   "source": [
    "from azure.google_search.news import News\n",
    "\n",
    "news = News()\n",
    "news.search(\"트럼프 대통령\")"
   ]
  },
  {
   "cell_type": "code",
   "execution_count": 2,
   "id": "f0b95f60",
   "metadata": {},
   "outputs": [
    {
     "data": {
      "text/plain": [
       "[{'title': '홈페이지 - BBC News 코리아',\n",
       "  'snippet': \"6 hours ago ... 이재용 삼성전자 회장. 사법 리스크 털어낸 삼성 이재용, '위기의 삼성' 구할까? 2025년 7월 17일. 드루즈족의 깃발을 들고 있는 사람들. 이스라엘은 왜 시리아를 공격\\xa0...\",\n",
       "  'url': 'https://www.bbc.com/korean'},\n",
       " {'title': \"삼성 이재용, '10년 사법 리스크' 벗었다…앞으로의 과제는? - BBC ...\",\n",
       "  'snippet': \"6 days ago ... 이재용 삼성전자 회장이 '불법 승계' 관련 무죄 판결 확정으로 모든 사법 리스크를 털어냈다. 17일 대법원 3부(주심 오석준 대법관)는 부당합병·회계\\xa0...\",\n",
       "  'url': 'https://www.bbc.com/korean/articles/cql01wdv7e3o'},\n",
       " {'title': '윤석열, Page 9 / 10 - BBC News 코리아',\n",
       "  'snippet': 'Mar 29, 2025 ... 미국 대통령이 첫 일정으로 삼성전자 공장을 찾은 이유. 2022년 5월 21일. 윤석열 대통령과 조 바이든 미국 대통령이 20일 경기 평택 삼성전자 반도체. 오늘 한미정상회담\\xa0...',\n",
       "  'url': 'https://www.bbc.com/korean/topics/cne1xwzg9zpt?page=9'}]"
      ]
     },
     "execution_count": 2,
     "metadata": {},
     "output_type": "execute_result"
    }
   ],
   "source": [
    "news.search(\"삼성전자\")"
   ]
  },
  {
   "cell_type": "code",
   "execution_count": null,
   "id": "63052b1f",
   "metadata": {},
   "outputs": [],
   "source": []
  }
 ],
 "metadata": {
  "kernelspec": {
   "display_name": "torch",
   "language": "python",
   "name": "python3"
  },
  "language_info": {
   "codemirror_mode": {
    "name": "ipython",
    "version": 3
   },
   "file_extension": ".py",
   "mimetype": "text/x-python",
   "name": "python",
   "nbconvert_exporter": "python",
   "pygments_lexer": "ipython3",
   "version": "3.11.8"
  }
 },
 "nbformat": 4,
 "nbformat_minor": 5
}
